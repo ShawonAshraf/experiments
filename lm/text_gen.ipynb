{
 "cells": [
  {
   "cell_type": "code",
   "execution_count": 1,
   "metadata": {},
   "outputs": [],
   "source": [
    "import jsonlines\n",
    "import os\n",
    "\n",
    "file_path = os.path.join(os.getenv(\"DATADRIVE\"), \"datasets\", \"motikontho\", \"articles.jsonl\")\n",
    "assert os.path.exists(file_path)\n"
   ]
  },
  {
   "cell_type": "code",
   "execution_count": 16,
   "metadata": {},
   "outputs": [
    {
     "data": {
      "application/vnd.jupyter.widget-view+json": {
       "model_id": "66fefe23124a4287aec53bb6af2fcf20",
       "version_major": 2,
       "version_minor": 0
      },
      "text/plain": [
       "0it [00:00, ?it/s]"
      ]
     },
     "metadata": {},
     "output_type": "display_data"
    }
   ],
   "source": [
    "from typing import List\n",
    "from tqdm.auto import tqdm\n",
    "\n",
    "def read_contents(file_path: str) -> List[str]:\n",
    "    contents = list()\n",
    "\n",
    "    with jsonlines.open(file_path) as reader:\n",
    "        for _, obj in tqdm(enumerate(reader)):\n",
    "            contents.append(obj[\"content\"])\n",
    "            \n",
    "    return contents\n",
    "\n",
    "contents = read_contents(file_path)"
   ]
  },
  {
   "cell_type": "code",
   "execution_count": 17,
   "metadata": {},
   "outputs": [
    {
     "data": {
      "application/vnd.jupyter.widget-view+json": {
       "model_id": "c8563df9a96247d38ab7c2d3fc470f30",
       "version_major": 2,
       "version_minor": 0
      },
      "text/plain": [
       "  0%|          | 0/211 [00:00<?, ?it/s]"
      ]
     },
     "metadata": {},
     "output_type": "display_data"
    }
   ],
   "source": [
    "def clean(data: List[str]) -> List[str]:\n",
    "    cleaned = list()\n",
    "    for _, content in tqdm(enumerate(data), total=len(data)):\n",
    "        c = content.replace(\"\\xa0\", \" \")\n",
    "        c = content.replace(\"\\n\", \" \")\n",
    "        cleaned.append(c)\n",
    "        \n",
    "    return cleaned\n",
    "\n",
    "contents = clean(contents)\n"
   ]
  },
  {
   "cell_type": "code",
   "execution_count": 20,
   "metadata": {},
   "outputs": [],
   "source": [
    "import tiktoken\n",
    "\n",
    "enc = tiktoken.get_encoding(\"cl100k_base\")\n",
    "assert (enc.decode(enc.encode(contents[0]))) == contents[0]"
   ]
  },
  {
   "cell_type": "code",
   "execution_count": 24,
   "metadata": {},
   "outputs": [
    {
     "data": {
      "application/vnd.jupyter.widget-view+json": {
       "model_id": "c7a115c7214f46a7a200627b427b45ab",
       "version_major": 2,
       "version_minor": 0
      },
      "text/plain": [
       "  0%|          | 0/211 [00:00<?, ?it/s]"
      ]
     },
     "metadata": {},
     "output_type": "display_data"
    },
    {
     "data": {
      "text/plain": [
       "10056"
      ]
     },
     "execution_count": 24,
     "metadata": {},
     "output_type": "execute_result"
    }
   ],
   "source": [
    "from typing import Any\n",
    "\n",
    "# encode with tiktoken and find the max seq len\n",
    "# to determine the batch size and block size\n",
    "def find_max_enc_seq_len(contents: List[str], enc: Any) -> int:\n",
    "    max_len = 0\n",
    "    \n",
    "    for _, content in tqdm(enumerate(contents), total=len(contents)):\n",
    "        x = enc.encode(content)\n",
    "        if len(x) > max_len:\n",
    "            max_len = len(x)\n",
    "    \n",
    "    return max_len\n",
    "\n",
    "max_seq_len = find_max_enc_seq_len(contents, enc)\n",
    "max_seq_len"
   ]
  },
  {
   "cell_type": "markdown",
   "metadata": {},
   "source": [
    "What if I merge all the texts and then create blocks from them? "
   ]
  },
  {
   "cell_type": "code",
   "execution_count": 29,
   "metadata": {},
   "outputs": [
    {
     "data": {
      "text/plain": [
       "465763"
      ]
     },
     "execution_count": 29,
     "metadata": {},
     "output_type": "execute_result"
    }
   ],
   "source": [
    "merged = \"\".join(c for c in contents)\n",
    "merged_encoded = enc.encode(merged)\n",
    "merged_enc_len = len(merged_encoded)\n",
    "\n",
    "merged_enc_len"
   ]
  },
  {
   "cell_type": "code",
   "execution_count": 34,
   "metadata": {},
   "outputs": [
    {
     "data": {
      "text/plain": [
       "7277.546875"
      ]
     },
     "execution_count": 34,
     "metadata": {},
     "output_type": "execute_result"
    }
   ],
   "source": [
    "block_size = 64\n",
    "\n",
    "n_blocks = merged_enc_len / block_size\n",
    "n_blocks"
   ]
  },
  {
   "cell_type": "code",
   "execution_count": 97,
   "metadata": {},
   "outputs": [],
   "source": [
    "from typing import Tuple\n",
    "import numpy as np\n",
    "\n",
    "# create train and validation split\n",
    "# pass in file contents\n",
    "\n",
    "\n",
    "def create_train_val_split(contents: List[str], ratio: float = 0.25, seed: int = 42) -> Tuple:\n",
    "    np.random.seed(seed)\n",
    "\n",
    "    # shuffle contents\n",
    "    total_len = len(contents)\n",
    "    shuffled_idxs = np.random.choice(np.arange(total_len))\n",
    "    shuffled_idxs = shuffled_idxs.tolist()\n",
    "\n",
    "    # pick ratio sized text\n",
    "    train_last_idx = int(total_len * ratio) - 1\n",
    "    val_first_idx = train_last_idx + 1\n",
    "\n",
    "    # merge all the train\n",
    "    train_split = contents[:train_last_idx]\n",
    "    train_merged = \"\".join(x for x in train_split)\n",
    "    \n",
    "    val_split = contents[val_first_idx:]\n",
    "    val_merged = \"\".join(x for x in val_split)\n",
    "\n",
    "    return train_merged, val_merged\n",
    "\n",
    "\n",
    "train, val = create_train_val_split(contents)\n"
   ]
  },
  {
   "cell_type": "code",
   "execution_count": 99,
   "metadata": {},
   "outputs": [],
   "source": [
    "import torch\n",
    "from torch.utils.data import Dataset\n",
    "\n",
    "class PutunSet(Dataset):\n",
    "    def __init__(self, all_text: str, enc_name: str=\"cl100k_base\", block_size: int=64) -> None:\n",
    "        self.all_text = all_text\n",
    "        self.enc_name = enc_name\n",
    "        self.block_size = block_size\n",
    "        \n",
    "        self.encoder = tiktoken.get_encoding(self.enc_name)\n",
    "        \n",
    "        self.encoded = self.__encode_all()\n",
    "        self.encoded_blocks = list()\n",
    "        self.__create_blocks()\n",
    "        \n",
    "        self.n_blocks = len(self.encoded_blocks)\n",
    "        \n",
    "    def __encode_all(self) -> Any:\n",
    "        return self.encoder.encode(self.all_text)\n",
    "    \n",
    "    def __create_blocks(self) -> Any:\n",
    "        for i in range(len(self.encoded)):\n",
    "            self.encoded_blocks.append(\n",
    "                self.encoded[i: self.block_size + i]\n",
    "            )\n",
    "    \n",
    "    # return the number of blocks\n",
    "    def __len__(self) -> int:\n",
    "        return len(self.encoded_blocks)\n",
    "    \n",
    "    def __getitem__(self, index) -> torch.Tensor:\n",
    "        block_at_index = self.encoded_blocks[index]\n",
    "        \n",
    "        if len(block_at_index) < self.block_size:\n",
    "            # requires padding\n",
    "            padded = torch.zeros((self.block_size, ), dtype=torch.long)\n",
    "            padded[:len(block_at_index)] = torch.tensor(block_at_index, dtype=torch.long)\n",
    "            return padded\n",
    "        \n",
    "        return torch.tensor(block_at_index, dtype=torch.long)"
   ]
  },
  {
   "cell_type": "code",
   "execution_count": 100,
   "metadata": {},
   "outputs": [],
   "source": [
    "trainset = PutunSet(train)\n",
    "valset = PutunSet(val)"
   ]
  },
  {
   "cell_type": "code",
   "execution_count": 101,
   "metadata": {},
   "outputs": [],
   "source": [
    "import torch.nn as nn\n",
    "import torch.nn.functional as F\n",
    "import torchopt as optim"
   ]
  },
  {
   "cell_type": "code",
   "execution_count": 102,
   "metadata": {},
   "outputs": [],
   "source": [
    "# https://pytorch.org/tutorials/beginner/transformer_tutorial.html\n",
    "\n",
    "class PositionalEncoding(nn.Module):\n",
    "\n",
    "    def __init__(self, d_model: int, dropout: float = 0.1, max_len: int = 5000):\n",
    "        super().__init__()\n",
    "        self.dropout = nn.Dropout(p=dropout)\n",
    "\n",
    "        position = torch.arange(max_len).unsqueeze(1)\n",
    "        div_term = torch.exp(torch.arange(0, d_model, 2)\n",
    "                             * (-math.log(10000.0) / d_model))\n",
    "        pe = torch.zeros(max_len, 1, d_model)\n",
    "        pe[:, 0, 0::2] = torch.sin(position * div_term)\n",
    "        pe[:, 0, 1::2] = torch.cos(position * div_term)\n",
    "        self.register_buffer('pe', pe)\n",
    "\n",
    "    def forward(self, x: torch.Tensor) -> torch.Tensor:\n",
    "        \"\"\"\n",
    "        Arguments:\n",
    "            x: Tensor, shape ``[seq_len, batch_size, embedding_dim]``\n",
    "        \"\"\"\n",
    "        x = x + self.pe[:x.size(0)]\n",
    "        return self.dropout(x)\n"
   ]
  },
  {
   "cell_type": "code",
   "execution_count": 115,
   "metadata": {},
   "outputs": [],
   "source": [
    "import math\n",
    "\n",
    "class PutuMaraShara(nn.Module):\n",
    "    def __init__(self, d_model: int, vocab_size: int, n_decoder_heads: int, d_hidden: int, device: str=\"cuda\") -> None:\n",
    "        super().__init__()\n",
    "        \n",
    "        self.d_model = d_model\n",
    "        self.device = device\n",
    "        \n",
    "        self.pos_encoder = PositionalEncoding(d_model=self.d_model)\n",
    "        \n",
    "        decoder_layers = nn.TransformerDecoderLayer(d_model=self.d_model, nhead=n_decoder_heads, batch_first=True)\n",
    "        self.decoder = nn.TransformerDecoder(decoder_layers, 4)\n",
    "        \n",
    "        self.embedding = nn.Embedding(vocab_size, d_model)\n",
    "        self.linear = nn.Linear(self.d_model, d_hidden)\n",
    "        \n",
    "        \n",
    "        self.init_weights()\n",
    "    \n",
    "    # from: https://pytorch.org/tutorials/beginner/transformer_tutorial.html\n",
    "    def init_weights(self) -> None:\n",
    "        initrange = 0.1\n",
    "        self.embedding.weight.data.uniform_(-initrange, initrange)\n",
    "        self.linear.bias.data.zero_()\n",
    "        self.linear.weight.data.uniform_(-initrange, initrange)\n",
    "        \n",
    "    def create_mask(self, src):\n",
    "        # since input will be batched anyways\n",
    "        # src is going to be of dim: batch, seq\n",
    "        mask_dim = -1\n",
    "        mask_size = src.size(mask_dim)\n",
    "        \n",
    "        mask = torch.tril(torch.ones(mask_size, mask_size))\n",
    "        # block out the future tokens\n",
    "        # elements in the upper triangle will be zero after tril\n",
    "        # setting the zeroes to -inf so that they appear non accessible\n",
    "        # to the model\n",
    "        mask = mask.float().masked_fill(mask == 0, float(\"-inf\"))\n",
    "        return mask\n",
    "        \n",
    "        \n",
    "    # in an encoder mask will be none. Since this is a decoder based transformer\n",
    "    # there will be mask\n",
    "    def forward(self, src: torch.Tensor) -> torch.Tensor:\n",
    "        src = self.embedding(src) * math.sqrt(self.d_model)\n",
    "        src = self.pos_encoder(src)\n",
    "        \n",
    "        src_mask = self.create_mask(src)\n",
    "        if src_mask.device != self.device:\n",
    "            src_mask = src_mask.to(self.device)\n",
    "        \n",
    "        out = self.decoder(src, src_mask)\n",
    "        out = self.linear(out)\n",
    "        \n",
    "        # apply softmax \n",
    "        out = F.log_softmax(out, dim=-1)\n",
    "        \n",
    "        return out\n",
    "    \n",
    "    \n",
    "model = PutuMaraShara(d_model=512, vocab_size=enc.n_vocab, n_decoder_heads=8, d_hidden=768)"
   ]
  },
  {
   "cell_type": "code",
   "execution_count": 116,
   "metadata": {},
   "outputs": [],
   "source": [
    "device = \"cuda\"\n",
    "\n",
    "optimizer = optim.AdamW(model.parameters(), lr=1e-3)\n",
    "criterion = nn.CrossEntropyLoss()"
   ]
  },
  {
   "cell_type": "code",
   "execution_count": null,
   "metadata": {},
   "outputs": [],
   "source": []
  }
 ],
 "metadata": {
  "kernelspec": {
   "display_name": "exp",
   "language": "python",
   "name": "python3"
  },
  "language_info": {
   "codemirror_mode": {
    "name": "ipython",
    "version": 3
   },
   "file_extension": ".py",
   "mimetype": "text/x-python",
   "name": "python",
   "nbconvert_exporter": "python",
   "pygments_lexer": "ipython3",
   "version": "3.10.8"
  },
  "orig_nbformat": 4
 },
 "nbformat": 4,
 "nbformat_minor": 2
}
