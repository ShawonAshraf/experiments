{
 "cells": [
  {
   "cell_type": "code",
   "execution_count": 1,
   "id": "f5b15872",
   "metadata": {},
   "outputs": [
    {
     "name": "stdout",
     "output_type": "stream",
     "text": [
      "Already downloaded!\n"
     ]
    }
   ],
   "source": [
    "import os\n",
    "import urllib\n",
    "import sys\n",
    "\n",
    "url = \"https://raw.githubusercontent.com/karpathy/char-rnn/master/data/tinyshakespeare/input.txt\"\n",
    "\n",
    "os.makedirs(\"data\", exist_ok=True)\n",
    "\n",
    "def download(url):\n",
    "    file_name = url.split(\"/\")[-1]\n",
    "    download_path = os.path.join(\"./data\", file_name)\n",
    "    \n",
    "    if os.path.exists(download_path):\n",
    "        print(\"Already downloaded!\")\n",
    "        \n",
    "    else:\n",
    "        # ============================================ download\n",
    "        print(\"Downloading, sit tight!\")\n",
    "\n",
    "        def _progress(count, block_size, total_size):\n",
    "            sys.stdout.write(\n",
    "                f\"\\r>> Downloading {file_name} {float(count * block_size) / float(total_size) * 100.0}%\")\n",
    "            sys.stdout.flush()\n",
    "\n",
    "        file_path, _ = urllib.request.urlretrieve(\n",
    "            url, download_path, _progress)\n",
    "        print()\n",
    "        print(\n",
    "            f\"Successfully downloaded {file_name} {os.stat(file_path).st_size} bytes\")\n",
    "        \n",
    "download(url)"
   ]
  },
  {
   "cell_type": "code",
   "execution_count": 2,
   "id": "9aca550f",
   "metadata": {},
   "outputs": [],
   "source": [
    "import string\n",
    "\n",
    "def read_data(file_path=\"./data/input.txt\"):\n",
    "    assert os.path.exists(file_path)\n",
    "    \n",
    "    with open(file_path, \"r\") as f:\n",
    "        data = f.read()\n",
    "    \n",
    "    data = data.replace(\"\\n\", \" \")\n",
    "    data = data.translate(str.maketrans('', '', string.punctuation))\n",
    "    return data\n",
    "    \n",
    "data = read_data()"
   ]
  },
  {
   "cell_type": "code",
   "execution_count": 3,
   "id": "59facd3e",
   "metadata": {},
   "outputs": [
    {
     "data": {
      "application/vnd.jupyter.widget-view+json": {
       "model_id": "0cf0469ec2a0465bbde1c505a2bc2317",
       "version_major": 2,
       "version_minor": 0
      },
      "text/plain": [
       "  0%|          | 0/14745 [00:00<?, ?it/s]"
      ]
     },
     "metadata": {},
     "output_type": "display_data"
    }
   ],
   "source": [
    "from tqdm.auto import tqdm\n",
    "\n",
    "def create_vocab(data=data):    \n",
    "    tokens = data.split(\" \")\n",
    "    tokens = [tok for tok in tokens if tok != \"\"]\n",
    "    words = set(tokens)\n",
    "    \n",
    "    word_to_idx = dict()\n",
    "    idx_to_word = dict()\n",
    "    for idx, word in tqdm(enumerate(words), total=len(words)) :\n",
    "        word_to_idx[word] = idx\n",
    "        idx_to_word[idx] = word\n",
    "    \n",
    "    return tokens, words, word_to_idx, idx_to_word\n",
    "    \n",
    "    \n",
    "toks, words, wti, itw = create_vocab()"
   ]
  },
  {
   "cell_type": "code",
   "execution_count": 4,
   "id": "aabf484b",
   "metadata": {},
   "outputs": [
    {
     "name": "stdout",
     "output_type": "stream",
     "text": [
      "Vocab Size: 14745\n"
     ]
    }
   ],
   "source": [
    "print(f\"Vocab Size: {len(words)}\")"
   ]
  },
  {
   "cell_type": "code",
   "execution_count": 5,
   "id": "efacd5ef",
   "metadata": {},
   "outputs": [],
   "source": [
    "import numpy as np\n",
    "\n",
    "# an array containing the frequency of all words\n",
    "# use itw and wti for index reference\n",
    "\n",
    "vocab_size = len(words)\n",
    "freqs = np.zeros(shape=(vocab_size, ), dtype=np.int32)"
   ]
  },
  {
   "cell_type": "code",
   "execution_count": 6,
   "id": "312b8f45",
   "metadata": {},
   "outputs": [],
   "source": [
    "# populate counts\n",
    "from collections import Counter\n",
    "\n",
    "counts = Counter(toks)"
   ]
  },
  {
   "cell_type": "code",
   "execution_count": 7,
   "id": "9f7ee687",
   "metadata": {},
   "outputs": [
    {
     "data": {
      "application/vnd.jupyter.widget-view+json": {
       "model_id": "467e11c6953040b2b422abed3d7008d8",
       "version_major": 2,
       "version_minor": 0
      },
      "text/plain": [
       "  0%|          | 0/14745 [00:00<?, ?it/s]"
      ]
     },
     "metadata": {},
     "output_type": "display_data"
    },
    {
     "data": {
      "text/plain": [
       "array([10,  7, 39, ...,  1,  4,  1], dtype=int32)"
      ]
     },
     "execution_count": 7,
     "metadata": {},
     "output_type": "execute_result"
    }
   ],
   "source": [
    "for idx, w in tqdm(enumerate(words), total=vocab_size):\n",
    "    c = counts[w]\n",
    "    freqs[idx] = c\n",
    "    \n",
    "freqs"
   ]
  },
  {
   "cell_type": "code",
   "execution_count": 8,
   "id": "e9b8a3c6",
   "metadata": {},
   "outputs": [
    {
     "data": {
      "text/plain": [
       "array([6.78195999e-04, 4.74737199e-04, 2.64496439e-03, ...,\n",
       "       6.78195999e-05, 2.71278399e-04, 6.78195999e-05])"
      ]
     },
     "execution_count": 8,
     "metadata": {},
     "output_type": "execute_result"
    }
   ],
   "source": [
    "probs = freqs / float(vocab_size)\n",
    "probs"
   ]
  },
  {
   "cell_type": "code",
   "execution_count": 9,
   "id": "c1f3bd83",
   "metadata": {},
   "outputs": [
    {
     "data": {
      "text/plain": [
       "0.9999999999999998"
      ]
     },
     "execution_count": 9,
     "metadata": {},
     "output_type": "execute_result"
    }
   ],
   "source": [
    "from scipy.special import softmax\n",
    "\n",
    "prob_dist = softmax(probs, axis=0)\n",
    "\n",
    "np.sum(prob_dist)\n",
    "    "
   ]
  },
  {
   "cell_type": "code",
   "execution_count": null,
   "id": "a6e33ead",
   "metadata": {},
   "outputs": [],
   "source": []
  }
 ],
 "metadata": {
  "kernelspec": {
   "display_name": "Python 3 (ipykernel)",
   "language": "python",
   "name": "python3"
  },
  "language_info": {
   "codemirror_mode": {
    "name": "ipython",
    "version": 3
   },
   "file_extension": ".py",
   "mimetype": "text/x-python",
   "name": "python",
   "nbconvert_exporter": "python",
   "pygments_lexer": "ipython3",
   "version": "3.10.8"
  }
 },
 "nbformat": 4,
 "nbformat_minor": 5
}
