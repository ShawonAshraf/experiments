{
 "cells": [
  {
   "cell_type": "markdown",
   "metadata": {},
   "source": [
    "From the number theory module 6A in Intro to modern cryptography course.\n",
    "\n",
    "Example: 7^13 mod 11 = 2\n",
    "\n",
    "Is it really necessary to explain things in a complicated manner? \n",
    "P.S. not männer."
   ]
  },
  {
   "cell_type": "code",
   "execution_count": 1,
   "metadata": {},
   "outputs": [],
   "source": [
    "def fast_exp_mod(number, binary_str_e, mod):\n",
    "    i = len(binary_str_e) - 1 # another way is to take the floor of the 2 based log of e\n",
    "    h = 1\n",
    "    k = number\n",
    "    \n",
    "    while i >= 0:\n",
    "        if binary_str_e[i] == \"1\":\n",
    "            h = (h * k) % mod\n",
    "        \n",
    "        # square up k and then mod\n",
    "        k = (k ** 2) % 11\n",
    "        \n",
    "        i -= 1\n",
    "    \n",
    "    return h"
   ]
  },
  {
   "cell_type": "code",
   "execution_count": 2,
   "metadata": {},
   "outputs": [],
   "source": [
    "number = 7\n",
    "e = 13\n",
    "binary_str_e = \"{0:b}\".format(e)\n",
    "mod = 11"
   ]
  },
  {
   "cell_type": "code",
   "execution_count": 3,
   "metadata": {},
   "outputs": [
    {
     "data": {
      "text/plain": [
       "2"
      ]
     },
     "execution_count": 3,
     "metadata": {},
     "output_type": "execute_result"
    }
   ],
   "source": [
    "fast_exp_mod(number, binary_str_e, mod)"
   ]
  }
 ],
 "metadata": {
  "kernelspec": {
   "display_name": "Python 3",
   "language": "python",
   "name": "python3"
  },
  "language_info": {
   "codemirror_mode": {
    "name": "ipython",
    "version": 3
   },
   "file_extension": ".py",
   "mimetype": "text/x-python",
   "name": "python",
   "nbconvert_exporter": "python",
   "pygments_lexer": "ipython3",
   "version": "3.6.12"
  }
 },
 "nbformat": 4,
 "nbformat_minor": 4
}
