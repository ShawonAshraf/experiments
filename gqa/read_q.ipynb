{
 "cells": [
  {
   "cell_type": "code",
   "execution_count": 1,
   "id": "f036e3e3",
   "metadata": {},
   "outputs": [],
   "source": [
    "import os\n",
    "import bigjson"
   ]
  },
  {
   "cell_type": "code",
   "execution_count": 6,
   "id": "3227c3ad",
   "metadata": {},
   "outputs": [],
   "source": [
    "question_path = os.path.join(\n",
    "    os.getenv(\"STORAGE\"),\n",
    "    \"datasets\",\n",
    "    \"GQA\",\n",
    "    \"questions\"\n",
    ")"
   ]
  },
  {
   "cell_type": "code",
   "execution_count": 7,
   "id": "0a1a39e9",
   "metadata": {},
   "outputs": [
    {
     "data": {
      "text/plain": [
       "['challenge_all_questions.json',\n",
       " 'challenge_balanced_questions.json',\n",
       " 'minitest.json',\n",
       " 'readme.txt',\n",
       " 'submission_all_questions.json',\n",
       " 'testdev_all_questions.json',\n",
       " 'testdev_balanced_questions.json',\n",
       " 'test_all_questions.json',\n",
       " 'test_balanced_questions.json',\n",
       " 'train_all_questions',\n",
       " 'train_balanced_questions.json',\n",
       " 'val_all_questions.json',\n",
       " 'val_balanced_questions.json']"
      ]
     },
     "execution_count": 7,
     "metadata": {},
     "output_type": "execute_result"
    }
   ],
   "source": [
    "os.listdir(question_path)"
   ]
  },
  {
   "cell_type": "code",
   "execution_count": 13,
   "id": "fe7f403b",
   "metadata": {},
   "outputs": [
    {
     "name": "stdout",
     "output_type": "stream",
     "text": [
      "<bigjson.obj.Object object at 0x7fb64bcfe850>\n"
     ]
    }
   ],
   "source": [
    "q_file = os.path.join(question_path, \"train_balanced_questions.json\")\n",
    "\n",
    "with open(q_file, \"rb\") as f:\n",
    "    data = bigjson.load(f)\n",
    "    print(data[\"02930152\"])"
   ]
  },
  {
   "cell_type": "code",
   "execution_count": 14,
   "id": "8cdf01b4",
   "metadata": {},
   "outputs": [
    {
     "data": {
      "text/plain": [
       "148854"
      ]
     },
     "execution_count": 14,
     "metadata": {},
     "output_type": "execute_result"
    }
   ],
   "source": [
    "images_path = os.path.join(\n",
    "    os.getenv(\"STORAGE\"),\n",
    "    \"datasets\",\n",
    "    \"GQA\",\n",
    "    \"images\"\n",
    ")\n",
    "\n",
    "image_names = os.listdir(images_path)\n",
    "len(image_names)"
   ]
  },
  {
   "cell_type": "code",
   "execution_count": 15,
   "id": "36f05967",
   "metadata": {},
   "outputs": [
    {
     "data": {
      "text/plain": [
       "'1.jpg'"
      ]
     },
     "execution_count": 15,
     "metadata": {},
     "output_type": "execute_result"
    }
   ],
   "source": [
    "image_names[0]"
   ]
  },
  {
   "cell_type": "code",
   "execution_count": 16,
   "id": "d2993f63",
   "metadata": {},
   "outputs": [
    {
     "data": {
      "text/plain": [
       "'102'"
      ]
     },
     "execution_count": 16,
     "metadata": {},
     "output_type": "execute_result"
    }
   ],
   "source": [
    "# pick one image\n",
    "image = image_names[23]\n",
    "image_id = image.split(\".\")[0]\n",
    "image_id"
   ]
  },
  {
   "cell_type": "markdown",
   "id": "586bd818",
   "metadata": {},
   "source": [
    "So the problem is that the question object holds the image id. Not the other way around. (Since image is grounded by text!)"
   ]
  },
  {
   "cell_type": "code",
   "execution_count": 19,
   "id": "32cff270",
   "metadata": {},
   "outputs": [
    {
     "name": "stdout",
     "output_type": "stream",
     "text": [
      "CPU times: user 2min 55s, sys: 2.77 s, total: 2min 58s\n",
      "Wall time: 2min 58s\n"
     ]
    }
   ],
   "source": [
    "import pandas as pd\n",
    "\n",
    "%time df = pd.read_json(q_file)"
   ]
  },
  {
   "cell_type": "code",
   "execution_count": 21,
   "id": "b037c7d7",
   "metadata": {},
   "outputs": [
    {
     "data": {
      "text/html": [
       "<div>\n",
       "<style scoped>\n",
       "    .dataframe tbody tr th:only-of-type {\n",
       "        vertical-align: middle;\n",
       "    }\n",
       "\n",
       "    .dataframe tbody tr th {\n",
       "        vertical-align: top;\n",
       "    }\n",
       "\n",
       "    .dataframe thead th {\n",
       "        text-align: right;\n",
       "    }\n",
       "</style>\n",
       "<table border=\"1\" class=\"dataframe\">\n",
       "  <thead>\n",
       "    <tr style=\"text-align: right;\">\n",
       "      <th></th>\n",
       "      <th>semantic</th>\n",
       "      <th>entailed</th>\n",
       "      <th>equivalent</th>\n",
       "      <th>question</th>\n",
       "      <th>imageId</th>\n",
       "      <th>isBalanced</th>\n",
       "      <th>groups</th>\n",
       "      <th>answer</th>\n",
       "      <th>semanticStr</th>\n",
       "      <th>annotations</th>\n",
       "      <th>types</th>\n",
       "      <th>fullAnswer</th>\n",
       "    </tr>\n",
       "  </thead>\n",
       "  <tbody>\n",
       "    <tr>\n",
       "      <th>2930152</th>\n",
       "      <td>[{'operation': 'select', 'dependencies': [], '...</td>\n",
       "      <td>[02930160, 02930158, 02930159, 02930154, 02930...</td>\n",
       "      <td>[02930152]</td>\n",
       "      <td>Is the sky dark?</td>\n",
       "      <td>2354786</td>\n",
       "      <td>True</td>\n",
       "      <td>{'global': None, 'local': '06-sky_dark'}</td>\n",
       "      <td>yes</td>\n",
       "      <td>select: sky (2486325)-&gt;verify color: dark [0]</td>\n",
       "      <td>{'answer': {}, 'question': {'2': '2486325'}, '...</td>\n",
       "      <td>{'detailed': 'verifyAttr', 'semantic': 'attr',...</td>\n",
       "      <td>Yes, the sky is dark.</td>\n",
       "    </tr>\n",
       "    <tr>\n",
       "      <th>7333408</th>\n",
       "      <td>[{'operation': 'select', 'dependencies': [], '...</td>\n",
       "      <td>[]</td>\n",
       "      <td>[07333408]</td>\n",
       "      <td>What is on the white wall?</td>\n",
       "      <td>2375429</td>\n",
       "      <td>True</td>\n",
       "      <td>{'global': '', 'local': '14-wall_on,s'}</td>\n",
       "      <td>pipe</td>\n",
       "      <td>select: wall (722332)-&gt;filter color: white [0]...</td>\n",
       "      <td>{'answer': {'0': '722335'}, 'question': {'4:6'...</td>\n",
       "      <td>{'detailed': 'relS', 'semantic': 'rel', 'struc...</td>\n",
       "      <td>The pipe is on the wall.</td>\n",
       "    </tr>\n",
       "    <tr>\n",
       "      <th>7333405</th>\n",
       "      <td>[{'operation': 'select', 'dependencies': [], '...</td>\n",
       "      <td>[07333406]</td>\n",
       "      <td>[07333405]</td>\n",
       "      <td>Is that pipe red?</td>\n",
       "      <td>2375429</td>\n",
       "      <td>True</td>\n",
       "      <td>{'global': None, 'local': '06-pipe_red'}</td>\n",
       "      <td>no</td>\n",
       "      <td>select: pipe (722335)-&gt;verify color: red [0]</td>\n",
       "      <td>{'answer': {}, 'question': {'2': '722335'}, 'f...</td>\n",
       "      <td>{'detailed': 'verifyAttrC', 'semantic': 'attr'...</td>\n",
       "      <td>No, the pipe is white.</td>\n",
       "    </tr>\n",
       "    <tr>\n",
       "      <th>15736264</th>\n",
       "      <td>[{'operation': 'select', 'dependencies': [], '...</td>\n",
       "      <td>[15736259, 15736258, 15736267, 15736253, 15736...</td>\n",
       "      <td>[15736264]</td>\n",
       "      <td>Is the tall clock small or large?</td>\n",
       "      <td>2368326</td>\n",
       "      <td>True</td>\n",
       "      <td>{'global': 'size', 'local': '10c-clock_size'}</td>\n",
       "      <td>large</td>\n",
       "      <td>select: clock (746851)-&gt;filter height: tall [0...</td>\n",
       "      <td>{'answer': {}, 'question': {'2:4': '746851'}, ...</td>\n",
       "      <td>{'detailed': 'chooseAttr', 'semantic': 'attr',...</td>\n",
       "      <td>The clock is large.</td>\n",
       "    </tr>\n",
       "    <tr>\n",
       "      <th>111007521</th>\n",
       "      <td>[{'operation': 'select', 'dependencies': [], '...</td>\n",
       "      <td>[]</td>\n",
       "      <td>[111007521]</td>\n",
       "      <td>Who is wearing a shirt?</td>\n",
       "      <td>2331819</td>\n",
       "      <td>True</td>\n",
       "      <td>{'global': 'person', 'local': '14-shirt_wearin...</td>\n",
       "      <td>girl</td>\n",
       "      <td>select: shirt (4653737)-&gt;relate: person,wearin...</td>\n",
       "      <td>{'answer': {'0': '4653736'}, 'question': {'4':...</td>\n",
       "      <td>{'detailed': 'relS', 'semantic': 'rel', 'struc...</td>\n",
       "      <td>The girl is wearing a shirt.</td>\n",
       "    </tr>\n",
       "  </tbody>\n",
       "</table>\n",
       "</div>"
      ],
      "text/plain": [
       "                                                    semantic  \\\n",
       "2930152    [{'operation': 'select', 'dependencies': [], '...   \n",
       "7333408    [{'operation': 'select', 'dependencies': [], '...   \n",
       "7333405    [{'operation': 'select', 'dependencies': [], '...   \n",
       "15736264   [{'operation': 'select', 'dependencies': [], '...   \n",
       "111007521  [{'operation': 'select', 'dependencies': [], '...   \n",
       "\n",
       "                                                    entailed   equivalent  \\\n",
       "2930152    [02930160, 02930158, 02930159, 02930154, 02930...   [02930152]   \n",
       "7333408                                                   []   [07333408]   \n",
       "7333405                                           [07333406]   [07333405]   \n",
       "15736264   [15736259, 15736258, 15736267, 15736253, 15736...   [15736264]   \n",
       "111007521                                                 []  [111007521]   \n",
       "\n",
       "                                    question  imageId isBalanced  \\\n",
       "2930152                     Is the sky dark?  2354786       True   \n",
       "7333408           What is on the white wall?  2375429       True   \n",
       "7333405                    Is that pipe red?  2375429       True   \n",
       "15736264   Is the tall clock small or large?  2368326       True   \n",
       "111007521            Who is wearing a shirt?  2331819       True   \n",
       "\n",
       "                                                      groups answer  \\\n",
       "2930152             {'global': None, 'local': '06-sky_dark'}    yes   \n",
       "7333408              {'global': '', 'local': '14-wall_on,s'}   pipe   \n",
       "7333405             {'global': None, 'local': '06-pipe_red'}     no   \n",
       "15736264       {'global': 'size', 'local': '10c-clock_size'}  large   \n",
       "111007521  {'global': 'person', 'local': '14-shirt_wearin...   girl   \n",
       "\n",
       "                                                 semanticStr  \\\n",
       "2930152        select: sky (2486325)->verify color: dark [0]   \n",
       "7333408    select: wall (722332)->filter color: white [0]...   \n",
       "7333405         select: pipe (722335)->verify color: red [0]   \n",
       "15736264   select: clock (746851)->filter height: tall [0...   \n",
       "111007521  select: shirt (4653737)->relate: person,wearin...   \n",
       "\n",
       "                                                 annotations  \\\n",
       "2930152    {'answer': {}, 'question': {'2': '2486325'}, '...   \n",
       "7333408    {'answer': {'0': '722335'}, 'question': {'4:6'...   \n",
       "7333405    {'answer': {}, 'question': {'2': '722335'}, 'f...   \n",
       "15736264   {'answer': {}, 'question': {'2:4': '746851'}, ...   \n",
       "111007521  {'answer': {'0': '4653736'}, 'question': {'4':...   \n",
       "\n",
       "                                                       types  \\\n",
       "2930152    {'detailed': 'verifyAttr', 'semantic': 'attr',...   \n",
       "7333408    {'detailed': 'relS', 'semantic': 'rel', 'struc...   \n",
       "7333405    {'detailed': 'verifyAttrC', 'semantic': 'attr'...   \n",
       "15736264   {'detailed': 'chooseAttr', 'semantic': 'attr',...   \n",
       "111007521  {'detailed': 'relS', 'semantic': 'rel', 'struc...   \n",
       "\n",
       "                             fullAnswer  \n",
       "2930152           Yes, the sky is dark.  \n",
       "7333408        The pipe is on the wall.  \n",
       "7333405          No, the pipe is white.  \n",
       "15736264            The clock is large.  \n",
       "111007521  The girl is wearing a shirt.  "
      ]
     },
     "execution_count": 21,
     "metadata": {},
     "output_type": "execute_result"
    }
   ],
   "source": [
    "df = df.T\n",
    "df.head()"
   ]
  },
  {
   "cell_type": "markdown",
   "id": "bae882e9",
   "metadata": {},
   "source": [
    "Loading all that altogether means a lot of memory consumption. How about lazy loading with dask? Should work! "
   ]
  },
  {
   "cell_type": "code",
   "execution_count": null,
   "id": "dec237df",
   "metadata": {},
   "outputs": [],
   "source": []
  }
 ],
 "metadata": {
  "kernelspec": {
   "display_name": "Python 3 (ipykernel)",
   "language": "python",
   "name": "python3"
  },
  "language_info": {
   "codemirror_mode": {
    "name": "ipython",
    "version": 3
   },
   "file_extension": ".py",
   "mimetype": "text/x-python",
   "name": "python",
   "nbconvert_exporter": "python",
   "pygments_lexer": "ipython3",
   "version": "3.9.12"
  }
 },
 "nbformat": 4,
 "nbformat_minor": 5
}
