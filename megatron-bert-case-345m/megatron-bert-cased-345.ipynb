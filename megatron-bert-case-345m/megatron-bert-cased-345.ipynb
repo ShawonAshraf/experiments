{
 "cells": [
  {
   "cell_type": "markdown",
   "metadata": {},
   "source": [
    "## Load corpus\n"
   ]
  },
  {
   "cell_type": "code",
   "execution_count": 1,
   "metadata": {},
   "outputs": [
    {
     "name": "stdout",
     "output_type": "stream",
     "text": [
      "Already downloaded and extracted!\n"
     ]
    }
   ],
   "source": [
    "import os\n",
    "from tqdm import tqdm\n",
    "from corpus import download_and_unzip, catgeories, read_text_files, corpus_root\n",
    "\n",
    "download_and_unzip()"
   ]
  },
  {
   "cell_type": "code",
   "execution_count": 2,
   "metadata": {},
   "outputs": [
    {
     "name": "stderr",
     "output_type": "stream",
     "text": [
      "prepare_corpus: 100%|█████████████████████████████████████| 1000/1000 [00:00<00:00, 2555943.94it/s]\n",
      "prepare_corpus: 100%|█████████████████████████████████████| 1000/1000 [00:00<00:00, 2557502.44it/s]"
     ]
    },
    {
     "name": "stdout",
     "output_type": "stream",
     "text": [
      "\n",
      "2000\n",
      "2000\n"
     ]
    },
    {
     "name": "stderr",
     "output_type": "stream",
     "text": [
      "\n"
     ]
    }
   ],
   "source": [
    "reviews = []\n",
    "labels = []\n",
    "\n",
    "# we can't use the previous tokenizers here\n",
    "# idx 0 -> neg, 1 -> pos\n",
    "for idx, cat in enumerate(catgeories):\n",
    "    path = os.path.join(corpus_root, cat)\n",
    "    texts = read_text_files(path)\n",
    "\n",
    "    for i in tqdm(range(len(texts)), desc=\"prepare_corpus\"):\n",
    "        text = texts[i]\n",
    "        reviews.append(text)\n",
    "        labels.append(idx)\n",
    "\n",
    "print()\n",
    "print(len(reviews))\n",
    "print(len(labels))"
   ]
  },
  {
   "cell_type": "markdown",
   "metadata": {},
   "source": [
    "## Tokenizer\n",
    "\n",
    "https://huggingface.co/nvidia/megatron-bert-cased-345m\n",
    "\n",
    "Check the instructions on the page on how to download and convert the checkpoints!"
   ]
  },
  {
   "cell_type": "code",
   "execution_count": 3,
   "metadata": {},
   "outputs": [
    {
     "name": "stderr",
     "output_type": "stream",
     "text": [
      "404 Client Error: Not Found for url: https://huggingface.co/nvidia/megatron-bert-cased-345m/resolve/main/config.json\n"
     ]
    }
   ],
   "source": [
    "from transformers import BertTokenizer\n",
    "import torch\n",
    "\n",
    "\n",
    "tokenizer = BertTokenizer.from_pretrained('nvidia/megatron-bert-cased-345m')"
   ]
  },
  {
   "cell_type": "markdown",
   "metadata": {},
   "source": [
    "## Split corpus\n"
   ]
  },
  {
   "cell_type": "code",
   "execution_count": 4,
   "metadata": {},
   "outputs": [],
   "source": [
    "from sklearn.model_selection import train_test_split\n",
    "\n",
    "x_train, x_test, y_train, y_test = train_test_split(\n",
    "    reviews, labels, random_state=42, train_size=0.8\n",
    ")\n",
    "\n",
    "x_train, x_val, y_train, y_val = train_test_split(x_train, y_train, train_size=0.8, random_state=42)"
   ]
  },
  {
   "cell_type": "markdown",
   "metadata": {},
   "source": [
    "## Dataloaders"
   ]
  },
  {
   "cell_type": "code",
   "execution_count": 5,
   "metadata": {},
   "outputs": [],
   "source": [
    "import torch\n",
    "from torch.utils.data import Dataset\n",
    "\n",
    "# custom dataset\n",
    "class PolarityReviewDataset(Dataset):\n",
    "\n",
    "    def __init__(self, reviews, labels, tokenizer):\n",
    "        self.reviews = reviews\n",
    "        self.labels = labels\n",
    "        self.tokenizer = tokenizer\n",
    "\n",
    "    def __len__(self):\n",
    "        return len(self.labels)\n",
    "\n",
    "    def __getitem__(self, idx):\n",
    "        review = self.reviews[idx]\n",
    "        label = self.labels[idx]\n",
    "\n",
    "        # encode review text\n",
    "        encoding = self.tokenizer.encode_plus(\n",
    "            review,\n",
    "            add_special_tokens=True,\n",
    "            max_length=512,\n",
    "            truncation=True,\n",
    "            return_token_type_ids=False,\n",
    "            padding=\"max_length\",\n",
    "            return_attention_mask=True,\n",
    "            return_tensors=\"pt\"\n",
    "        )\n",
    "\n",
    "        return {\n",
    "            \"text\": review,\n",
    "            \"input_ids\": encoding[\"input_ids\"].flatten(),\n",
    "            \"attention_mask\": encoding['attention_mask'].flatten(),\n",
    "            \"label\": torch.tensor(label)\n",
    "        }\n",
    "\n",
    "training_dataset = PolarityReviewDataset(x_train, y_train, tokenizer)\n",
    "val_dataset = PolarityReviewDataset(x_val, y_val, tokenizer)"
   ]
  },
  {
   "cell_type": "code",
   "execution_count": 6,
   "metadata": {},
   "outputs": [],
   "source": [
    "from torch.utils.data import DataLoader\n",
    "batch_size = 8\n",
    "\n",
    "# loader from custom dataset\n",
    "train_loader = DataLoader(training_dataset, shuffle=True, batch_size=batch_size)\n",
    "val_loader = DataLoader(val_dataset, shuffle=False, batch_size=batch_size)\n"
   ]
  },
  {
   "cell_type": "markdown",
   "metadata": {},
   "source": [
    "## Classifier"
   ]
  },
  {
   "cell_type": "code",
   "execution_count": 7,
   "metadata": {},
   "outputs": [],
   "source": [
    "from transformers import AutoModel\n",
    "import torch.nn as nn\n",
    "import torch.nn.functional as F\n",
    "\n",
    "class SentiBERT(nn.Module):\n",
    "    def __init__(self, model_path=\"/mnt/datadrive/models/nvidia-megatron-bert-cased-345m\"):\n",
    "        super(SentiBERT, self).__init__()\n",
    "\n",
    "        self.bert = AutoModel.from_pretrained(model_path)\n",
    "        self.linear = nn.Linear(1024, 1) \n",
    "        self.sigmoid = nn.Sigmoid()\n",
    "\n",
    "    def forward(self, input_ids, attention_mask):\n",
    "        out = self.bert(input_ids=input_ids, attention_mask=attention_mask)\n",
    "        out = out.pooler_output\n",
    "        \n",
    "        out = self.linear(out)\n",
    "        out = self.sigmoid(out)\n",
    "\n",
    "        return out"
   ]
  },
  {
   "cell_type": "code",
   "execution_count": 8,
   "metadata": {},
   "outputs": [
    {
     "name": "stderr",
     "output_type": "stream",
     "text": [
      "Some weights of the model checkpoint at /mnt/datadrive/models/nvidia-megatron-bert-cased-345m were not used when initializing MegatronBertModel: ['cls.predictions.transform.LayerNorm.weight', 'cls.predictions.decoder.weight', 'cls.seq_relationship.weight', 'cls.predictions.transform.dense.weight', 'cls.predictions.transform.dense.bias', 'cls.seq_relationship.bias', 'cls.predictions.bias', 'cls.predictions.transform.LayerNorm.bias']\n",
      "- This IS expected if you are initializing MegatronBertModel from the checkpoint of a model trained on another task or with another architecture (e.g. initializing a BertForSequenceClassification model from a BertForPreTraining model).\n",
      "- This IS NOT expected if you are initializing MegatronBertModel from the checkpoint of a model that you expect to be exactly identical (initializing a BertForSequenceClassification model from a BertForSequenceClassification model).\n"
     ]
    }
   ],
   "source": [
    "senti_bert = SentiBERT()"
   ]
  },
  {
   "cell_type": "markdown",
   "metadata": {},
   "source": [
    "## Setup device"
   ]
  },
  {
   "cell_type": "code",
   "execution_count": 9,
   "metadata": {},
   "outputs": [
    {
     "data": {
      "text/plain": [
       "device(type='cuda', index=0)"
      ]
     },
     "execution_count": 9,
     "metadata": {},
     "output_type": "execute_result"
    }
   ],
   "source": [
    "device = torch.device(\"cuda:0\" if torch.cuda.is_available() else \"cpu\")\n",
    "device"
   ]
  },
  {
   "cell_type": "markdown",
   "metadata": {},
   "source": [
    "## Hyperparams"
   ]
  },
  {
   "cell_type": "code",
   "execution_count": 10,
   "metadata": {},
   "outputs": [],
   "source": [
    "learning_rate = 2e-5\n",
    "\n",
    "loss_fn = nn.BCELoss()\n",
    "optimizer = torch.optim.Adam(senti_bert.parameters(), lr=learning_rate)"
   ]
  },
  {
   "cell_type": "markdown",
   "metadata": {},
   "source": [
    "## Send to device"
   ]
  },
  {
   "cell_type": "code",
   "execution_count": 11,
   "metadata": {},
   "outputs": [],
   "source": [
    "senti_bert = senti_bert.to(device)"
   ]
  },
  {
   "cell_type": "markdown",
   "metadata": {},
   "source": [
    "## Train"
   ]
  },
  {
   "cell_type": "code",
   "execution_count": 12,
   "metadata": {},
   "outputs": [
    {
     "name": "stderr",
     "output_type": "stream",
     "text": [
      "train_sentibert_for_5_epochs:   0%|                                          | 0/5 [00:00<?, ?it/s]"
     ]
    },
    {
     "name": "stdout",
     "output_type": "stream",
     "text": [
      "\n",
      "Epoch: 1/5\tStep: 10\tTrain Loss: 0.6384578943252563\tValidation Loss: 0.7654413089156151\n",
      "\n",
      "Epoch: 1/5\tStep: 20\tTrain Loss: 0.45526474714279175\tValidation Loss: 0.4054253540933132\n",
      "\n",
      "Epoch: 1/5\tStep: 30\tTrain Loss: 0.3957778811454773\tValidation Loss: 0.2839594041928649\n",
      "\n",
      "Epoch: 1/5\tStep: 40\tTrain Loss: 0.7888088226318359\tValidation Loss: 0.2250348621979356\n",
      "\n",
      "Epoch: 1/5\tStep: 50\tTrain Loss: 0.07255827635526657\tValidation Loss: 0.22101448248140515\n",
      "\n",
      "Epoch: 1/5\tStep: 60\tTrain Loss: 0.44878897070884705\tValidation Loss: 0.22437809528782965\n",
      "\n",
      "Epoch: 1/5\tStep: 70\tTrain Loss: 0.02579518035054207\tValidation Loss: 0.38056821955833586\n",
      "\n",
      "Epoch: 1/5\tStep: 80\tTrain Loss: 0.009000816382467747\tValidation Loss: 0.30855599413625895\n",
      "\n",
      "Epoch: 1/5\tStep: 90\tTrain Loss: 0.03439226374030113\tValidation Loss: 0.3982370660640299\n",
      "\n",
      "Epoch: 1/5\tStep: 100\tTrain Loss: 0.08050365746021271\tValidation Loss: 0.28318022715393454\n",
      "\n",
      "Epoch: 1/5\tStep: 110\tTrain Loss: 0.4955618679523468\tValidation Loss: 0.5586962974397466\n",
      "\n",
      "Epoch: 1/5\tStep: 120\tTrain Loss: 0.4365089535713196\tValidation Loss: 0.2914970065408852\n",
      "\n",
      "Epoch: 1/5\tStep: 130\tTrain Loss: 0.8262607455253601\tValidation Loss: 0.2264076690422371\n",
      "\n",
      "Epoch: 1/5\tStep: 140\tTrain Loss: 0.4249732196331024\tValidation Loss: 0.31878044197801503\n",
      "\n",
      "Epoch: 1/5\tStep: 150\tTrain Loss: 0.02022678032517433\tValidation Loss: 0.19453149202745407\n"
     ]
    },
    {
     "name": "stderr",
     "output_type": "stream",
     "text": [
      "train_sentibert_for_5_epochs:  20%|██████▌                          | 1/5 [03:22<13:28, 202.10s/it]"
     ]
    },
    {
     "name": "stdout",
     "output_type": "stream",
     "text": [
      "\n",
      "Epoch: 1/5\tStep: 160\tTrain Loss: 0.4266587197780609\tValidation Loss: 0.19044684803811834\n",
      "\n",
      "Epoch: 2/5\tStep: 170\tTrain Loss: 0.0037151332944631577\tValidation Loss: 0.3470313615107443\n",
      "\n",
      "Epoch: 2/5\tStep: 180\tTrain Loss: 0.0017260480672121048\tValidation Loss: 0.4416032553242985\n",
      "\n",
      "Epoch: 2/5\tStep: 190\tTrain Loss: 0.0012961787870153785\tValidation Loss: 0.295679357307381\n",
      "\n",
      "Epoch: 2/5\tStep: 200\tTrain Loss: 0.007474170066416264\tValidation Loss: 0.45756524102616825\n",
      "\n",
      "Epoch: 2/5\tStep: 210\tTrain Loss: 0.0026730888057500124\tValidation Loss: 0.27063101968960834\n",
      "\n",
      "Epoch: 2/5\tStep: 220\tTrain Loss: 0.7478232979774475\tValidation Loss: 0.4841305878595449\n",
      "\n",
      "Epoch: 2/5\tStep: 230\tTrain Loss: 0.7829523086547852\tValidation Loss: 0.2591828444652492\n",
      "\n",
      "Epoch: 2/5\tStep: 240\tTrain Loss: 0.2536102831363678\tValidation Loss: 0.3216936098295264\n",
      "\n",
      "Epoch: 2/5\tStep: 250\tTrain Loss: 0.012366145849227905\tValidation Loss: 0.24355697403661908\n",
      "\n",
      "Epoch: 2/5\tStep: 260\tTrain Loss: 0.004059151746332645\tValidation Loss: 0.39275085234548895\n",
      "\n",
      "Epoch: 2/5\tStep: 270\tTrain Loss: 0.002342407824471593\tValidation Loss: 0.3833710068836808\n",
      "\n",
      "Epoch: 2/5\tStep: 280\tTrain Loss: 0.0021389250177890062\tValidation Loss: 0.3045380584517261\n",
      "\n",
      "Epoch: 2/5\tStep: 290\tTrain Loss: 0.0017408571438863873\tValidation Loss: 0.3018601642281283\n",
      "\n",
      "Epoch: 2/5\tStep: 300\tTrain Loss: 0.0021359464153647423\tValidation Loss: 0.47255695845524315\n",
      "\n",
      "Epoch: 2/5\tStep: 310\tTrain Loss: 0.7627140879631042\tValidation Loss: 0.3560175731108757\n"
     ]
    },
    {
     "name": "stderr",
     "output_type": "stream",
     "text": [
      "train_sentibert_for_5_epochs:  40%|█████████████▏                   | 2/5 [06:45<10:07, 202.58s/it]"
     ]
    },
    {
     "name": "stdout",
     "output_type": "stream",
     "text": [
      "\n",
      "Epoch: 2/5\tStep: 320\tTrain Loss: 0.24109143018722534\tValidation Loss: 0.29874733040342105\n",
      "\n",
      "Epoch: 3/5\tStep: 330\tTrain Loss: 0.0036745062097907066\tValidation Loss: 0.422539401659742\n",
      "\n",
      "Epoch: 3/5\tStep: 340\tTrain Loss: 0.030459748581051826\tValidation Loss: 0.38027080764586574\n",
      "\n",
      "Epoch: 3/5\tStep: 350\tTrain Loss: 0.001508947229012847\tValidation Loss: 0.4959784849605057\n",
      "\n",
      "Epoch: 3/5\tStep: 360\tTrain Loss: 0.0018257915508002043\tValidation Loss: 0.4975769446929917\n",
      "\n",
      "Epoch: 3/5\tStep: 370\tTrain Loss: 0.0013415286084637046\tValidation Loss: 0.43621154439315435\n",
      "\n",
      "Epoch: 3/5\tStep: 380\tTrain Loss: 0.0017496357904747128\tValidation Loss: 0.5001234336115885\n",
      "\n",
      "Epoch: 3/5\tStep: 390\tTrain Loss: 0.0014330430421978235\tValidation Loss: 0.4047204991846229\n",
      "\n",
      "Epoch: 3/5\tStep: 400\tTrain Loss: 0.0013201485853642225\tValidation Loss: 0.3851472534617642\n",
      "\n",
      "Epoch: 3/5\tStep: 410\tTrain Loss: 0.7979649305343628\tValidation Loss: 0.4358283072928316\n",
      "\n",
      "Epoch: 3/5\tStep: 420\tTrain Loss: 0.002614053897559643\tValidation Loss: 0.360984140180517\n",
      "\n",
      "Epoch: 3/5\tStep: 430\tTrain Loss: 0.004284704569727182\tValidation Loss: 0.37946990275231657\n",
      "\n",
      "Epoch: 3/5\tStep: 440\tTrain Loss: 0.00120184023398906\tValidation Loss: 0.4236500029772287\n",
      "\n",
      "Epoch: 3/5\tStep: 450\tTrain Loss: 0.001501752994954586\tValidation Loss: 0.6253168177296174\n",
      "\n",
      "Epoch: 3/5\tStep: 460\tTrain Loss: 0.0013461568159982562\tValidation Loss: 0.5282444265612867\n",
      "\n",
      "Epoch: 3/5\tStep: 470\tTrain Loss: 0.08067376166582108\tValidation Loss: 0.6946404225600418\n"
     ]
    },
    {
     "name": "stderr",
     "output_type": "stream",
     "text": [
      "train_sentibert_for_5_epochs:  60%|███████████████████▊             | 3/5 [10:08<06:46, 203.00s/it]"
     ]
    },
    {
     "name": "stdout",
     "output_type": "stream",
     "text": [
      "\n",
      "Epoch: 3/5\tStep: 480\tTrain Loss: 0.0067180306650698185\tValidation Loss: 0.3903618025186006\n",
      "\n",
      "Epoch: 4/5\tStep: 490\tTrain Loss: 0.00332189304754138\tValidation Loss: 0.3872531276952941\n",
      "\n",
      "Epoch: 4/5\tStep: 500\tTrain Loss: 0.0025536047760397196\tValidation Loss: 0.6031438451609574\n",
      "\n",
      "Epoch: 4/5\tStep: 510\tTrain Loss: 0.0009486520430073142\tValidation Loss: 0.5643175135090133\n",
      "\n",
      "Epoch: 4/5\tStep: 520\tTrain Loss: 0.0012630544370040298\tValidation Loss: 0.4095821157388855\n",
      "\n",
      "Epoch: 4/5\tStep: 530\tTrain Loss: 0.0009600179619155824\tValidation Loss: 0.4796217361668823\n",
      "\n",
      "Epoch: 4/5\tStep: 540\tTrain Loss: 0.0007993355393409729\tValidation Loss: 0.45021703820239056\n",
      "\n",
      "Epoch: 4/5\tStep: 550\tTrain Loss: 0.0008667829097248614\tValidation Loss: 0.45144744407880355\n",
      "\n",
      "Epoch: 4/5\tStep: 560\tTrain Loss: 0.0008801810909062624\tValidation Loss: 0.4749252903588058\n",
      "\n",
      "Epoch: 4/5\tStep: 570\tTrain Loss: 0.000495489570312202\tValidation Loss: 0.5150844374838925\n",
      "\n",
      "Epoch: 4/5\tStep: 580\tTrain Loss: 0.00030359491938725114\tValidation Loss: 0.5984297889655863\n",
      "\n",
      "Epoch: 4/5\tStep: 590\tTrain Loss: 0.0006658295751549304\tValidation Loss: 0.887333208756172\n",
      "\n",
      "Epoch: 4/5\tStep: 600\tTrain Loss: 0.0010425986256450415\tValidation Loss: 0.5885166294254305\n",
      "\n",
      "Epoch: 4/5\tStep: 610\tTrain Loss: 0.0012375925434753299\tValidation Loss: 0.6320391931803897\n",
      "\n",
      "Epoch: 4/5\tStep: 620\tTrain Loss: 0.0008563571609556675\tValidation Loss: 0.49026783908338983\n",
      "\n",
      "Epoch: 4/5\tStep: 630\tTrain Loss: 0.0007442697533406317\tValidation Loss: 0.4724687206369708\n"
     ]
    },
    {
     "name": "stderr",
     "output_type": "stream",
     "text": [
      "train_sentibert_for_5_epochs:  80%|██████████████████████████▍      | 4/5 [13:32<03:23, 203.27s/it]"
     ]
    },
    {
     "name": "stdout",
     "output_type": "stream",
     "text": [
      "\n",
      "Epoch: 4/5\tStep: 640\tTrain Loss: 0.0009174280567094684\tValidation Loss: 0.4812663455733855\n",
      "\n",
      "Epoch: 5/5\tStep: 650\tTrain Loss: 0.0004180353425908834\tValidation Loss: 0.561079595265619\n",
      "\n",
      "Epoch: 5/5\tStep: 660\tTrain Loss: 0.0005467314040288329\tValidation Loss: 0.5731632010480098\n",
      "\n",
      "Epoch: 5/5\tStep: 670\tTrain Loss: 0.0007849950343370438\tValidation Loss: 0.5681535285330028\n",
      "\n",
      "Epoch: 5/5\tStep: 680\tTrain Loss: 0.00048179522855207324\tValidation Loss: 0.5626493672869401\n",
      "\n",
      "Epoch: 5/5\tStep: 690\tTrain Loss: 0.00016222888370975852\tValidation Loss: 0.5510739298035332\n",
      "\n",
      "Epoch: 5/5\tStep: 700\tTrain Loss: 0.00039711419958621264\tValidation Loss: 0.5364415091473347\n",
      "\n",
      "Epoch: 5/5\tStep: 710\tTrain Loss: 0.00024905893951654434\tValidation Loss: 0.4513539612420573\n",
      "\n",
      "Epoch: 5/5\tStep: 720\tTrain Loss: 0.0003441920271143317\tValidation Loss: 0.5132548491452326\n",
      "\n",
      "Epoch: 5/5\tStep: 730\tTrain Loss: 0.0002616089186631143\tValidation Loss: 0.6571962364894717\n",
      "\n",
      "Epoch: 5/5\tStep: 740\tTrain Loss: 0.00024290703004226089\tValidation Loss: 0.5454231025563786\n",
      "\n",
      "Epoch: 5/5\tStep: 750\tTrain Loss: 0.0003283203695900738\tValidation Loss: 0.42176202277514674\n",
      "\n",
      "Epoch: 5/5\tStep: 760\tTrain Loss: 0.0003396960091777146\tValidation Loss: 0.5354226814033609\n",
      "\n",
      "Epoch: 5/5\tStep: 770\tTrain Loss: 0.00026496502687223256\tValidation Loss: 0.6328918744427938\n",
      "\n",
      "Epoch: 5/5\tStep: 780\tTrain Loss: 0.0002237456210423261\tValidation Loss: 0.5842829191402416\n",
      "\n",
      "Epoch: 5/5\tStep: 790\tTrain Loss: 0.00022213647025637329\tValidation Loss: 0.5376810152982217\n"
     ]
    },
    {
     "name": "stderr",
     "output_type": "stream",
     "text": [
      "train_sentibert_for_5_epochs: 100%|█████████████████████████████████| 5/5 [16:56<00:00, 203.23s/it]"
     ]
    },
    {
     "name": "stdout",
     "output_type": "stream",
     "text": [
      "\n",
      "Epoch: 5/5\tStep: 800\tTrain Loss: 0.00028998751076869667\tValidation Loss: 0.6104785618183086\n",
      "CPU times: user 15min 5s, sys: 1min 49s, total: 16min 54s\n",
      "Wall time: 16min 56s\n"
     ]
    },
    {
     "name": "stderr",
     "output_type": "stream",
     "text": [
      "\n"
     ]
    }
   ],
   "source": [
    "import numpy as np\n",
    "\n",
    "epochs = 5\n",
    "\n",
    "def train(model, train_loader, val_loader, epochs, optimizer, loss_fn):\n",
    "    print_counter = 0 # print loss for each 10th count\n",
    "\n",
    "    for e in tqdm(range(epochs), desc=f\"train_sentibert_for_{epochs}_epochs\"):\n",
    "        model.train()\n",
    "        for td in train_loader:\n",
    "            print_counter += 1\n",
    "\n",
    "            # unpack data\n",
    "            input_ids = td[\"input_ids\"]\n",
    "            input_ids = input_ids.to(device)\n",
    "\n",
    "            attention_mask = td[\"attention_mask\"].to(device)\n",
    "            attention_mask = attention_mask.to(device)\n",
    "\n",
    "            label = td[\"label\"]\n",
    "            label = label.long().to(device)\n",
    "\n",
    "\n",
    "            # zero gradients\n",
    "            model.zero_grad()\n",
    "\n",
    "            # forward pass\n",
    "            output = model(input_ids, attention_mask)\n",
    "            # the max probability based class\n",
    "            output, _ = torch.max(output, dim=1)\n",
    "\n",
    "            # backprop\n",
    "            loss = loss_fn(output, label.float())\n",
    "            loss.backward()\n",
    "            \n",
    "            #clip gradients\n",
    "            nn.utils.clip_grad_norm_(model.parameters(), max_norm=1.0)\n",
    "            \n",
    "            optimizer.step()\n",
    "\n",
    "            # log loss \n",
    "            if print_counter % 10 == 0:\n",
    "                validation_losses = []\n",
    "                \n",
    "                model.eval() # switch mode\n",
    "                with torch.no_grad():\n",
    "                    for td in val_loader:\n",
    "                        # unpack data\n",
    "                        # unpack data and send to device\n",
    "                        input_ids = td[\"input_ids\"]\n",
    "                        input_ids = input_ids.to(device)\n",
    "\n",
    "                        attention_mask = td[\"attention_mask\"]\n",
    "                        attention_mask = attention_mask.to(device)\n",
    "\n",
    "                        label = td[\"label\"]\n",
    "                        label = label.long().to(device)\n",
    "                        \n",
    "                        # repeat same steps from forward pass\n",
    "                        out = model(input_ids, attention_mask)\n",
    "                        out, _ = torch.max(out, dim=1)\n",
    "                        val_loss = loss_fn(out, label.float())\n",
    "                        \n",
    "                        # add loss to validation losses\n",
    "                        validation_losses.append(val_loss.item())\n",
    "                    print(f\"\\nEpoch: {e + 1}/{epochs}\\tStep: {print_counter}\\tTrain Loss: {loss.item()}\\tValidation Loss: {np.mean(validation_losses)}\")\n",
    "\n",
    "                model.train()\n",
    "\n",
    "\n",
    "%time train(model=senti_bert, train_loader=train_loader, val_loader=val_loader, epochs=epochs, optimizer=optimizer, loss_fn=loss_fn)"
   ]
  },
  {
   "cell_type": "markdown",
   "metadata": {
    "pycharm": {
     "name": "#%%\n"
    }
   },
   "source": [
    "## Inference"
   ]
  },
  {
   "cell_type": "code",
   "execution_count": 13,
   "metadata": {},
   "outputs": [],
   "source": [
    "# test data is a list of reviews as strings\n",
    "def classify_sentiment(model, test_data, tokenizer):\n",
    "    prediction = []\n",
    "    # switch model mode\n",
    "    model.eval()\n",
    "    with torch.no_grad():\n",
    "\n",
    "        for i in tqdm(range(len(test_data)), desc=\"inference\"):\n",
    "            review = test_data[i]\n",
    "            \n",
    "            # encode data\n",
    "            encoded = tokenizer.encode_plus(\n",
    "                review,\n",
    "                add_special_tokens=True,\n",
    "                max_length=512,\n",
    "                truncation=True,\n",
    "                return_token_type_ids=False,\n",
    "                padding=\"max_length\",\n",
    "                return_attention_mask=True,\n",
    "                return_tensors=\"pt\"\n",
    "            )\n",
    "            \n",
    "            # unpack\n",
    "            input_ids = encoded[\"input_ids\"].to(device)\n",
    "            attention_mask = encoded[\"attention_mask\"].to(device)\n",
    "            \n",
    "            \n",
    "            # forward pass\n",
    "            pred = model(input_ids, attention_mask)\n",
    "            pred, _ = torch.max(pred, dim=1)\n",
    "            # round to the nearest integer\n",
    "            pred =  torch.round(pred.squeeze())\n",
    "            \n",
    "            \n",
    "            # add to list\n",
    "            prediction.append(pred.cpu().detach().numpy()) # dear pytorch team, find a easier wrapper please!\n",
    "            \n",
    "    return np.array(prediction)"
   ]
  },
  {
   "cell_type": "code",
   "execution_count": 14,
   "metadata": {},
   "outputs": [
    {
     "name": "stderr",
     "output_type": "stream",
     "text": [
      "inference: 100%|█████████████████████████████████████████████████| 400/400 [00:10<00:00, 37.46it/s]\n"
     ]
    }
   ],
   "source": [
    "y_pred = classify_sentiment(senti_bert, x_test, tokenizer)"
   ]
  },
  {
   "cell_type": "code",
   "execution_count": 15,
   "metadata": {},
   "outputs": [],
   "source": [
    "y_pred = y_pred.reshape(-1, 1)"
   ]
  },
  {
   "cell_type": "code",
   "execution_count": 16,
   "metadata": {},
   "outputs": [],
   "source": [
    "y_test = np.array(y_test).reshape(-1, 1)"
   ]
  },
  {
   "cell_type": "markdown",
   "metadata": {},
   "source": [
    "## Evaluation"
   ]
  },
  {
   "cell_type": "code",
   "execution_count": 17,
   "metadata": {},
   "outputs": [
    {
     "name": "stdout",
     "output_type": "stream",
     "text": [
      "              precision    recall  f1-score   support\n",
      "\n",
      "           0       0.93      0.93      0.93       199\n",
      "           1       0.94      0.93      0.93       201\n",
      "\n",
      "    accuracy                           0.93       400\n",
      "   macro avg       0.93      0.93      0.93       400\n",
      "weighted avg       0.93      0.93      0.93       400\n",
      "\n"
     ]
    }
   ],
   "source": [
    "from sklearn.metrics import classification_report\n",
    "\n",
    "print(classification_report(y_pred=y_pred, y_true=y_test))"
   ]
  },
  {
   "cell_type": "code",
   "execution_count": null,
   "metadata": {},
   "outputs": [],
   "source": []
  }
 ],
 "metadata": {
  "kernelspec": {
   "display_name": "Python 3 (ipykernel)",
   "language": "python",
   "name": "python3"
  },
  "language_info": {
   "codemirror_mode": {
    "name": "ipython",
    "version": 3
   },
   "file_extension": ".py",
   "mimetype": "text/x-python",
   "name": "python",
   "nbconvert_exporter": "python",
   "pygments_lexer": "ipython3",
   "version": "3.9.7"
  },
  "widgets": {
   "application/vnd.jupyter.widget-state+json": {
    "state": {},
    "version_major": 2,
    "version_minor": 0
   }
  }
 },
 "nbformat": 4,
 "nbformat_minor": 4
}
