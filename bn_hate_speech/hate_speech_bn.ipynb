{
 "cells": [
  {
   "cell_type": "markdown",
   "id": "dd73fe2b",
   "metadata": {},
   "source": [
    "# Hate speech in Bangla\n",
    "\n",
    "Retreived from : https://www.kaggle.com/naurosromim/bengali-hate-speech-dataset/version/1\n",
    "\n",
    "\n",
    "Original Paper: https://arxiv.org/abs/2012.09686"
   ]
  },
  {
   "cell_type": "markdown",
   "id": "32076a30",
   "metadata": {},
   "source": [
    "## Corpus"
   ]
  },
  {
   "cell_type": "code",
   "execution_count": 1,
   "id": "2a0eabea",
   "metadata": {},
   "outputs": [
    {
     "data": {
      "text/html": [
       "<div>\n",
       "<style scoped>\n",
       "    .dataframe tbody tr th:only-of-type {\n",
       "        vertical-align: middle;\n",
       "    }\n",
       "\n",
       "    .dataframe tbody tr th {\n",
       "        vertical-align: top;\n",
       "    }\n",
       "\n",
       "    .dataframe thead th {\n",
       "        text-align: right;\n",
       "    }\n",
       "</style>\n",
       "<table border=\"1\" class=\"dataframe\">\n",
       "  <thead>\n",
       "    <tr style=\"text-align: right;\">\n",
       "      <th></th>\n",
       "      <th>sentence</th>\n",
       "      <th>hate</th>\n",
       "      <th>category</th>\n",
       "    </tr>\n",
       "  </thead>\n",
       "  <tbody>\n",
       "    <tr>\n",
       "      <th>0</th>\n",
       "      <td>যত্তসব পাপন শালার ফাজলামী!!!!!</td>\n",
       "      <td>1</td>\n",
       "      <td>sports</td>\n",
       "    </tr>\n",
       "    <tr>\n",
       "      <th>1</th>\n",
       "      <td>পাপন শালা রে রিমান্ডে নেওয়া দরকার</td>\n",
       "      <td>1</td>\n",
       "      <td>sports</td>\n",
       "    </tr>\n",
       "    <tr>\n",
       "      <th>2</th>\n",
       "      <td>জিল্লুর রহমান স্যারের ছেলে এতো বড় জারজ হবে এটা...</td>\n",
       "      <td>1</td>\n",
       "      <td>sports</td>\n",
       "    </tr>\n",
       "    <tr>\n",
       "      <th>3</th>\n",
       "      <td>শালা লুচ্চা দেখতে পাঠার মত দেখা যায়</td>\n",
       "      <td>1</td>\n",
       "      <td>sports</td>\n",
       "    </tr>\n",
       "    <tr>\n",
       "      <th>4</th>\n",
       "      <td>তুই তো শালা গাজা খাইছচ।তুর মার হেডায় খেলবে সাকিব</td>\n",
       "      <td>1</td>\n",
       "      <td>sports</td>\n",
       "    </tr>\n",
       "  </tbody>\n",
       "</table>\n",
       "</div>"
      ],
      "text/plain": [
       "                                            sentence  hate category\n",
       "0                     যত্তসব পাপন শালার ফাজলামী!!!!!     1   sports\n",
       "1                  পাপন শালা রে রিমান্ডে নেওয়া দরকার     1   sports\n",
       "2  জিল্লুর রহমান স্যারের ছেলে এতো বড় জারজ হবে এটা...     1   sports\n",
       "3                শালা লুচ্চা দেখতে পাঠার মত দেখা যায়     1   sports\n",
       "4   তুই তো শালা গাজা খাইছচ।তুর মার হেডায় খেলবে সাকিব     1   sports"
      ]
     },
     "execution_count": 1,
     "metadata": {},
     "output_type": "execute_result"
    }
   ],
   "source": [
    "import os\n",
    "import pandas as pd\n",
    "\n",
    "file_path = os.path.join(os.getcwd(), \"data\", \"bn_hate.csv\")\n",
    "\n",
    "df = pd.read_csv(file_path)\n",
    "df.head()"
   ]
  },
  {
   "cell_type": "code",
   "execution_count": 2,
   "id": "e5a1c882",
   "metadata": {},
   "outputs": [
    {
     "data": {
      "text/plain": [
       "{'Meme, TikTok and others',\n",
       " 'celebrity',\n",
       " 'crime',\n",
       " 'entertainment',\n",
       " 'politics',\n",
       " 'religion',\n",
       " 'sports'}"
      ]
     },
     "execution_count": 2,
     "metadata": {},
     "output_type": "execute_result"
    }
   ],
   "source": [
    "categories = set(df[\"category\"].values)\n",
    "categories"
   ]
  },
  {
   "cell_type": "markdown",
   "id": "c5f89440",
   "metadata": {},
   "source": [
    "## Preprocessing\n",
    "\n",
    "- The paper doesn't mention any specific tokenization or representation methods, other than saying they've used gensim to train word2vec embeddings and fasttext. \n",
    "\n",
    "- Tokenization on social media words is difficult, because people often use non standard words, with different forms and often with wrong spelling. So what works on a regular Bangla corpus may not work well here. \n",
    "\n",
    "- The paper also doesn't use contextualized embeddings. They focus on distributional embeddings such as word2vec. \n",
    "\n",
    "Let's try with BNLP Toolkit First. If it doesn't work we can go for BERT tokenizer which uses byte pair encoding."
   ]
  },
  {
   "cell_type": "code",
   "execution_count": 3,
   "id": "43e2a570",
   "metadata": {},
   "outputs": [
    {
     "name": "stderr",
     "output_type": "stream",
     "text": [
      "G:\\miniconda3\\envs\\experiments\\lib\\site-packages\\gensim\\similarities\\__init__.py:15: UserWarning: The gensim.similarities.levenshtein submodule is disabled, because the optional Levenshtein package <https://pypi.org/project/python-Levenshtein/> is unavailable. Install Levenhstein (e.g. `pip install python-Levenshtein`) to suppress this warning.\n",
      "  warnings.warn(msg)\n"
     ]
    },
    {
     "data": {
      "text/plain": [
       "['আমি', 'বাংলায়', 'গান', 'গাই']"
      ]
     },
     "execution_count": 3,
     "metadata": {},
     "output_type": "execute_result"
    }
   ],
   "source": [
    "from bnlp import BasicTokenizer\n",
    "\n",
    "basic_tokenizer = BasicTokenizer()\n",
    "\n",
    "# test with a bn sentence\n",
    "tokens = basic_tokenizer.tokenize(\"আমি বাংলায় গান গাই\")\n",
    "tokens"
   ]
  },
  {
   "cell_type": "code",
   "execution_count": 4,
   "id": "f01c23f2",
   "metadata": {},
   "outputs": [
    {
     "data": {
      "text/plain": [
       "['যত্তসব', 'পাপন', 'শালার', 'ফাজলামী', '!', '!', '!', '!', '!']"
      ]
     },
     "execution_count": 4,
     "metadata": {},
     "output_type": "execute_result"
    }
   ],
   "source": [
    "# now on a sentence from the corpus\n",
    "sample_sentence = df[\"sentence\"].values[0]\n",
    "tokens = basic_tokenizer.tokenize(sample_sentence)\n",
    "tokens"
   ]
  },
  {
   "cell_type": "markdown",
   "id": "504e4c28",
   "metadata": {},
   "source": []
  },
  {
   "cell_type": "code",
   "execution_count": 5,
   "id": "58deddbb",
   "metadata": {},
   "outputs": [
    {
     "data": {
      "text/plain": [
       "['যত্তসব', 'পাপন', 'শালার', 'ফাজলামী']"
      ]
     },
     "execution_count": 5,
     "metadata": {},
     "output_type": "execute_result"
    }
   ],
   "source": [
    "from string import punctuation\n",
    "\n",
    "def remove_punctuation(tokens):\n",
    "    return [token for token in tokens if token not in punctuation]\n",
    "  \n",
    "remove_punctuation(tokens)  "
   ]
  },
  {
   "cell_type": "markdown",
   "id": "5157dfd7",
   "metadata": {},
   "source": [
    "Now for cleaning all the sentences"
   ]
  },
  {
   "cell_type": "code",
   "execution_count": 6,
   "id": "e0131e16",
   "metadata": {},
   "outputs": [],
   "source": [
    "sentences = df[\"sentence\"].values\n",
    "labels = df[\"hate\"].values"
   ]
  },
  {
   "cell_type": "code",
   "execution_count": 7,
   "id": "bd5d14bd",
   "metadata": {},
   "outputs": [],
   "source": [
    "# tokenize and remove punctuation\n",
    "\n",
    "def clean_sentences(sentences):\n",
    "    cleaned_sentences = []\n",
    "    for s in sentences:\n",
    "        tokens = basic_tokenizer.tokenize(s)\n",
    "        cleaned_sentences.append(remove_punctuation(tokens))\n",
    "    return cleaned_sentences"
   ]
  },
  {
   "cell_type": "code",
   "execution_count": 8,
   "id": "1241b9e0",
   "metadata": {},
   "outputs": [],
   "source": [
    "X = clean_sentences(sentences)\n",
    "y = [int(i) for i in labels]"
   ]
  },
  {
   "cell_type": "markdown",
   "id": "b51e2b7c",
   "metadata": {},
   "source": [
    "## The issue with pretrained Word2Vec embeddings"
   ]
  },
  {
   "cell_type": "markdown",
   "id": "d9a14b69",
   "metadata": {},
   "source": [
    "This corpus contains a lot of words which are not used in the standard form of Bangla. As a result, most of them will throw a key not found related error during lookup in the Word2Vec vocabulary. Besides, BN Word2Vec embeddings were trained on a very general and formal corpora and it doesn't make sense to use it here for informal text. Embeddings should be used based on the contents of a corpus. \n",
    "\n",
    "So what to do? Training own embeddings seems a better option then to get empty vectors from a pretrained word2vec model. "
   ]
  },
  {
   "cell_type": "markdown",
   "id": "6700bb9c",
   "metadata": {},
   "source": [
    "## Training a word2vec embedding on this corpus\n",
    "\n",
    "Well ..... Let's do it."
   ]
  },
  {
   "cell_type": "code",
   "execution_count": 9,
   "id": "e9dc77aa",
   "metadata": {},
   "outputs": [],
   "source": [
    "from gensim.models import Word2Vec\n",
    "\n",
    "# embedding_dim is the size of a word vector\n",
    "# e.g. the word2vec output for a single word\n",
    "def train_w2v_model(clean_sentences, embedding_dim, window_size):\n",
    "  model = Word2Vec(clean_sentences, vector_size=embedding_dim, window=window_size, min_count=1, max_vocab_size=10e3)\n",
    "  return model\n",
    "\n",
    "w2v_model = train_w2v_model(X, embedding_dim=300, window_size=5)"
   ]
  },
  {
   "cell_type": "code",
   "execution_count": 10,
   "id": "a66ab9d5",
   "metadata": {},
   "outputs": [
    {
     "data": {
      "text/plain": [
       "[('বেয়াদব', 0.9845836162567139),\n",
       " ('মাদারচোদ', 0.9790210127830505),\n",
       " ('খোর', 0.9774585962295532),\n",
       " ('হালা', 0.9759621024131775),\n",
       " ('মাদারচুদ', 0.9738253951072693),\n",
       " ('বন্ড', 0.9722453355789185),\n",
       " ('চুদ', 0.9721114039421082),\n",
       " ('তাহেরি', 0.9688363075256348),\n",
       " ('চোরের', 0.9666358232498169),\n",
       " ('বেটা', 0.966454029083252)]"
      ]
     },
     "execution_count": 10,
     "metadata": {},
     "output_type": "execute_result"
    }
   ],
   "source": [
    "w2v_model.wv.most_similar(\"শয়তান\")"
   ]
  },
  {
   "cell_type": "code",
   "execution_count": 11,
   "id": "c3228217",
   "metadata": {},
   "outputs": [
    {
     "data": {
      "text/plain": [
       "2786"
      ]
     },
     "execution_count": 11,
     "metadata": {},
     "output_type": "execute_result"
    }
   ],
   "source": [
    "vocabulary = w2v_model.wv.index_to_key\n",
    "len(vocabulary)"
   ]
  },
  {
   "cell_type": "markdown",
   "id": "94200b51",
   "metadata": {},
   "source": [
    "## Encode inputs with embeddings"
   ]
  },
  {
   "cell_type": "code",
   "execution_count": 12,
   "id": "8e4b8c34",
   "metadata": {},
   "outputs": [
    {
     "name": "stderr",
     "output_type": "stream",
     "text": [
      "encode_tokens_with_embed_idx: 100%|██████████████████████████████████████████| 30000/30000 [00:00<00:00, 196076.75it/s]\n"
     ]
    }
   ],
   "source": [
    "from tqdm import tqdm\n",
    "\n",
    "def encode_X_tokens_with_embed_idx(X, corpus_embedding=w2v_model):\n",
    "    encoded_X = list()\n",
    "    \n",
    "    for i in tqdm(range(len(X)), desc=\"encode_tokens_with_embed_idx\"):\n",
    "        idxs = []\n",
    "        tokens = X[i]\n",
    "\n",
    "        for token in tokens:\n",
    "            try:\n",
    "                idx = corpus_embedding.wv.key_to_index[token]\n",
    "            except:\n",
    "                # if token isn't in the vocab\n",
    "                idx = 0\n",
    "\n",
    "            idxs.append(idx)\n",
    "\n",
    "        encoded_X.append(idxs)\n",
    "\n",
    "    return encoded_X\n",
    "\n",
    "\n",
    "encoded_X = encode_X_tokens_with_embed_idx(X)"
   ]
  },
  {
   "cell_type": "code",
   "execution_count": 13,
   "id": "95dcd972",
   "metadata": {},
   "outputs": [
    {
     "data": {
      "text/plain": [
       "[2500, 67, 293, 0]"
      ]
     },
     "execution_count": 13,
     "metadata": {},
     "output_type": "execute_result"
    }
   ],
   "source": [
    "encoded_X[0]"
   ]
  },
  {
   "cell_type": "markdown",
   "id": "1b05f4c4",
   "metadata": {},
   "source": [
    "## Padding\n",
    "Left with 0 for a maximum sequence length\n",
    "\n",
    "Now to find that sequence length ..."
   ]
  },
  {
   "cell_type": "code",
   "execution_count": 14,
   "id": "c129cac0",
   "metadata": {},
   "outputs": [
    {
     "data": {
      "text/plain": [
       "560"
      ]
     },
     "execution_count": 14,
     "metadata": {},
     "output_type": "execute_result"
    }
   ],
   "source": [
    "max_seq_len = max([len(x) for x in encoded_X])\n",
    "max_seq_len"
   ]
  },
  {
   "cell_type": "code",
   "execution_count": 15,
   "id": "1627ee1e",
   "metadata": {},
   "outputs": [
    {
     "name": "stderr",
     "output_type": "stream",
     "text": [
      "pad: 100%|███████████████████████████████████████████████████████████████████| 30000/30000 [00:00<00:00, 389616.91it/s]\n"
     ]
    }
   ],
   "source": [
    "import numpy as np\n",
    "\n",
    "\n",
    "def pad_tokens(encoded_X, seq_len=max_seq_len):\n",
    "    padded = np.zeros(\n",
    "        (len(encoded_X), seq_len),\n",
    "        dtype=np.int32\n",
    "    )\n",
    "\n",
    "    for i in tqdm(range(len(encoded_X)), desc=\"pad\"):\n",
    "        tokens = encoded_X[i]\n",
    "        if len(tokens) == 0:\n",
    "            continue\n",
    "\n",
    "        padded[i, -len(tokens):] = np.array(tokens)\n",
    "\n",
    "    return padded\n",
    "\n",
    "\n",
    "padded_X = pad_tokens(encoded_X)\n"
   ]
  },
  {
   "cell_type": "code",
   "execution_count": 16,
   "id": "97a30403",
   "metadata": {},
   "outputs": [
    {
     "data": {
      "text/plain": [
       "array([   0,    0,    0,    0,    0,    0,    0,    0,    0,    0,    0,\n",
       "          0,    0,    0,    0,    0,    0,    0,    0,    0,    0,    0,\n",
       "          0,    0,    0,    0,    0,    0,    0,    0,    0,    0,    0,\n",
       "          0,    0,    0,    0,    0,    0,    0,    0,    0,    0,    0,\n",
       "          0,    0,    0,    0,    0,    0,    0,    0,    0,    0,    0,\n",
       "          0,    0,    0,    0,    0,    0,    0,    0,    0,    0,    0,\n",
       "          0,    0,    0,    0,    0,    0,    0,    0,    0,    0,    0,\n",
       "          0,    0,    0,    0,    0,    0,    0,    0,    0,    0,    0,\n",
       "          0,    0,    0,    0,    0,    0,    0,    0,    0,    0,    0,\n",
       "          0,    0,    0,    0,    0,    0,    0,    0,    0,    0,    0,\n",
       "          0,    0,    0,    0,    0,    0,    0,    0,    0,    0,    0,\n",
       "          0,    0,    0,    0,    0,    0,    0,    0,    0,    0,    0,\n",
       "          0,    0,    0,    0,    0,    0,    0,    0,    0,    0,    0,\n",
       "          0,    0,    0,    0,    0,    0,    0,    0,    0,    0,    0,\n",
       "          0,    0,    0,    0,    0,    0,    0,    0,    0,    0,    0,\n",
       "          0,    0,    0,    0,    0,    0,    0,    0,    0,    0,    0,\n",
       "          0,    0,    0,    0,    0,    0,    0,    0,    0,    0,    0,\n",
       "          0,    0,    0,    0,    0,    0,    0,    0,    0,    0,    0,\n",
       "          0,    0,    0,    0,    0,    0,    0,    0,    0,    0,    0,\n",
       "          0,    0,    0,    0,    0,    0,    0,    0,    0,    0,    0,\n",
       "          0,    0,    0,    0,    0,    0,    0,    0,    0,    0,    0,\n",
       "          0,    0,    0,    0,    0,    0,    0,    0,    0,    0,    0,\n",
       "          0,    0,    0,    0,    0,    0,    0,    0,    0,    0,    0,\n",
       "          0,    0,    0,    0,    0,    0,    0,    0,    0,    0,    0,\n",
       "          0,    0,    0,    0,    0,    0,    0,    0,    0,    0,    0,\n",
       "          0,    0,    0,    0,    0,    0,    0,    0,    0,    0,    0,\n",
       "          0,    0,    0,    0,    0,    0,    0,    0,    0,    0,    0,\n",
       "          0,    0,    0,    0,    0,    0,    0,    0,    0,    0,    0,\n",
       "          0,    0,    0,    0,    0,    0,    0,    0,    0,    0,    0,\n",
       "          0,    0,    0,    0,    0,    0,    0,    0,    0,    0,    0,\n",
       "          0,    0,    0,    0,    0,    0,    0,    0,    0,    0,    0,\n",
       "          0,    0,    0,    0,    0,    0,    0,    0,    0,    0,    0,\n",
       "          0,    0,    0,    0,    0,    0,    0,    0,    0,    0,    0,\n",
       "          0,    0,    0,    0,    0,    0,    0,    0,    0,    0,    0,\n",
       "          0,    0,    0,    0,    0,    0,    0,    0,    0,    0,    0,\n",
       "          0,    0,    0,    0,    0,    0,    0,    0,    0,    0,    0,\n",
       "          0,    0,    0,    0,    0,    0,    0,    0,    0,    0,    0,\n",
       "          0,    0,    0,    0,    0,    0,    0,    0,    0,    0,    0,\n",
       "          0,    0,    0,    0,    0,    0,    0,    0,    0,    0,    0,\n",
       "          0,    0,    0,    0,    0,    0,    0,    0,    0,    0,    0,\n",
       "          0,    0,    0,    0,    0,    0,    0,    0,    0,    0,    0,\n",
       "          0,    0,    0,    0,    0,    0,    0,    0,    0,    0,    0,\n",
       "          0,    0,    0,    0,    0,    0,    0,    0,    0,    0,    0,\n",
       "          0,    0,    0,    0,    0,    0,    0,    0,    0,    0,    0,\n",
       "          0,    0,    0,    0,    0,    0,    0,    0,    0,    0,    0,\n",
       "          0,    0,    0,    0,    0,    0,    0,    0,    0,    0,    0,\n",
       "          0,    0,    0,    0,    0,    0,    0,    0,    0,    0,    0,\n",
       "          0,    0,    0,    0,    0,    0,    0,    0,    0,    0,    0,\n",
       "          0,    0,    0,    0,    0,    0,    0,    0,    0,    0,    0,\n",
       "          0,    0,    0,    0,    0,    0,    0,    0,    0,    0,    0,\n",
       "          0,    0,    0,    0,    0,    0, 2500,   67,  293,    0])"
      ]
     },
     "execution_count": 16,
     "metadata": {},
     "output_type": "execute_result"
    }
   ],
   "source": [
    "padded_X[0]"
   ]
  },
  {
   "cell_type": "markdown",
   "id": "3cb92a46",
   "metadata": {},
   "source": [
    "So, erm, a lot of sparse values. Let's see if it works well. Otherwise we can always go back and find a better compression technqiue."
   ]
  },
  {
   "cell_type": "markdown",
   "id": "277695c9",
   "metadata": {},
   "source": [
    "## Pytorch dataset\n",
    "\n",
    "### Dataset"
   ]
  },
  {
   "cell_type": "code",
   "execution_count": 17,
   "id": "c543b5d4",
   "metadata": {},
   "outputs": [],
   "source": [
    "import torch\n",
    "from torch.utils.data import Dataset, DataLoader\n",
    "\n",
    "class BNHateSpeechDataset(Dataset):\n",
    "    def __init__(self, X, y):\n",
    "        self.X = X\n",
    "        self.y = y\n",
    "\n",
    "    def __len__(self):\n",
    "        return len(self.X)\n",
    "\n",
    "    def __getitem__(self, idx):\n",
    "        sentence = self.X[idx]\n",
    "        label = self.y[idx]\n",
    "        \n",
    "        return torch.tensor(sentence), torch.tensor(label)"
   ]
  },
  {
   "cell_type": "markdown",
   "id": "2624d990",
   "metadata": {},
   "source": [
    "### Train Test Split"
   ]
  },
  {
   "cell_type": "code",
   "execution_count": 18,
   "id": "d2326c20",
   "metadata": {},
   "outputs": [],
   "source": [
    "from sklearn.model_selection import train_test_split\n",
    "\n",
    "# train and test split\n",
    "x_train, x_test, y_train, y_test = train_test_split(\n",
    "    padded_X, y, random_state=42, train_size=0.8\n",
    ")\n",
    "\n",
    "\n",
    "# train and validation split\n",
    "# https://datascience.stackexchange.com/questions/15135/train-test-validation-set-splitting-in-sklearn\n",
    "x_train, x_val, y_train, y_val = train_test_split(\n",
    "    x_train, y_train, train_size=0.8, random_state=42)\n"
   ]
  },
  {
   "cell_type": "code",
   "execution_count": 19,
   "id": "76ed31ca",
   "metadata": {},
   "outputs": [],
   "source": [
    "trainset = BNHateSpeechDataset(x_train, y_train)\n",
    "testset = BNHateSpeechDataset(x_test, y_test)\n",
    "valset = BNHateSpeechDataset(x_val, y_val)"
   ]
  },
  {
   "cell_type": "markdown",
   "id": "4d11722f",
   "metadata": {},
   "source": [
    "## CNN\n",
    "\n",
    "\n",
    "This model is based on https://arxiv.org/abs/1408.5882  \n",
    "\n",
    "\n",
    "### Definition"
   ]
  },
  {
   "cell_type": "code",
   "execution_count": 20,
   "id": "9cc53457",
   "metadata": {},
   "outputs": [],
   "source": [
    "\n",
    "\n",
    "import torch.nn as nn\n",
    "import torch.nn.functional as F\n",
    "\n",
    "\n",
    "class HateSpeechCNN(nn.Module):\n",
    "    def __init__(self, freeze_embeddings=True):\n",
    "        super(HateSpeechCNN, self).__init__()\n",
    "\n",
    "        # properties\n",
    "        self.kernel_sizes = [3, 4, 5]\n",
    "        self.num_filters = 100\n",
    "        self.embedding_dim = w2v_model.wv.vector_size\n",
    "        self.output_size = 1\n",
    "        self.vocab_size = len(w2v_model.wv.index_to_key)\n",
    "\n",
    "        # convert embeddings to tensors!\n",
    "        self.corpus_embedding = torch.from_numpy(w2v_model.wv.vectors)\n",
    "\n",
    "        # neural network\n",
    "\n",
    "        # embedding layer\n",
    "        # by default we're freezing embeddings\n",
    "        self.embedding = nn.Embedding.from_pretrained(\n",
    "            self.corpus_embedding, freeze=freeze_embeddings)\n",
    "\n",
    "        # conv layers\n",
    "        # 3 conv layers, since 3 kernel sizes\n",
    "        self.conv1d = nn.ModuleList([\n",
    "            nn.Conv2d(1, self.num_filters,\n",
    "                      (k, self.embedding_dim), padding=(k - 2, 0))\n",
    "\n",
    "            for k in self.kernel_sizes\n",
    "        ])\n",
    "\n",
    "        # final linear layer\n",
    "        self.linear = nn.Linear(len(self.kernel_sizes)\n",
    "                                * self.num_filters, self.output_size)\n",
    "\n",
    "        # dropout and sigmoid\n",
    "        # why sigmoid? Well, binary classification task!\n",
    "        self.dropout = nn.Dropout(0.1)\n",
    "        self.sigmoid = nn.Sigmoid()\n",
    "\n",
    "    # helper\n",
    "    def conv_and_pool(self, x, conv):\n",
    "        \"\"\"\n",
    "        Convolutional + max pooling layer\n",
    "        \"\"\"\n",
    "        # squeeze last dim to get size: (batch_size, num_filters, conv_seq_length)\n",
    "        x = F.relu(conv(x)).squeeze(3)\n",
    "\n",
    "        # 1D pool over conv_seq_length\n",
    "        # squeeze to get size: (batch_size, num_filters)\n",
    "        x_max = F.max_pool1d(x, x.size(2)).squeeze(2)\n",
    "        return x_max\n",
    "\n",
    "    def forward(self, x):\n",
    "        embeds = self.embedding(x)\n",
    "        embeds = embeds.unsqueeze(1)  # reshape for conv (vector to matrix)\n",
    "\n",
    "        conv_out = [self.conv_and_pool(embeds, conv) for conv in self.conv1d]\n",
    "\n",
    "        # concate convolution outputs as a \"vector\"\n",
    "        out = torch.cat(conv_out, 1)\n",
    "        # apply dropout\n",
    "        out = self.dropout(out)\n",
    "\n",
    "        # linear\n",
    "        out = self.linear(out)\n",
    "\n",
    "        return self.sigmoid(out)\n"
   ]
  },
  {
   "cell_type": "markdown",
   "id": "67e20940",
   "metadata": {},
   "source": [
    "### Instantiation"
   ]
  },
  {
   "cell_type": "code",
   "execution_count": 21,
   "id": "356670ec",
   "metadata": {},
   "outputs": [
    {
     "name": "stdout",
     "output_type": "stream",
     "text": [
      "HateSpeechCNN(\n",
      "  (embedding): Embedding(2786, 300)\n",
      "  (conv1d): ModuleList(\n",
      "    (0): Conv2d(1, 100, kernel_size=(3, 300), stride=(1, 1), padding=(1, 0))\n",
      "    (1): Conv2d(1, 100, kernel_size=(4, 300), stride=(1, 1), padding=(2, 0))\n",
      "    (2): Conv2d(1, 100, kernel_size=(5, 300), stride=(1, 1), padding=(3, 0))\n",
      "  )\n",
      "  (linear): Linear(in_features=300, out_features=1, bias=True)\n",
      "  (dropout): Dropout(p=0.1, inplace=False)\n",
      "  (sigmoid): Sigmoid()\n",
      ")\n"
     ]
    }
   ],
   "source": [
    "# model\n",
    "cnn = HateSpeechCNN()\n",
    "print(cnn)\n",
    "\n",
    "# hyperparameters\n",
    "learning_rate = 0.001\n",
    "batch_size = 128\n",
    "\n",
    "loss_fn = nn.BCELoss()\n",
    "optimizer = torch.optim.Adam(cnn.parameters(), lr=learning_rate)\n",
    "\n",
    "# device\n",
    "device = torch.device(\"cuda:0\" if torch.cuda.is_available() else \"cpu\")\n",
    "\n",
    "cnn = cnn.to(device)\n",
    "\n",
    "# dataloaders\n",
    "train_loader = DataLoader(trainset, batch_size=batch_size, shuffle=True, drop_last=True)\n",
    "test_loader = DataLoader(testset, batch_size=batch_size, shuffle=False, drop_last=True)\n",
    "validation_loader = DataLoader(valset, batch_size=batch_size, shuffle=False, drop_last=True)"
   ]
  },
  {
   "cell_type": "markdown",
   "id": "33d40d4c",
   "metadata": {},
   "source": [
    "### Tensorboard setup"
   ]
  },
  {
   "cell_type": "code",
   "execution_count": 22,
   "id": "b412a10a",
   "metadata": {},
   "outputs": [],
   "source": [
    "# set up tensorboard\n",
    "from torch.utils.tensorboard import SummaryWriter\n",
    "writer = SummaryWriter()"
   ]
  },
  {
   "cell_type": "markdown",
   "id": "93fd783a",
   "metadata": {},
   "source": [
    "### Evaluation setup"
   ]
  },
  {
   "cell_type": "code",
   "execution_count": 23,
   "id": "4f14015b",
   "metadata": {},
   "outputs": [],
   "source": [
    "import numpy as np\n",
    "from sklearn.metrics import f1_score, accuracy_score"
   ]
  },
  {
   "cell_type": "markdown",
   "id": "59833dc4",
   "metadata": {},
   "source": [
    "### Training"
   ]
  },
  {
   "cell_type": "code",
   "execution_count": 24,
   "id": "6c93b319",
   "metadata": {},
   "outputs": [],
   "source": [
    "# train\n",
    "\n",
    "def train_cnn(model, train_loader, validation_loader, epochs, optimizer, loss_fn, device):\n",
    "    step_counter = 0\n",
    "\n",
    "    for e in range(epochs):\n",
    "        print(f\"Epoch: {e + 1}/{epochs}\")\n",
    "        # set to train mode\n",
    "        model.train()\n",
    "        for sample in tqdm(train_loader):\n",
    "            sentence, label = sample\n",
    "\n",
    "            # send to device\n",
    "            sentence = sentence.to(device)\n",
    "            label = label.to(device)\n",
    "        \n",
    "            # zero gradients\n",
    "            model.zero_grad()\n",
    "        \n",
    "            # forward pass\n",
    "            output = model(sentence)\n",
    "            loss = loss_fn(output.squeeze(), label.float())\n",
    "            loss.backward()\n",
    "            optimizer.step()\n",
    "        \n",
    "        \n",
    "            # +1 to step counter\n",
    "            step_counter += 1\n",
    "        \n",
    "            if step_counter % 50 == 0:\n",
    "                # evaluate training\n",
    "                pred = torch.round(output.squeeze())\n",
    "                pred = pred.cpu().detach().numpy()\n",
    "\n",
    "                accuracy = accuracy_score(label.cpu().detach().numpy(), pred)\n",
    "                f1 = f1_score(label.cpu().detach().numpy(), pred)\n",
    "\n",
    "                writer.add_scalars(\n",
    "                    'Train_F1_Train_Accuracy',\n",
    "                    {\n",
    "                        'F1': f1,\n",
    "                        'Accuracy': accuracy\n",
    "                    },\n",
    "                    step_counter)\n",
    "\n",
    "\n",
    "                # validation\n",
    "                validation_losses = []\n",
    "                validation_f1s = []\n",
    "                validation_accs = []\n",
    "        \n",
    "                # set to eval mode\n",
    "                model.eval()\n",
    "                with torch.no_grad():\n",
    "                    # run the forward pass on val loader\n",
    "                    for sample in validation_loader:\n",
    "                        sentence, label = sample\n",
    "                        sentence = sentence.to(device)\n",
    "                        label = label.to(device)\n",
    "                        val_output = model(sentence)\n",
    "\n",
    "                        val_loss = loss_fn(val_output.squeeze(), label.float())\n",
    "                        validation_losses.append(val_loss.item())\n",
    "            \n",
    "                        pred = torch.round(output.squeeze())\n",
    "                        pred = pred.cpu().detach().numpy()\n",
    "\n",
    "                        accuracy = accuracy_score(label.cpu().detach().numpy(), pred)\n",
    "                        f1 = f1_score(label.cpu().detach().numpy(), pred)\n",
    "            \n",
    "                        validation_accs.append(accuracy)\n",
    "                        validation_f1s.append(f1)\n",
    "\n",
    "                    # log avg validation loss and training loss\n",
    "                    writer.add_scalars(\n",
    "                        'Loss_Train_ValidationAVG', \n",
    "                        {\n",
    "                            \"Train\": loss.item(),\n",
    "                            \"Validation\": np.mean(validation_losses)\n",
    "                        }, \n",
    "                        step_counter)\n",
    "        \n",
    "                    writer.add_scalars(\n",
    "                        'Evaluation_Val_F1_Val_Accuracy',\n",
    "                        {\n",
    "                            'F1': np.mean(validation_f1s),\n",
    "                            'Accuracy': np.mean(validation_accs)\n",
    "                        },\n",
    "                        step_counter)\n",
    "\n",
    "    # flush tensorboard\n",
    "    writer.flush()\n",
    "    writer.close()\n"
   ]
  },
  {
   "cell_type": "code",
   "execution_count": 25,
   "id": "ef0bb7b9",
   "metadata": {},
   "outputs": [
    {
     "name": "stdout",
     "output_type": "stream",
     "text": [
      "Epoch: 1/10\n"
     ]
    },
    {
     "name": "stderr",
     "output_type": "stream",
     "text": [
      "100%|████████████████████████████████████████████████████████████████████████████████| 150/150 [00:14<00:00, 10.25it/s]\n"
     ]
    },
    {
     "name": "stdout",
     "output_type": "stream",
     "text": [
      "Epoch: 2/10\n"
     ]
    },
    {
     "name": "stderr",
     "output_type": "stream",
     "text": [
      "100%|████████████████████████████████████████████████████████████████████████████████| 150/150 [00:12<00:00, 11.61it/s]\n"
     ]
    },
    {
     "name": "stdout",
     "output_type": "stream",
     "text": [
      "Epoch: 3/10\n"
     ]
    },
    {
     "name": "stderr",
     "output_type": "stream",
     "text": [
      "100%|████████████████████████████████████████████████████████████████████████████████| 150/150 [00:12<00:00, 11.63it/s]\n"
     ]
    },
    {
     "name": "stdout",
     "output_type": "stream",
     "text": [
      "Epoch: 4/10\n"
     ]
    },
    {
     "name": "stderr",
     "output_type": "stream",
     "text": [
      "100%|████████████████████████████████████████████████████████████████████████████████| 150/150 [00:12<00:00, 11.58it/s]\n"
     ]
    },
    {
     "name": "stdout",
     "output_type": "stream",
     "text": [
      "Epoch: 5/10\n"
     ]
    },
    {
     "name": "stderr",
     "output_type": "stream",
     "text": [
      "100%|████████████████████████████████████████████████████████████████████████████████| 150/150 [00:12<00:00, 11.58it/s]\n"
     ]
    },
    {
     "name": "stdout",
     "output_type": "stream",
     "text": [
      "Epoch: 6/10\n"
     ]
    },
    {
     "name": "stderr",
     "output_type": "stream",
     "text": [
      "100%|████████████████████████████████████████████████████████████████████████████████| 150/150 [00:13<00:00, 11.53it/s]\n"
     ]
    },
    {
     "name": "stdout",
     "output_type": "stream",
     "text": [
      "Epoch: 7/10\n"
     ]
    },
    {
     "name": "stderr",
     "output_type": "stream",
     "text": [
      "100%|████████████████████████████████████████████████████████████████████████████████| 150/150 [00:12<00:00, 11.57it/s]\n"
     ]
    },
    {
     "name": "stdout",
     "output_type": "stream",
     "text": [
      "Epoch: 8/10\n"
     ]
    },
    {
     "name": "stderr",
     "output_type": "stream",
     "text": [
      "100%|████████████████████████████████████████████████████████████████████████████████| 150/150 [00:13<00:00, 11.44it/s]\n"
     ]
    },
    {
     "name": "stdout",
     "output_type": "stream",
     "text": [
      "Epoch: 9/10\n"
     ]
    },
    {
     "name": "stderr",
     "output_type": "stream",
     "text": [
      "100%|████████████████████████████████████████████████████████████████████████████████| 150/150 [00:12<00:00, 11.55it/s]\n"
     ]
    },
    {
     "name": "stdout",
     "output_type": "stream",
     "text": [
      "Epoch: 10/10\n"
     ]
    },
    {
     "name": "stderr",
     "output_type": "stream",
     "text": [
      "100%|████████████████████████████████████████████████████████████████████████████████| 150/150 [00:12<00:00, 11.55it/s]\n"
     ]
    }
   ],
   "source": [
    "# call train function\n",
    "train_cnn(\n",
    "    model=cnn,\n",
    "    train_loader=train_loader,\n",
    "    validation_loader=validation_loader,\n",
    "    epochs=10,\n",
    "    optimizer=optimizer,\n",
    "    loss_fn=loss_fn,\n",
    "    device=device)"
   ]
  },
  {
   "cell_type": "markdown",
   "id": "79cd6cf0",
   "metadata": {},
   "source": [
    "### Testing time!"
   ]
  },
  {
   "cell_type": "code",
   "execution_count": 26,
   "id": "153a299f",
   "metadata": {},
   "outputs": [
    {
     "name": "stderr",
     "output_type": "stream",
     "text": [
      "100%|██████████████████████████████████████████████████████████████████████████████████| 46/46 [00:02<00:00, 21.13it/s]"
     ]
    },
    {
     "name": "stdout",
     "output_type": "stream",
     "text": [
      "Accuracy :  0.8211616847826086\n",
      "F1 :  0.7009803530045093\n"
     ]
    },
    {
     "name": "stderr",
     "output_type": "stream",
     "text": [
      "\n"
     ]
    }
   ],
   "source": [
    "def inference(model, test_loader):\n",
    "    accs = []\n",
    "    f1s = []\n",
    "    \n",
    "    model.eval()\n",
    "    with torch.no_grad():\n",
    "        for sample in tqdm(test_loader):\n",
    "            sentence, label = sample\n",
    "            sentence = sentence.to(device)\n",
    "            label = label.to(device)\n",
    "            \n",
    "            output = model(sentence)\n",
    "            pred = torch.round(output.squeeze())\n",
    "            \n",
    "            pred = pred.cpu().detach().numpy()\n",
    "            \n",
    "            acc = accuracy_score(label.cpu().detach().numpy(), pred)\n",
    "            accs.append(acc)\n",
    "            \n",
    "            f1 = f1_score(label.cpu().detach().numpy(), pred)\n",
    "            f1s.append(f1)\n",
    "            \n",
    "    return np.mean(accs), np.mean(f1s)\n",
    "\n",
    "\n",
    "acc, f1 = inference(cnn, test_loader)\n",
    "print(\"Accuracy : \", acc)\n",
    "print(\"F1 : \", f1)"
   ]
  },
  {
   "cell_type": "markdown",
   "id": "f90dcfab",
   "metadata": {},
   "source": [
    "## Tensorboard Logs\n",
    "\n",
    "Tensorboard logs are saved @  https://tensorboard.dev/experiment/oO65xxIVRKeYNiKdTlLiNA/"
   ]
  }
 ],
 "metadata": {
  "interpreter": {
   "hash": "a1fc978d16eb19028606c17cdea149455d56c3edc1ed639336e4a95eee285175"
  },
  "kernelspec": {
   "display_name": "Python 3 (ipykernel)",
   "language": "python",
   "name": "python3"
  },
  "language_info": {
   "codemirror_mode": {
    "name": "ipython",
    "version": 3
   },
   "file_extension": ".py",
   "mimetype": "text/x-python",
   "name": "python",
   "nbconvert_exporter": "python",
   "pygments_lexer": "ipython3",
   "version": "3.9.7"
  }
 },
 "nbformat": 4,
 "nbformat_minor": 5
}
