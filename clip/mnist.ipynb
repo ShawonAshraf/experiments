{
 "cells": [
  {
   "cell_type": "code",
   "execution_count": 1,
   "metadata": {},
   "outputs": [],
   "source": [
    "import torch\n",
    "import torch.nn as nn\n",
    "import torch.nn.functional as F\n",
    "import clip"
   ]
  },
  {
   "cell_type": "code",
   "execution_count": 2,
   "metadata": {},
   "outputs": [],
   "source": [
    "device = \"cuda\" if torch.cuda.is_available() else \"cpu\"\n",
    "model, preprocess = clip.load('ViT-B/32', device)"
   ]
  },
  {
   "cell_type": "code",
   "execution_count": 3,
   "metadata": {},
   "outputs": [],
   "source": [
    "from torchvision.datasets import MNIST\n",
    "\n",
    "dataset = MNIST(root=\"./dataset\", download=True)"
   ]
  },
  {
   "cell_type": "code",
   "execution_count": 7,
   "metadata": {},
   "outputs": [],
   "source": [
    "label_prompts = [\n",
    "    f\"This is a handwritten image of the digit {i}.\"\n",
    "    for i in range(10)\n",
    "]"
   ]
  },
  {
   "cell_type": "code",
   "execution_count": 9,
   "metadata": {},
   "outputs": [
    {
     "data": {
      "application/vnd.jupyter.widget-view+json": {
       "model_id": "47e1c68ae82b452e8061884e8f89f923",
       "version_major": 2,
       "version_minor": 0
      },
      "text/plain": [
       "  0%|          | 0/60000 [00:00<?, ?it/s]"
      ]
     },
     "metadata": {},
     "output_type": "display_data"
    }
   ],
   "source": [
    "from tqdm.auto import tqdm\n",
    "\n",
    "predicted = []\n",
    "actual = []\n",
    "\n",
    "for idx, data in tqdm(enumerate(dataset), total=len(dataset)):\n",
    "    image, label = data\n",
    "    actual.append(label)\n",
    "    \n",
    "    image = preprocess(image).unsqueeze(0).to(device)\n",
    "    text = clip.tokenize(label_prompts).to(device)\n",
    "    \n",
    "    \n",
    "    with torch.no_grad():    \n",
    "        logits_per_image, _ = model(image, text)\n",
    "        \n",
    "        \n",
    "    probs = logits_per_image.softmax(dim=-1).cpu()\n",
    "    predicted.append(torch.argmax(probs, dim=-1))\n",
    "\n"
   ]
  },
  {
   "cell_type": "code",
   "execution_count": 13,
   "metadata": {},
   "outputs": [],
   "source": [
    "predicted = [int(predicted[i]) for i in range(len(predicted))]"
   ]
  },
  {
   "cell_type": "code",
   "execution_count": 15,
   "metadata": {},
   "outputs": [
    {
     "name": "stdout",
     "output_type": "stream",
     "text": [
      "              precision    recall  f1-score   support\n",
      "\n",
      "           0       0.56      0.97      0.71      5923\n",
      "           1       0.44      0.93      0.60      6742\n",
      "           2       0.33      0.00      0.00      5958\n",
      "           3       0.32      0.64      0.43      6131\n",
      "           4       0.64      0.06      0.11      5842\n",
      "           5       0.90      0.39      0.55      5421\n",
      "           6       0.30      0.14      0.20      5918\n",
      "           7       0.38      0.91      0.54      6265\n",
      "           8       0.46      0.19      0.27      5851\n",
      "           9       1.00      0.00      0.01      5949\n",
      "\n",
      "    accuracy                           0.44     60000\n",
      "   macro avg       0.53      0.42      0.34     60000\n",
      "weighted avg       0.53      0.44      0.34     60000\n",
      "\n"
     ]
    }
   ],
   "source": [
    "from sklearn.metrics import classification_report\n",
    "\n",
    "report = classification_report(y_pred=predicted, y_true=actual)\n",
    "print(report)"
   ]
  },
  {
   "cell_type": "code",
   "execution_count": null,
   "metadata": {},
   "outputs": [],
   "source": []
  }
 ],
 "metadata": {
  "kernelspec": {
   "display_name": "Python 3 (ipykernel)",
   "language": "python",
   "name": "python3"
  },
  "language_info": {
   "codemirror_mode": {
    "name": "ipython",
    "version": 3
   },
   "file_extension": ".py",
   "mimetype": "text/x-python",
   "name": "python",
   "nbconvert_exporter": "python",
   "pygments_lexer": "ipython3",
   "version": "3.10.8"
  }
 },
 "nbformat": 4,
 "nbformat_minor": 4
}
