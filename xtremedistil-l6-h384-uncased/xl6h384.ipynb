{
 "cells": [
  {
   "cell_type": "markdown",
   "metadata": {},
   "source": [
    "## Load corpus\n"
   ]
  },
  {
   "cell_type": "code",
   "execution_count": 1,
   "metadata": {},
   "outputs": [
    {
     "name": "stdout",
     "output_type": "stream",
     "text": [
      "Already downloaded and extracted!\n"
     ]
    }
   ],
   "source": [
    "import os\n",
    "from tqdm import tqdm\n",
    "from corpus import download_and_unzip, catgeories, read_text_files, corpus_root\n",
    "\n",
    "download_and_unzip()"
   ]
  },
  {
   "cell_type": "code",
   "execution_count": 2,
   "metadata": {},
   "outputs": [
    {
     "name": "stderr",
     "output_type": "stream",
     "text": [
      "prepare_corpus: 100%|██████████████████████████████████████████████| 1000/1000 [00:00<00:00, 2593880.02it/s]\n",
      "prepare_corpus: 100%|██████████████████████████████████████████████| 1000/1000 [00:00<00:00, 2626364.43it/s]"
     ]
    },
    {
     "name": "stdout",
     "output_type": "stream",
     "text": [
      "\n",
      "2000\n",
      "2000\n"
     ]
    },
    {
     "name": "stderr",
     "output_type": "stream",
     "text": [
      "\n"
     ]
    }
   ],
   "source": [
    "reviews = []\n",
    "labels = []\n",
    "\n",
    "# we can't use the previous tokenizers here\n",
    "# idx 0 -> neg, 1 -> pos\n",
    "for idx, cat in enumerate(catgeories):\n",
    "    path = os.path.join(corpus_root, cat)\n",
    "    texts = read_text_files(path)\n",
    "\n",
    "    for i in tqdm(range(len(texts)), desc=\"prepare_corpus\"):\n",
    "        text = texts[i]\n",
    "        reviews.append(text)\n",
    "        labels.append(idx)\n",
    "\n",
    "print()\n",
    "print(len(reviews))\n",
    "print(len(labels))"
   ]
  },
  {
   "cell_type": "markdown",
   "metadata": {},
   "source": [
    "## Tokenizer\n",
    "https://huggingface.co/microsoft/xtremedistil-l6-h384-uncased"
   ]
  },
  {
   "cell_type": "code",
   "execution_count": 3,
   "metadata": {},
   "outputs": [],
   "source": [
    "from transformers import AutoTokenizer\n",
    "import torch\n",
    "\n",
    "model_name = \"microsoft/xtremedistil-l6-h384-uncased\"\n",
    "tokenizer = AutoTokenizer.from_pretrained(model_name) "
   ]
  },
  {
   "cell_type": "markdown",
   "metadata": {},
   "source": [
    "## Split corpus\n"
   ]
  },
  {
   "cell_type": "code",
   "execution_count": 4,
   "metadata": {},
   "outputs": [],
   "source": [
    "from sklearn.model_selection import train_test_split\n",
    "\n",
    "x_train, x_test, y_train, y_test = train_test_split(\n",
    "    reviews, labels, random_state=42, train_size=0.8\n",
    ")\n",
    "\n",
    "x_train, x_val, y_train, y_val = train_test_split(x_train, y_train, train_size=0.8, random_state=42)"
   ]
  },
  {
   "cell_type": "markdown",
   "metadata": {},
   "source": [
    "## Dataloaders"
   ]
  },
  {
   "cell_type": "code",
   "execution_count": 5,
   "metadata": {},
   "outputs": [],
   "source": [
    "import torch\n",
    "from torch.utils.data import Dataset\n",
    "\n",
    "# custom dataset\n",
    "class PolarityReviewDataset(Dataset):\n",
    "\n",
    "    def __init__(self, reviews, labels, tokenizer):\n",
    "        self.reviews = reviews\n",
    "        self.labels = labels\n",
    "        self.tokenizer = tokenizer\n",
    "\n",
    "    def __len__(self):\n",
    "        return len(self.labels)\n",
    "\n",
    "    def __getitem__(self, idx):\n",
    "        review = self.reviews[idx]\n",
    "        label = self.labels[idx]\n",
    "\n",
    "        # encode review text\n",
    "        encoding = self.tokenizer.encode_plus(\n",
    "            review,\n",
    "            add_special_tokens=True,\n",
    "            max_length=512,\n",
    "            truncation=True,\n",
    "            return_token_type_ids=False,\n",
    "            padding=\"max_length\",\n",
    "            return_attention_mask=True,\n",
    "            return_tensors=\"pt\"\n",
    "        )\n",
    "\n",
    "        return {\n",
    "            \"text\": review,\n",
    "            \"input_ids\": encoding[\"input_ids\"].flatten(),\n",
    "            \"attention_mask\": encoding['attention_mask'].flatten(),\n",
    "            \"label\": torch.tensor(label)\n",
    "        }\n",
    "\n",
    "training_dataset = PolarityReviewDataset(x_train, y_train, tokenizer)\n",
    "val_dataset = PolarityReviewDataset(x_val, y_val, tokenizer)"
   ]
  },
  {
   "cell_type": "code",
   "execution_count": 6,
   "metadata": {},
   "outputs": [],
   "source": [
    "from torch.utils.data import DataLoader\n",
    "batch_size = 32\n",
    "\n",
    "# loader from custom dataset\n",
    "train_loader = DataLoader(training_dataset, shuffle=True, batch_size=batch_size)\n",
    "val_loader = DataLoader(val_dataset, shuffle=False, batch_size=batch_size)\n"
   ]
  },
  {
   "cell_type": "markdown",
   "metadata": {},
   "source": [
    "## Classifier"
   ]
  },
  {
   "cell_type": "code",
   "execution_count": 7,
   "metadata": {},
   "outputs": [],
   "source": [
    "from transformers import AutoModel\n",
    "import torch.nn as nn\n",
    "import torch.nn.functional as F\n",
    "\n",
    "class SentiBERT(nn.Module):\n",
    "    def __init__(self, model_name=model_name):\n",
    "        super(SentiBERT, self).__init__()\n",
    "\n",
    "        self.bert = AutoModel.from_pretrained(model_name)\n",
    "        self.linear = nn.Linear(384, 1) \n",
    "        self.sigmoid = nn.Sigmoid()\n",
    "\n",
    "    def forward(self, input_ids, attention_mask):\n",
    "        out = self.bert(input_ids=input_ids, attention_mask=attention_mask)\n",
    "        out = out.pooler_output\n",
    "        \n",
    "        out = self.linear(out)\n",
    "        out = self.sigmoid(out)\n",
    "\n",
    "        return out"
   ]
  },
  {
   "cell_type": "code",
   "execution_count": 8,
   "metadata": {},
   "outputs": [],
   "source": [
    "senti_bert = SentiBERT()"
   ]
  },
  {
   "cell_type": "markdown",
   "metadata": {},
   "source": [
    "## Setup device"
   ]
  },
  {
   "cell_type": "code",
   "execution_count": 9,
   "metadata": {},
   "outputs": [
    {
     "data": {
      "text/plain": [
       "device(type='cuda', index=0)"
      ]
     },
     "execution_count": 9,
     "metadata": {},
     "output_type": "execute_result"
    }
   ],
   "source": [
    "device = torch.device(\"cuda:0\" if torch.cuda.is_available() else \"cpu\")\n",
    "device"
   ]
  },
  {
   "cell_type": "markdown",
   "metadata": {},
   "source": [
    "## Hyperparams"
   ]
  },
  {
   "cell_type": "code",
   "execution_count": 10,
   "metadata": {},
   "outputs": [],
   "source": [
    "learning_rate = 2e-5\n",
    "\n",
    "loss_fn = nn.BCELoss()\n",
    "optimizer = torch.optim.Adam(senti_bert.parameters(), lr=learning_rate)"
   ]
  },
  {
   "cell_type": "markdown",
   "metadata": {},
   "source": [
    "## Send to device"
   ]
  },
  {
   "cell_type": "code",
   "execution_count": 11,
   "metadata": {},
   "outputs": [],
   "source": [
    "senti_bert = senti_bert.to(device)"
   ]
  },
  {
   "cell_type": "markdown",
   "metadata": {},
   "source": [
    "## Train"
   ]
  },
  {
   "cell_type": "code",
   "execution_count": 12,
   "metadata": {},
   "outputs": [
    {
     "name": "stderr",
     "output_type": "stream",
     "text": [
      "train_sentibert_for_5_epochs:   0%|                                                   | 0/5 [00:00<?, ?it/s]"
     ]
    },
    {
     "name": "stdout",
     "output_type": "stream",
     "text": [
      "\n",
      "Epoch: 1/5\tStep: 10\tTrain Loss: 0.6891475915908813\tValidation Loss: 0.6884626746177673\n",
      "\n",
      "Epoch: 1/5\tStep: 20\tTrain Loss: 0.681454598903656\tValidation Loss: 0.6787264049053192\n",
      "\n",
      "Epoch: 1/5\tStep: 30\tTrain Loss: 0.6572135090827942\tValidation Loss: 0.6457572460174561\n"
     ]
    },
    {
     "name": "stderr",
     "output_type": "stream",
     "text": [
      "train_sentibert_for_5_epochs:  20%|████████▌                                  | 1/5 [00:12<00:48, 12.24s/it]"
     ]
    },
    {
     "name": "stdout",
     "output_type": "stream",
     "text": [
      "\n",
      "Epoch: 1/5\tStep: 40\tTrain Loss: 0.5537824630737305\tValidation Loss: 0.5838164031505585\n",
      "\n",
      "Epoch: 2/5\tStep: 50\tTrain Loss: 0.5394884347915649\tValidation Loss: 0.5318625390529632\n",
      "\n",
      "Epoch: 2/5\tStep: 60\tTrain Loss: 0.47752267122268677\tValidation Loss: 0.5056676030158996\n",
      "\n",
      "Epoch: 2/5\tStep: 70\tTrain Loss: 0.4616835117340088\tValidation Loss: 0.48392467498779296\n"
     ]
    },
    {
     "name": "stderr",
     "output_type": "stream",
     "text": [
      "train_sentibert_for_5_epochs:  40%|█████████████████▏                         | 2/5 [00:24<00:35, 11.98s/it]"
     ]
    },
    {
     "name": "stdout",
     "output_type": "stream",
     "text": [
      "\n",
      "Epoch: 2/5\tStep: 80\tTrain Loss: 0.5304170846939087\tValidation Loss: 0.457325941324234\n",
      "\n",
      "Epoch: 3/5\tStep: 90\tTrain Loss: 0.3477678894996643\tValidation Loss: 0.4399589717388153\n",
      "\n",
      "Epoch: 3/5\tStep: 100\tTrain Loss: 0.3440104126930237\tValidation Loss: 0.4383411884307861\n",
      "\n",
      "Epoch: 3/5\tStep: 110\tTrain Loss: 0.26558199524879456\tValidation Loss: 0.42900424301624296\n"
     ]
    },
    {
     "name": "stderr",
     "output_type": "stream",
     "text": [
      "train_sentibert_for_5_epochs:  60%|█████████████████████████▊                 | 3/5 [00:35<00:23, 11.89s/it]"
     ]
    },
    {
     "name": "stdout",
     "output_type": "stream",
     "text": [
      "\n",
      "Epoch: 3/5\tStep: 120\tTrain Loss: 0.2444569319486618\tValidation Loss: 0.4305204272270203\n",
      "\n",
      "Epoch: 4/5\tStep: 130\tTrain Loss: 0.39802005887031555\tValidation Loss: 0.4101514667272568\n",
      "\n",
      "Epoch: 4/5\tStep: 140\tTrain Loss: 0.17469379305839539\tValidation Loss: 0.4074944108724594\n",
      "\n",
      "Epoch: 4/5\tStep: 150\tTrain Loss: 0.21144257485866547\tValidation Loss: 0.42601683735847473\n"
     ]
    },
    {
     "name": "stderr",
     "output_type": "stream",
     "text": [
      "train_sentibert_for_5_epochs:  80%|██████████████████████████████████▍        | 4/5 [00:47<00:11, 11.86s/it]"
     ]
    },
    {
     "name": "stdout",
     "output_type": "stream",
     "text": [
      "\n",
      "Epoch: 4/5\tStep: 160\tTrain Loss: 0.31842106580734253\tValidation Loss: 0.4177430018782616\n",
      "\n",
      "Epoch: 5/5\tStep: 170\tTrain Loss: 0.26167595386505127\tValidation Loss: 0.4134825676679611\n",
      "\n",
      "Epoch: 5/5\tStep: 180\tTrain Loss: 0.29652440547943115\tValidation Loss: 0.4114450588822365\n",
      "\n",
      "Epoch: 5/5\tStep: 190\tTrain Loss: 0.3432667851448059\tValidation Loss: 0.43169042766094207\n"
     ]
    },
    {
     "name": "stderr",
     "output_type": "stream",
     "text": [
      "train_sentibert_for_5_epochs: 100%|███████████████████████████████████████████| 5/5 [00:59<00:00, 11.89s/it]"
     ]
    },
    {
     "name": "stdout",
     "output_type": "stream",
     "text": [
      "\n",
      "Epoch: 5/5\tStep: 200\tTrain Loss: 0.196056067943573\tValidation Loss: 0.39756847023963926\n",
      "CPU times: user 59.8 s, sys: 390 ms, total: 1min\n",
      "Wall time: 59.4 s\n"
     ]
    },
    {
     "name": "stderr",
     "output_type": "stream",
     "text": [
      "\n"
     ]
    }
   ],
   "source": [
    "import numpy as np\n",
    "\n",
    "epochs = 5\n",
    "\n",
    "def train(model, train_loader, val_loader, epochs, optimizer, loss_fn):\n",
    "    print_counter = 0 # print loss for each 10th count\n",
    "\n",
    "    for e in tqdm(range(epochs), desc=f\"train_sentibert_for_{epochs}_epochs\"):\n",
    "        model.train()\n",
    "        for td in train_loader:\n",
    "            print_counter += 1\n",
    "\n",
    "            # unpack data\n",
    "            input_ids = td[\"input_ids\"]\n",
    "            input_ids = input_ids.to(device)\n",
    "\n",
    "            attention_mask = td[\"attention_mask\"].to(device)\n",
    "            attention_mask = attention_mask.to(device)\n",
    "\n",
    "            label = td[\"label\"]\n",
    "            label = label.long().to(device)\n",
    "\n",
    "\n",
    "            # zero gradients\n",
    "            model.zero_grad()\n",
    "\n",
    "            # forward pass\n",
    "            output = model(input_ids, attention_mask)\n",
    "            # the max probability based class\n",
    "            output, _ = torch.max(output, dim=1)\n",
    "\n",
    "            # backprop\n",
    "            loss = loss_fn(output, label.float())\n",
    "            loss.backward()\n",
    "            \n",
    "            #clip gradients\n",
    "            nn.utils.clip_grad_norm_(model.parameters(), max_norm=1.0)\n",
    "            \n",
    "            optimizer.step()\n",
    "\n",
    "            # log loss \n",
    "            if print_counter % 10 == 0:\n",
    "                validation_losses = []\n",
    "                \n",
    "                model.eval() # switch mode\n",
    "                with torch.no_grad():\n",
    "                    for td in val_loader:\n",
    "                        # unpack data\n",
    "                        # unpack data and send to device\n",
    "                        input_ids = td[\"input_ids\"]\n",
    "                        input_ids = input_ids.to(device)\n",
    "\n",
    "                        attention_mask = td[\"attention_mask\"]\n",
    "                        attention_mask = attention_mask.to(device)\n",
    "\n",
    "                        label = td[\"label\"]\n",
    "                        label = label.long().to(device)\n",
    "                        \n",
    "                        # repeat same steps from forward pass\n",
    "                        out = model(input_ids, attention_mask)\n",
    "                        out, _ = torch.max(out, dim=1)\n",
    "                        val_loss = loss_fn(out, label.float())\n",
    "                        \n",
    "                        # add loss to validation losses\n",
    "                        validation_losses.append(val_loss.item())\n",
    "                    print(f\"\\nEpoch: {e + 1}/{epochs}\\tStep: {print_counter}\\tTrain Loss: {loss.item()}\\tValidation Loss: {np.mean(validation_losses)}\")\n",
    "\n",
    "                model.train()\n",
    "\n",
    "\n",
    "%time train(model=senti_bert, train_loader=train_loader, val_loader=val_loader, epochs=epochs, optimizer=optimizer, loss_fn=loss_fn)"
   ]
  },
  {
   "cell_type": "markdown",
   "metadata": {
    "pycharm": {
     "name": "#%%\n"
    }
   },
   "source": [
    "## Inference"
   ]
  },
  {
   "cell_type": "code",
   "execution_count": 13,
   "metadata": {},
   "outputs": [],
   "source": [
    "# test data is a list of reviews as strings\n",
    "def classify_sentiment(model, test_data, tokenizer):\n",
    "    prediction = []\n",
    "    # switch model mode\n",
    "    model.eval()\n",
    "    with torch.no_grad():\n",
    "\n",
    "        for i in tqdm(range(len(test_data)), desc=\"inference\"):\n",
    "            review = test_data[i]\n",
    "            \n",
    "            # encode data\n",
    "            encoded = tokenizer.encode_plus(\n",
    "                review,\n",
    "                add_special_tokens=True,\n",
    "                max_length=512,\n",
    "                truncation=True,\n",
    "                return_token_type_ids=False,\n",
    "                padding=\"max_length\",\n",
    "                return_attention_mask=True,\n",
    "                return_tensors=\"pt\"\n",
    "            )\n",
    "            \n",
    "            # unpack\n",
    "            input_ids = encoded[\"input_ids\"].to(device)\n",
    "            attention_mask = encoded[\"attention_mask\"].to(device)\n",
    "            \n",
    "            \n",
    "            # forward pass\n",
    "            pred = model(input_ids, attention_mask)\n",
    "            pred, _ = torch.max(pred, dim=1)\n",
    "            # round to the nearest integer\n",
    "            pred =  torch.round(pred.squeeze())\n",
    "            \n",
    "            \n",
    "            # add to list\n",
    "            prediction.append(pred.cpu().detach().numpy()) # dear pytorch team, find a easier wrapper please!\n",
    "            \n",
    "    return np.array(prediction)"
   ]
  },
  {
   "cell_type": "code",
   "execution_count": 14,
   "metadata": {},
   "outputs": [
    {
     "name": "stderr",
     "output_type": "stream",
     "text": [
      "inference: 100%|█████████████████████████████████████████████████████████| 400/400 [00:01<00:00, 218.80it/s]\n"
     ]
    }
   ],
   "source": [
    "y_pred = classify_sentiment(senti_bert, x_test, tokenizer)"
   ]
  },
  {
   "cell_type": "code",
   "execution_count": 15,
   "metadata": {},
   "outputs": [],
   "source": [
    "y_pred = y_pred.reshape(-1, 1)"
   ]
  },
  {
   "cell_type": "code",
   "execution_count": 16,
   "metadata": {},
   "outputs": [],
   "source": [
    "y_test = np.array(y_test).reshape(-1, 1)"
   ]
  },
  {
   "cell_type": "markdown",
   "metadata": {},
   "source": [
    "## Evaluation"
   ]
  },
  {
   "cell_type": "code",
   "execution_count": 17,
   "metadata": {},
   "outputs": [
    {
     "name": "stdout",
     "output_type": "stream",
     "text": [
      "              precision    recall  f1-score   support\n",
      "\n",
      "           0       0.83      0.88      0.86       199\n",
      "           1       0.88      0.83      0.85       201\n",
      "\n",
      "    accuracy                           0.85       400\n",
      "   macro avg       0.86      0.86      0.85       400\n",
      "weighted avg       0.86      0.85      0.85       400\n",
      "\n"
     ]
    }
   ],
   "source": [
    "from sklearn.metrics import classification_report\n",
    "\n",
    "print(classification_report(y_pred=y_pred, y_true=y_test))"
   ]
  },
  {
   "cell_type": "code",
   "execution_count": null,
   "metadata": {},
   "outputs": [],
   "source": []
  }
 ],
 "metadata": {
  "kernelspec": {
   "display_name": "Python 3 (ipykernel)",
   "language": "python",
   "name": "python3"
  },
  "language_info": {
   "codemirror_mode": {
    "name": "ipython",
    "version": 3
   },
   "file_extension": ".py",
   "mimetype": "text/x-python",
   "name": "python",
   "nbconvert_exporter": "python",
   "pygments_lexer": "ipython3",
   "version": "3.9.7"
  },
  "widgets": {
   "application/vnd.jupyter.widget-state+json": {
    "state": {},
    "version_major": 2,
    "version_minor": 0
   }
  }
 },
 "nbformat": 4,
 "nbformat_minor": 4
}
