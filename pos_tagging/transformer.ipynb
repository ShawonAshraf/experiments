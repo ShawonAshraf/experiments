{
 "cells": [
  {
   "cell_type": "code",
   "execution_count": 1,
   "metadata": {},
   "outputs": [],
   "source": [
    "import torch\n",
    "import numpy as np\n",
    "import matplotlib.pyplot as plt"
   ]
  },
  {
   "cell_type": "code",
   "execution_count": 2,
   "metadata": {},
   "outputs": [],
   "source": [
    "# dataset \n",
    "\n",
    "# need idx 1, 2,3 : word, lemma and pos\n",
    "\n",
    "from typing import List\n",
    "from tqdm.auto import tqdm\n",
    "\n",
    "\n",
    "import os\n",
    "\n",
    "data_root = os.path.join(\n",
    "    os.getenv(\"EXPSTORE\"),\n",
    "    \"datasets\",\n",
    "    \"Tweebank-dev\",\n",
    "    \"converted\"\n",
    ")\n",
    "\n",
    "assert os.path.exists(data_root) == True\n",
    "\n",
    "data_splits = {\n",
    "    \"train\": \"en-ud-tweet-train.fixed.conllu\",\n",
    "    \"val\": \"en-ud-tweet-dev.fixed.conllu\",\n",
    "    \"test\": \"en-ud-tweet-test.fixed.conllu\"\n",
    "}\n",
    "\n",
    "\n",
    "class ConlluRowInfo:\n",
    "    word: str\n",
    "    lemma: str\n",
    "    pos: str\n",
    "\n",
    "    def __init__(self, word: str, lemma: str, pos: str) -> None:\n",
    "        self.word = word\n",
    "        self.lemma = lemma\n",
    "        self.pos = pos\n",
    "\n",
    "    def __str__(self) -> str:\n",
    "        rep = {\n",
    "            \"word\": self.word,\n",
    "            \"lemma\": self.lemma,\n",
    "            \"pos\": self.pos\n",
    "        }\n",
    "        return str(rep)\n",
    "\n",
    "\n",
    "class ConlluRow:\n",
    "    info: List[ConlluRowInfo]\n",
    "    # text: str\n",
    "\n",
    "    def __init__(self, infos: List[ConlluRowInfo]) -> None:\n",
    "        self.info = infos\n",
    "\n",
    "    def __str__(self) -> str:\n",
    "        return f\"info : {self.info}\""
   ]
  },
  {
   "cell_type": "code",
   "execution_count": 8,
   "metadata": {},
   "outputs": [],
   "source": [
    "def read_data(filename):\n",
    "    # ============ read ==============\n",
    "    with open(filename, \"r\") as f:\n",
    "        raw_data = f.readlines()\n",
    "        \n",
    "    # =============== process =============\n",
    "    lines = list()\n",
    "    buffer = list()\n",
    "    for _, line in tqdm(enumerate(raw_data), desc=\"reading lines from file\"):\n",
    "        if line == \"\\n\":\n",
    "            lines.append(buffer)\n",
    "            buffer = list()\n",
    "        else:\n",
    "            buffer.append(line)\n",
    "            \n",
    "        \n",
    "    # make sure that buffer is always empty after the loop ends\n",
    "    assert len(buffer) == 0\n",
    "    \n",
    "    # ========== orga in objects ============\n",
    "    processed_lines = list()\n",
    "    for idx, l in tqdm(enumerate(lines), desc=\"oragnizing in objects\"):\n",
    "        l_info = list()\n",
    "        for info in l[2:]:\n",
    "            temp = info.split(\"\\t\")\n",
    "            \n",
    "            word = temp[1]\n",
    "            lemma = temp[2]\n",
    "            tag = temp[3]\n",
    "            \n",
    "            l_info.append(ConlluRowInfo(word, lemma, tag))\n",
    "            \n",
    "        processed_lines.append(ConlluRow(l_info))\n",
    "        \n",
    "    # ===========================================\n",
    "    return processed_lines"
   ]
  },
  {
   "cell_type": "code",
   "execution_count": null,
   "metadata": {},
   "outputs": [],
   "source": []
  }
 ],
 "metadata": {
  "kernelspec": {
   "display_name": "exp",
   "language": "python",
   "name": "python3"
  },
  "language_info": {
   "codemirror_mode": {
    "name": "ipython",
    "version": 3
   },
   "file_extension": ".py",
   "mimetype": "text/x-python",
   "name": "python",
   "nbconvert_exporter": "python",
   "pygments_lexer": "ipython3",
   "version": "3.10.8"
  },
  "orig_nbformat": 4,
  "vscode": {
   "interpreter": {
    "hash": "5383723a85d76e4e9cac0d136e01f6d8a177dc9dc4ee2b9a35edd51227ec1b17"
   }
  }
 },
 "nbformat": 4,
 "nbformat_minor": 2
}
