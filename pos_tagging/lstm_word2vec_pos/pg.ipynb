{
 "cells": [
  {
   "cell_type": "code",
   "execution_count": 1,
   "id": "8463b7c3",
   "metadata": {
    "ExecuteTime": {
     "end_time": "2022-12-25T21:16:31.985283Z",
     "start_time": "2022-12-25T21:16:31.362698Z"
    }
   },
   "outputs": [],
   "source": [
    "import torch\n",
    "import numpy as np"
   ]
  },
  {
   "cell_type": "code",
   "execution_count": 8,
   "id": "b7a12e4c",
   "metadata": {
    "ExecuteTime": {
     "end_time": "2022-12-25T21:18:51.322937Z",
     "start_time": "2022-12-25T21:18:51.320068Z"
    }
   },
   "outputs": [
    {
     "data": {
      "text/plain": [
       "tensor([17., 17., 17., 17., 17., 17., 17., 17., 17., 17.])"
      ]
     },
     "execution_count": 8,
     "metadata": {},
     "output_type": "execute_result"
    }
   ],
   "source": [
    "x = torch.ones(size=(10,)) * 17\n",
    "x"
   ]
  },
  {
   "cell_type": "code",
   "execution_count": 11,
   "id": "55ff7d77",
   "metadata": {
    "ExecuteTime": {
     "end_time": "2022-12-25T21:20:25.273374Z",
     "start_time": "2022-12-25T21:20:25.270171Z"
    }
   },
   "outputs": [
    {
     "data": {
      "text/plain": [
       "tensor([17., 17., 17., 17., 17., 17., 17., 17., 17., 17.])"
      ]
     },
     "execution_count": 11,
     "metadata": {},
     "output_type": "execute_result"
    }
   ],
   "source": [
    "x[(x != 0).nonzero()].squeeze(1)"
   ]
  },
  {
   "cell_type": "code",
   "execution_count": null,
   "id": "be8f0a82",
   "metadata": {},
   "outputs": [],
   "source": []
  }
 ],
 "metadata": {
  "kernelspec": {
   "display_name": "Python 3 (ipykernel)",
   "language": "python",
   "name": "python3"
  },
  "language_info": {
   "codemirror_mode": {
    "name": "ipython",
    "version": 3
   },
   "file_extension": ".py",
   "mimetype": "text/x-python",
   "name": "python",
   "nbconvert_exporter": "python",
   "pygments_lexer": "ipython3",
   "version": "3.10.8"
  },
  "toc": {
   "base_numbering": 1,
   "nav_menu": {},
   "number_sections": true,
   "sideBar": true,
   "skip_h1_title": false,
   "title_cell": "Table of Contents",
   "title_sidebar": "Contents",
   "toc_cell": false,
   "toc_position": {},
   "toc_section_display": true,
   "toc_window_display": false
  }
 },
 "nbformat": 4,
 "nbformat_minor": 5
}
