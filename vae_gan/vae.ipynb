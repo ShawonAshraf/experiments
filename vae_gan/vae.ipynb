{
 "cells": [
  {
   "cell_type": "code",
   "execution_count": 1,
   "metadata": {},
   "outputs": [],
   "source": [
    "import torch\n",
    "import numpy as np\n",
    "\n",
    "import matplotlib.pyplot as plt\n",
    "%matplotlib inline\n",
    "%config InlineBackend.figure_format = \"retina\"\n",
    "\n",
    "\n",
    "from typing import Any, Callable, List, Tuple, Dict\n",
    "\n",
    "from torch.utils.data import DataLoader\n",
    "from torchvision.datasets import FashionMNIST, MNIST\n",
    "\n",
    "\n",
    "\n",
    "from lightning.pytorch.utilities.types import STEP_OUTPUT, OptimizerLRScheduler\n",
    "import torch.nn as nn\n",
    "import torch.nn.functional as F\n",
    "import torch.optim as optim\n",
    "import torchvision.transforms as transforms\n",
    "import torchvision.utils as vutils\n",
    "\n",
    "import lightning.pytorch as L\n",
    "from einops import rearrange, reduce, repeat\n",
    "\n",
    "torch.manual_seed(2023)\n",
    "np.random.seed(2023)\n",
    "torch.set_float32_matmul_precision('medium')\n"
   ]
  },
  {
   "cell_type": "code",
   "execution_count": 2,
   "metadata": {},
   "outputs": [],
   "source": [
    "# trainset = FashionMNIST(root='~/.cache/torchvision_cache', train=True, download=True,\n",
    "#                         transform=transforms.Compose([\n",
    "#                         transforms.ToTensor(), transforms.Normalize((0.5,), (0.5,))]))\n",
    "\n",
    "\n",
    "trainset = MNIST(root=\"~/.cache/torchvision_cache\",\n",
    "                      download=True, train=True, transform=transforms.ToTensor())\n"
   ]
  },
  {
   "cell_type": "code",
   "execution_count": 3,
   "metadata": {},
   "outputs": [
    {
     "name": "stdout",
     "output_type": "stream",
     "text": [
      "torch.Size([1, 28, 28])\n"
     ]
    },
    {
     "data": {
      "image/png": "[encoded data removed]",
      "text/plain": [
       "<Figure size 640x480 with 1 Axes>"
      ]
     },
     "metadata": {
      "image/png": {
       "height": 413,
       "width": 416
      }
     },
     "output_type": "display_data"
    }
   ],
   "source": [
    "plt.imshow(trainset[0][0].squeeze(), cmap='gray')\n",
    "print(trainset[0][0].size())\n"
   ]
  },
  {
   "cell_type": "code",
   "execution_count": 4,
   "metadata": {},
   "outputs": [],
   "source": [
    "trainloader = DataLoader(trainset, batch_size=128, shuffle=True)\n"
   ]
  },
  {
   "cell_type": "code",
   "execution_count": 5,
   "metadata": {},
   "outputs": [],
   "source": [
    "class VAELoss(nn.Module):\n",
    "    def __init__(self, *args, **kwargs) -> None:\n",
    "        super().__init__(*args, **kwargs)\n",
    "        \n",
    "    def forward(self, x: torch.Tensor, x_hat: torch.Tensor, mean: torch.Tensor, log_var: torch.Tensor) -> torch.Tensor:\n",
    "        reproduction_loss = F.binary_cross_entropy(input=x_hat, target=x, reduction=\"sum\")\n",
    "        kl_divergence = -0.5 * torch.sum(1 + log_var - mean.pow(2) - log_var.exp())\n",
    "        \n",
    "        return reproduction_loss + kl_divergence\n"
   ]
  },
  {
   "cell_type": "code",
   "execution_count": 6,
   "metadata": {},
   "outputs": [],
   "source": [
    "from typing import Any\n",
    "\n",
    "from lightning.pytorch.utilities.types import STEP_OUTPUT, OptimizerLRScheduler\n",
    "\n",
    "\n",
    "class VAE(L.LightningModule):\n",
    "    def __init__(self) -> None:\n",
    "        super().__init__()\n",
    "        \n",
    "        self.encoder = nn.Sequential(\n",
    "            nn.Linear(784, 512),\n",
    "            nn.LeakyReLU(0.2),\n",
    "            nn.Linear(512, 512),\n",
    "            nn.LeakyReLU(0.2),\n",
    "            \n",
    "        )\n",
    "        \n",
    "        # latent space\n",
    "        self.latent_mean = nn.Linear(512, 256)\n",
    "        self.latent_log_var = nn.Linear(512, 256)\n",
    "        \n",
    "        \n",
    "        self.decoder = nn.Sequential(\n",
    "            nn.Linear(256, 512),\n",
    "            nn.LeakyReLU(0.2),\n",
    "            nn.Linear(512, 512),\n",
    "            nn.LeakyReLU(0.2),\n",
    "            nn.Linear(512, 784),\n",
    "            nn.LeakyReLU(0.2),\n",
    "            nn.Sigmoid()\n",
    "        )\n",
    "        \n",
    "    \n",
    "    def reparameterisation(self, mean: torch.Tensor, log_var: torch.Tensor) -> torch.Tensor:\n",
    "        # assuming log_var\n",
    "        # un-log and then sqrt to get the std-dev \n",
    "        std = torch.exp(0.5 * log_var)\n",
    "        eps = torch.randn_like(std).to(self.device)\n",
    "        return mean + eps * std\n",
    "        \n",
    "        \n",
    "    def forward(self, x: torch.Tensor) -> Any:\n",
    "        out = self.encoder(x)\n",
    "        \n",
    "        mean = self.latent_mean(out)\n",
    "        mean = F.leaky_relu(mean, 0.2)\n",
    "        \n",
    "        log_var = self.latent_log_var(out)\n",
    "        log_var = F.leaky_relu(log_var, 0.2)\n",
    "        \n",
    "        z = self.reparameterisation(mean, log_var)\n",
    "        \n",
    "        x_hat = self.decoder(z)\n",
    "        \n",
    "        \n",
    "        return x_hat, mean, log_var\n",
    "    \n",
    "    \n",
    "    def configure_optimizers(self) -> OptimizerLRScheduler:\n",
    "        return optim.AdamW(self.parameters(), lr=1e-3)\n",
    "    \n",
    "    \n",
    "    def training_step(self, batch, batch_idx) -> STEP_OUTPUT:\n",
    "        x, _ = batch\n",
    "                \n",
    "        x = torch.flatten(x, start_dim=1)\n",
    "        x /= 255.0 \n",
    "        \n",
    "        x_hat, mean, log_var = self(x)\n",
    "        \n",
    "        loss = F.binary_cross_entropy(x_hat, x, reduction=\"sum\")\n",
    "        kl = -0.5 * torch.sum(1 + log_var - mean.pow(2) - log_var.exp())\n",
    "        loss += kl\n",
    "        \n",
    "        self.log('train_loss', loss, prog_bar=True)\n",
    "        \n",
    "        return {\n",
    "            \"loss\": loss,\n",
    "            \"log\": {\n",
    "                \"Loss/Training\": loss\n",
    "            }\n",
    "        }\n",
    "\n",
    "\n",
    "# model = VAE()\n",
    "# x = torch.randn(8, 784)\n",
    "# y = torch.zeros(8, )\n",
    "\n",
    "# x_hat, mean, log_var = model(x)\n",
    "# print(x_hat)\n",
    "\n",
    "# loss = F.binary_cross_entropy(x_hat, x, reduction=\"sum\")\n",
    "# kl = -0.5 * torch.sum(1 + log_var - mean.pow(2) - log_var.exp())\n",
    "# print(loss + kl)\n"
   ]
  },
  {
   "cell_type": "code",
   "execution_count": 7,
   "metadata": {},
   "outputs": [
    {
     "name": "stderr",
     "output_type": "stream",
     "text": [
      "GPU available: True (cuda), used: True\n",
      "TPU available: False, using: 0 TPU cores\n",
      "IPU available: False, using: 0 IPUs\n",
      "HPU available: False, using: 0 HPUs\n",
      "LOCAL_RANK: 0 - CUDA_VISIBLE_DEVICES: [0]\n",
      "\n",
      "  | Name           | Type       | Params\n",
      "----------------------------------------------\n",
      "0 | encoder        | Sequential | 664 K \n",
      "1 | latent_mean    | Linear     | 131 K \n",
      "2 | latent_log_var | Linear     | 131 K \n",
      "3 | decoder        | Sequential | 796 K \n",
      "----------------------------------------------\n",
      "1.7 M     Trainable params\n",
      "0         Non-trainable params\n",
      "1.7 M     Total params\n",
      "6.895     Total estimated model params size (MB)\n",
      "/home/shawon/miniconda3/envs/exp/lib/python3.10/site-packages/lightning/pytorch/loggers/tensorboard.py:187: Could not log computational graph to TensorBoard: The `model.example_input_array` attribute is not set or `input_array` was not given.\n",
      "/home/shawon/miniconda3/envs/exp/lib/python3.10/site-packages/lightning/pytorch/trainer/connectors/data_connector.py:441: The 'train_dataloader' does not have many workers which may be a bottleneck. Consider increasing the value of the `num_workers` argument` to `num_workers=31` in the `DataLoader` to improve performance.\n"
     ]
    },
    {
     "data": {
      "application/vnd.jupyter.widget-view+json": {
       "model_id": "df5dee73436a493e8cfa3ed33789d4a3",
       "version_major": 2,
       "version_minor": 0
      },
      "text/plain": [
       "Training: |          | 0/? [00:00<?, ?it/s]"
      ]
     },
     "metadata": {},
     "output_type": "display_data"
    },
    {
     "name": "stderr",
     "output_type": "stream",
     "text": [
      "`Trainer.fit` stopped: `max_epochs=15` reached.\n"
     ]
    }
   ],
   "source": [
    "def train() -> Any:\n",
    "    logger = L.loggers.TensorBoardLogger(\"tb_logs\", name=\"vae_fashion_mnist\", log_graph=True)\n",
    "    \n",
    "    \n",
    "    model = VAE()\n",
    "    trainer = L.Trainer(max_epochs=15, devices=1, accelerator=\"gpu\", logger=logger)\n",
    "    # trainer = L.Trainer(max_epochs=5, devices=1, accelerator=\"cpu\", logger=logger)\n",
    "    trainer.fit(model, trainloader)\n",
    "    \n",
    "    return model\n",
    "\n",
    "\n",
    "model = train()\n"
   ]
  },
  {
   "cell_type": "code",
   "execution_count": 8,
   "metadata": {},
   "outputs": [],
   "source": [
    "# %load_ext tensorboard\n",
    "# %tensorboard --logdir tb_logs/\n"
   ]
  },
  {
   "cell_type": "code",
   "execution_count": 35,
   "metadata": {},
   "outputs": [
    {
     "name": "stdout",
     "output_type": "stream",
     "text": [
      "torch.Size([28, 28])\n"
     ]
    },
    {
     "data": {
      "image/png": "[encoded data removed]",
      "text/plain": [
       "<Figure size 640x480 with 1 Axes>"
      ]
     },
     "metadata": {
      "image/png": {
       "height": 413,
       "width": 416
      }
     },
     "output_type": "display_data"
    }
   ],
   "source": [
    "with torch.no_grad():\n",
    "    x = torch.randn(256, ).to(model.device)\n",
    "    out = model.decoder(x)\n",
    "    \n",
    "    \n",
    "    \n",
    "    out = torch.unflatten(out, -1, (28, 28))\n",
    "    print(out.size())\n",
    "    \n",
    "    plt.imshow(out, cmap='gray')\n"
   ]
  },
  {
   "cell_type": "code",
   "execution_count": null,
   "metadata": {},
   "outputs": [],
   "source": []
  },
  {
   "cell_type": "code",
   "execution_count": null,
   "metadata": {},
   "outputs": [],
   "source": []
  }
 ],
 "metadata": {
  "kernelspec": {
   "display_name": "exp",
   "language": "python",
   "name": "python3"
  },
  "language_info": {
   "codemirror_mode": {
    "name": "ipython",
    "version": 3
   },
   "file_extension": ".py",
   "mimetype": "text/x-python",
   "name": "python",
   "nbconvert_exporter": "python",
   "pygments_lexer": "ipython3",
   "version": "3.10.8"
  }
 },
 "nbformat": 4,
 "nbformat_minor": 2
}
