{
 "cells": [
  {
   "cell_type": "code",
   "execution_count": 56,
   "metadata": {},
   "outputs": [],
   "source": [
    "import torch\n",
    "import numpy as np\n",
    "\n",
    "import matplotlib.pyplot as plt\n",
    "%matplotlib inline\n",
    "%config InlineBackend.figure_format = \"retina\"\n",
    "\n",
    "torch.manual_seed(2023)\n",
    "np.random.seed(2023)\n",
    "torch.set_float32_matmul_precision('medium')\n"
   ]
  },
  {
   "cell_type": "code",
   "execution_count": 2,
   "metadata": {},
   "outputs": [],
   "source": [
    "from typing import Any, Callable, List, Tuple, Dict\n",
    "from lightning.pytorch.utilities.types import STEP_OUTPUT, OptimizerLRScheduler\n",
    "import torch.nn as nn\n",
    "import torch.nn.functional as F\n",
    "import torch.optim as optim\n",
    "\n",
    "\n",
    "import lightning.pytorch as L\n",
    "\n",
    "class AutoEncoder(L.LightningModule):\n",
    "    def __init__(self) -> None:\n",
    "        super().__init__()\n",
    "        \n",
    "        self.encoder = nn.Linear(784, 512)\n",
    "        self.latent_space = nn.Linear(512, 256)\n",
    "        self.decoder = nn.Sequential(\n",
    "            nn.Linear(256, 512),\n",
    "            nn.Linear(512, 784),\n",
    "            nn.LeakyReLU()\n",
    "        )\n",
    "    \n",
    "        \n",
    "        self.criterion = nn.MSELoss()\n",
    "        \n",
    "    def forward(self, x: torch.Tensor) -> torch.Tensor:\n",
    "        out = self.encoder(x)\n",
    "        out = F.leaky_relu(out)\n",
    "        out = self.latent_space(out)\n",
    "        out = F.leaky_relu(out)\n",
    "        out = self.decoder(out)\n",
    "        out = F.leaky_relu(out)\n",
    "        \n",
    "        return out\n",
    "    \n",
    "    def configure_optimizers(self) -> Any:\n",
    "        return optim.AdamW(params=self.parameters(), lr=0.0005)    \n",
    "    \n",
    "    def __compute_loss(self, batch: torch.Tensor) -> torch.Tensor:\n",
    "        out = self(batch)\n",
    "        loss = self.criterion(out, batch)\n",
    "        return loss\n",
    "    \n",
    "    \n",
    "    def training_step(self, batch: torch.Tensor, batch_idx: int) -> STEP_OUTPUT:\n",
    "        loss = self.__compute_loss(batch)\n",
    "        self.log(\"training_loss\", loss, prog_bar=True)\n",
    "        \n",
    "        return {\n",
    "            \"loss\": loss,\n",
    "            \"log\": {\n",
    "                \"training_loss\": loss\n",
    "            }\n",
    "        }\n",
    "    \n",
    "    def validation_step(self, batch: torch.Tensor, batch_idx: int) -> STEP_OUTPUT:\n",
    "        loss = self.__compute_loss(batch)\n",
    "        self.log(\"validation_loss\", loss, prog_bar=True)\n",
    "        \n",
    "        return {\n",
    "            \"loss\": loss,\n",
    "            \"log\": {\n",
    "                \"validation_loss\": loss\n",
    "            }\n",
    "        }\n"
   ]
  },
  {
   "cell_type": "code",
   "execution_count": 3,
   "metadata": {},
   "outputs": [],
   "source": [
    "from torchvision.datasets import MNIST\n",
    "\n",
    "train_dataset = MNIST(root=\"~/.cache/torchvision_cache\", download=True, train=True)\n",
    "val_dataset = MNIST(root=\"~/.cache/torchvision_cache\", train=False)\n"
   ]
  },
  {
   "cell_type": "code",
   "execution_count": 4,
   "metadata": {},
   "outputs": [],
   "source": [
    "from torch.utils.data import DataLoader\n",
    "\n",
    "\n",
    "def collate(batch: Any) -> torch.Tensor:\n",
    "    images =  list(zip(*batch))[0]\n",
    "    image_arrays = np.array([np.array(im).flatten() for im in images], dtype=np.float32)\n",
    "    \n",
    "    return torch.from_numpy(image_arrays / 255.0)\n",
    "    \n",
    "    \n",
    "\n",
    "train_loader = DataLoader(train_dataset, shuffle=True, batch_size=256, collate_fn=collate)\n",
    "val_loader = DataLoader(val_dataset, shuffle=False, batch_size=256, collate_fn=collate)\n",
    "\n",
    "# for batch in train_loader:\n",
    "#     print(batch)\n",
    "#     break\n"
   ]
  },
  {
   "cell_type": "code",
   "execution_count": 5,
   "metadata": {},
   "outputs": [],
   "source": [
    "def train(epochs=20):\n",
    "    logger = L.loggers.TensorBoardLogger(\"tb_logs\",  # type: ignore\n",
    "                                         name=\"autoencoder_mnist\")\n",
    "    logger.log_graph = True\n",
    "    \n",
    "    trainer = L.Trainer(accelerator=\"gpu\", \n",
    "                        devices=1, \n",
    "                        max_epochs=epochs, \n",
    "                        benchmark=True,\n",
    "                        logger=logger)\n",
    "    \n",
    "    model = AutoEncoder()\n",
    "    trainer.fit(model, train_loader, val_loader)\n",
    "    \n",
    "    return model\n"
   ]
  },
  {
   "cell_type": "code",
   "execution_count": 6,
   "metadata": {},
   "outputs": [
    {
     "name": "stderr",
     "output_type": "stream",
     "text": [
      "GPU available: True (cuda), used: True\n",
      "TPU available: False, using: 0 TPU cores\n",
      "IPU available: False, using: 0 IPUs\n",
      "HPU available: False, using: 0 HPUs\n",
      "Missing logger folder: tb_logs/autoencoder_mnist\n",
      "LOCAL_RANK: 0 - CUDA_VISIBLE_DEVICES: [0]\n",
      "\n",
      "  | Name         | Type       | Params\n",
      "--------------------------------------------\n",
      "0 | encoder      | Linear     | 401 K \n",
      "1 | latent_space | Linear     | 131 K \n",
      "2 | decoder      | Sequential | 533 K \n",
      "3 | criterion    | MSELoss    | 0     \n",
      "--------------------------------------------\n",
      "1.1 M     Trainable params\n",
      "0         Non-trainable params\n",
      "1.1 M     Total params\n",
      "4.268     Total estimated model params size (MB)\n"
     ]
    },
    {
     "data": {
      "application/vnd.jupyter.widget-view+json": {
       "model_id": "13fabbdd95db42d78c18aa49a887d2f7",
       "version_major": 2,
       "version_minor": 0
      },
      "text/plain": [
       "Sanity Checking: |          | 0/? [00:00<?, ?it/s]"
      ]
     },
     "metadata": {},
     "output_type": "display_data"
    },
    {
     "name": "stderr",
     "output_type": "stream",
     "text": [
      "/home/shawon/miniconda3/envs/exp/lib/python3.10/site-packages/lightning/pytorch/trainer/connectors/data_connector.py:441: The 'val_dataloader' does not have many workers which may be a bottleneck. Consider increasing the value of the `num_workers` argument` to `num_workers=31` in the `DataLoader` to improve performance.\n",
      "/home/shawon/miniconda3/envs/exp/lib/python3.10/site-packages/lightning/pytorch/trainer/connectors/data_connector.py:441: The 'train_dataloader' does not have many workers which may be a bottleneck. Consider increasing the value of the `num_workers` argument` to `num_workers=31` in the `DataLoader` to improve performance.\n"
     ]
    },
    {
     "data": {
      "application/vnd.jupyter.widget-view+json": {
       "model_id": "cc45ccb2b125494c84751151a43881b9",
       "version_major": 2,
       "version_minor": 0
      },
      "text/plain": [
       "Training: |          | 0/? [00:00<?, ?it/s]"
      ]
     },
     "metadata": {},
     "output_type": "display_data"
    },
    {
     "data": {
      "application/vnd.jupyter.widget-view+json": {
       "model_id": "bb6ae12d06754330ad7315de2a454fef",
       "version_major": 2,
       "version_minor": 0
      },
      "text/plain": [
       "Validation: |          | 0/? [00:00<?, ?it/s]"
      ]
     },
     "metadata": {},
     "output_type": "display_data"
    },
    {
     "data": {
      "application/vnd.jupyter.widget-view+json": {
       "model_id": "da20abc1737f4863b7ce881ff2cd8f3f",
       "version_major": 2,
       "version_minor": 0
      },
      "text/plain": [
       "Validation: |          | 0/? [00:00<?, ?it/s]"
      ]
     },
     "metadata": {},
     "output_type": "display_data"
    },
    {
     "data": {
      "application/vnd.jupyter.widget-view+json": {
       "model_id": "e6ef023c22794e37b0ee58837daf96e0",
       "version_major": 2,
       "version_minor": 0
      },
      "text/plain": [
       "Validation: |          | 0/? [00:00<?, ?it/s]"
      ]
     },
     "metadata": {},
     "output_type": "display_data"
    },
    {
     "data": {
      "application/vnd.jupyter.widget-view+json": {
       "model_id": "d87992e6b6674a709a86de59057540ff",
       "version_major": 2,
       "version_minor": 0
      },
      "text/plain": [
       "Validation: |          | 0/? [00:00<?, ?it/s]"
      ]
     },
     "metadata": {},
     "output_type": "display_data"
    },
    {
     "data": {
      "application/vnd.jupyter.widget-view+json": {
       "model_id": "ada80fd5cc464b8f8fc3db9e8332c59a",
       "version_major": 2,
       "version_minor": 0
      },
      "text/plain": [
       "Validation: |          | 0/? [00:00<?, ?it/s]"
      ]
     },
     "metadata": {},
     "output_type": "display_data"
    },
    {
     "data": {
      "application/vnd.jupyter.widget-view+json": {
       "model_id": "76e6a63aa8b143e4aadae23fb0a9998b",
       "version_major": 2,
       "version_minor": 0
      },
      "text/plain": [
       "Validation: |          | 0/? [00:00<?, ?it/s]"
      ]
     },
     "metadata": {},
     "output_type": "display_data"
    },
    {
     "data": {
      "application/vnd.jupyter.widget-view+json": {
       "model_id": "6174e55bf48c4e20a59d10653c41f2ad",
       "version_major": 2,
       "version_minor": 0
      },
      "text/plain": [
       "Validation: |          | 0/? [00:00<?, ?it/s]"
      ]
     },
     "metadata": {},
     "output_type": "display_data"
    },
    {
     "data": {
      "application/vnd.jupyter.widget-view+json": {
       "model_id": "65e654884f274125b7b934b83fa3aef3",
       "version_major": 2,
       "version_minor": 0
      },
      "text/plain": [
       "Validation: |          | 0/? [00:00<?, ?it/s]"
      ]
     },
     "metadata": {},
     "output_type": "display_data"
    },
    {
     "data": {
      "application/vnd.jupyter.widget-view+json": {
       "model_id": "7db2e75e68934ebf9a8fac4faff6f13d",
       "version_major": 2,
       "version_minor": 0
      },
      "text/plain": [
       "Validation: |          | 0/? [00:00<?, ?it/s]"
      ]
     },
     "metadata": {},
     "output_type": "display_data"
    },
    {
     "data": {
      "application/vnd.jupyter.widget-view+json": {
       "model_id": "01d9f527719b47a5b851d9f4c58dfb6f",
       "version_major": 2,
       "version_minor": 0
      },
      "text/plain": [
       "Validation: |          | 0/? [00:00<?, ?it/s]"
      ]
     },
     "metadata": {},
     "output_type": "display_data"
    },
    {
     "data": {
      "application/vnd.jupyter.widget-view+json": {
       "model_id": "1146d952f8b2490da6c63fdc87945098",
       "version_major": 2,
       "version_minor": 0
      },
      "text/plain": [
       "Validation: |          | 0/? [00:00<?, ?it/s]"
      ]
     },
     "metadata": {},
     "output_type": "display_data"
    },
    {
     "data": {
      "application/vnd.jupyter.widget-view+json": {
       "model_id": "7079502c98b24a8fa25850249aa0f91f",
       "version_major": 2,
       "version_minor": 0
      },
      "text/plain": [
       "Validation: |          | 0/? [00:00<?, ?it/s]"
      ]
     },
     "metadata": {},
     "output_type": "display_data"
    },
    {
     "data": {
      "application/vnd.jupyter.widget-view+json": {
       "model_id": "cd954728b9554612915760e519917764",
       "version_major": 2,
       "version_minor": 0
      },
      "text/plain": [
       "Validation: |          | 0/? [00:00<?, ?it/s]"
      ]
     },
     "metadata": {},
     "output_type": "display_data"
    },
    {
     "data": {
      "application/vnd.jupyter.widget-view+json": {
       "model_id": "03f95379d725445dac1f62439bb6ba21",
       "version_major": 2,
       "version_minor": 0
      },
      "text/plain": [
       "Validation: |          | 0/? [00:00<?, ?it/s]"
      ]
     },
     "metadata": {},
     "output_type": "display_data"
    },
    {
     "data": {
      "application/vnd.jupyter.widget-view+json": {
       "model_id": "f1bb581ab2f144e4b2259419fb0c3461",
       "version_major": 2,
       "version_minor": 0
      },
      "text/plain": [
       "Validation: |          | 0/? [00:00<?, ?it/s]"
      ]
     },
     "metadata": {},
     "output_type": "display_data"
    },
    {
     "data": {
      "application/vnd.jupyter.widget-view+json": {
       "model_id": "39c153428dfd48719354cba837ac7428",
       "version_major": 2,
       "version_minor": 0
      },
      "text/plain": [
       "Validation: |          | 0/? [00:00<?, ?it/s]"
      ]
     },
     "metadata": {},
     "output_type": "display_data"
    },
    {
     "data": {
      "application/vnd.jupyter.widget-view+json": {
       "model_id": "3e0b6ae30de54ebc892e3edbd4b807f0",
       "version_major": 2,
       "version_minor": 0
      },
      "text/plain": [
       "Validation: |          | 0/? [00:00<?, ?it/s]"
      ]
     },
     "metadata": {},
     "output_type": "display_data"
    },
    {
     "data": {
      "application/vnd.jupyter.widget-view+json": {
       "model_id": "8164156ba5674527bac8faf03a35fc20",
       "version_major": 2,
       "version_minor": 0
      },
      "text/plain": [
       "Validation: |          | 0/? [00:00<?, ?it/s]"
      ]
     },
     "metadata": {},
     "output_type": "display_data"
    },
    {
     "data": {
      "application/vnd.jupyter.widget-view+json": {
       "model_id": "bc5f78a9752a4283bd16127c424c00d9",
       "version_major": 2,
       "version_minor": 0
      },
      "text/plain": [
       "Validation: |          | 0/? [00:00<?, ?it/s]"
      ]
     },
     "metadata": {},
     "output_type": "display_data"
    },
    {
     "data": {
      "application/vnd.jupyter.widget-view+json": {
       "model_id": "c13bada8a50949d68ba68ddce4fb903e",
       "version_major": 2,
       "version_minor": 0
      },
      "text/plain": [
       "Validation: |          | 0/? [00:00<?, ?it/s]"
      ]
     },
     "metadata": {},
     "output_type": "display_data"
    },
    {
     "name": "stderr",
     "output_type": "stream",
     "text": [
      "`Trainer.fit` stopped: `max_epochs=20` reached.\n"
     ]
    }
   ],
   "source": [
    "model = train()\n"
   ]
  },
  {
   "cell_type": "code",
   "execution_count": 57,
   "metadata": {},
   "outputs": [
    {
     "name": "stdout",
     "output_type": "stream",
     "text": [
      "0\n"
     ]
    },
    {
     "data": {
      "image/png": "[encoded data removed]",
      "text/plain": [
       "<Figure size 640x480 with 1 Axes>"
      ]
     },
     "metadata": {
      "image/png": {
       "height": 417,
       "width": 422
      }
     },
     "output_type": "display_data"
    }
   ],
   "source": [
    "@torch.no_grad()\n",
    "def inference(image: Any, model=model) -> torch.Tensor:\n",
    "    inputs = torch.from_numpy(np.array(image, dtype=np.float32) / 255.0)\n",
    "    gen = model(torch.flatten(inputs))\n",
    "    \n",
    "    gen = torch.unflatten(gen, dim=-1, sizes=(28, 28))\n",
    "    \n",
    "    return gen\n",
    "\n",
    "\n",
    "sample = val_dataset[3]\n",
    "gen = inference(sample[0])\n",
    "plt.imshow(gen.cpu().numpy())\n",
    "print(sample[1])\n"
   ]
  },
  {
   "cell_type": "code",
   "execution_count": 20,
   "metadata": {},
   "outputs": [],
   "source": [
    "def randomly_pick_n(n: int=8, max=len(val_dataset)) -> Tuple:\n",
    "    indexes = torch.randint(0, max, size=(n, )).tolist()\n",
    "    selection = [val_dataset[i][0] for i in indexes]\n",
    "    actuals = [torch.from_numpy(np.array(im, dtype=np.float32)) for im in selection]\n",
    "    generated = [inference(im) for im in selection]\n",
    "    \n",
    "    return torch.stack(generated), torch.stack(actuals)\n",
    "    "
   ]
  },
  {
   "cell_type": "code",
   "execution_count": 21,
   "metadata": {},
   "outputs": [],
   "source": [
    "generated, actuals = randomly_pick_n()\n"
   ]
  },
  {
   "cell_type": "code",
   "execution_count": 53,
   "metadata": {},
   "outputs": [],
   "source": [
    "from torch.utils.tensorboard import SummaryWriter\n",
    "import torchvision as tv\n",
    "from einops import rearrange\n",
    "\n",
    "\n",
    "writer = SummaryWriter(log_dir=\"tb_logs\", comment=\"image_comparison\")\n",
    "\n",
    "\n",
    "gen_grid = tv.utils.make_grid(rearrange(generated, \"batch h w -> batch 1 h w\"), nrow=8)\n",
    "actual_grid = tv.utils.make_grid(rearrange(actuals, \"batch h w -> batch 1 h w\"), nrow=8)\n",
    "\n",
    "writer.add_image(\"generated_images\", gen_grid, 0)\n",
    "writer.add_image(\"actual_images\", actual_grid, 0)\n",
    "\n",
    "writer.flush()\n",
    "writer.close()\n"
   ]
  },
  {
   "cell_type": "code",
   "execution_count": 15,
   "metadata": {},
   "outputs": [
    {
     "name": "stdout",
     "output_type": "stream",
     "text": [
      "The tensorboard extension is already loaded. To reload it, use:\n",
      "  %reload_ext tensorboard\n"
     ]
    },
    {
     "data": {
      "text/plain": [
       "Reusing TensorBoard on port 6008 (pid 474065), started 0:00:22 ago. (Use '!kill 474065' to kill it.)"
      ]
     },
     "metadata": {},
     "output_type": "display_data"
    },
    {
     "data": {
      "text/html": [
       "\n",
       "      <iframe id=\"tensorboard-frame-b91107ba5cc5df2f\" width=\"100%\" height=\"800\" frameborder=\"0\">\n",
       "      </iframe>\n",
       "      <script>\n",
       "        (function() {\n",
       "          const frame = document.getElementById(\"tensorboard-frame-b91107ba5cc5df2f\");\n",
       "          const url = new URL(\"http://localhost\");\n",
       "          const port = 6008;\n",
       "          if (port) {\n",
       "            url.port = port;\n",
       "          }\n",
       "          frame.src = url;\n",
       "        })();\n",
       "      </script>\n",
       "    "
      ],
      "text/plain": [
       "<IPython.core.display.HTML object>"
      ]
     },
     "metadata": {},
     "output_type": "display_data"
    }
   ],
   "source": [
    "\n",
    "%load_ext tensorboard\n",
    "%tensorboard --logdir tb_logs/\n"
   ]
  },
  {
   "cell_type": "code",
   "execution_count": 22,
   "metadata": {},
   "outputs": [],
   "source": [
    "def comparison_plot(generated: list, actuals: list) -> None:\n",
    "    fig = plt.figure(1, figsize=[12, 6])\n",
    "    fig.tight_layout()\n",
    "    \n",
    "    for idx, gen in enumerate(generated):\n",
    "        ax = fig.add_subplot(1, len(generated), idx + 1)\n",
    "        ax.set_title(f\"generated_{idx}\")\n",
    "        plt.imshow(gen)\n",
    "        plt.axis(\"off\")\n",
    "        \n",
    "    for idx, act in enumerate(actuals):\n",
    "        ax = fig.add_subplot(2, len(actuals), idx + 1)\n",
    "        ax.set_title(f\"actual_{idx}\")\n",
    "        plt.imshow(act)\n",
    "        plt.axis(\"off\")\n",
    "    \n",
    "    fig.suptitle(\"Actual (upper) vs Generated(lower)\")\n",
    "    \n"
   ]
  },
  {
   "cell_type": "code",
   "execution_count": 58,
   "metadata": {},
   "outputs": [
    {
     "data": {
      "image/png": "[encoded data removed]",
      "text/plain": [
       "<Figure size 1200x600 with 16 Axes>"
      ]
     },
     "metadata": {
      "image/png": {
       "height": 360,
       "width": 956
      }
     },
     "output_type": "display_data"
    }
   ],
   "source": [
    "comparison_plot(generated.tolist(), actuals.tolist())\n"
   ]
  },
  {
   "cell_type": "code",
   "execution_count": null,
   "metadata": {},
   "outputs": [],
   "source": []
  }
 ],
 "metadata": {
  "kernelspec": {
   "display_name": "Python 3 (ipykernel)",
   "language": "python",
   "name": "python3"
  },
  "language_info": {
   "codemirror_mode": {
    "name": "ipython",
    "version": 3
   },
   "file_extension": ".py",
   "mimetype": "text/x-python",
   "name": "python",
   "nbconvert_exporter": "python",
   "pygments_lexer": "ipython3",
   "version": "3.10.8"
  }
 },
 "nbformat": 4,
 "nbformat_minor": 2
}
