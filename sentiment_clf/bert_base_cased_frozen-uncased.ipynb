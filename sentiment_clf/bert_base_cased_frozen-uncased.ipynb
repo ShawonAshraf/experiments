{
 "cells": [
  {
   "cell_type": "markdown",
   "metadata": {},
   "source": [
    "## Load corpus\n"
   ]
  },
  {
   "cell_type": "code",
   "execution_count": 1,
   "metadata": {},
   "outputs": [
    {
     "name": "stdout",
     "output_type": "stream",
     "text": [
      "Already downloaded and extracted!\n"
     ]
    }
   ],
   "source": [
    "import os\n",
    "from tqdm import tqdm\n",
    "from corpus import download_and_unzip, catgeories, read_text_files, corpus_root\n",
    "\n",
    "download_and_unzip()"
   ]
  },
  {
   "cell_type": "code",
   "execution_count": 2,
   "metadata": {},
   "outputs": [
    {
     "name": "stderr",
     "output_type": "stream",
     "text": [
      "prepare_corpus: 100%|██████████████████████████████████████████████████████████████████████████| 1000/1000 [00:00<?, ?it/s]\n",
      "prepare_corpus: 100%|██████████████████████████████████████████████████████████████| 1000/1000 [00:00<00:00, 999119.58it/s]"
     ]
    },
    {
     "name": "stdout",
     "output_type": "stream",
     "text": [
      "\n",
      "2000\n",
      "2000\n"
     ]
    },
    {
     "name": "stderr",
     "output_type": "stream",
     "text": [
      "\n"
     ]
    }
   ],
   "source": [
    "reviews = []\n",
    "labels = []\n",
    "\n",
    "# we can't use the previous tokenizers here\n",
    "# idx 0 -> neg, 1 -> pos\n",
    "for idx, cat in enumerate(catgeories):\n",
    "    path = os.path.join(corpus_root, cat)\n",
    "    texts = read_text_files(path)\n",
    "\n",
    "    for i in tqdm(range(len(texts)), desc=\"prepare_corpus\"):\n",
    "        text = texts[i]\n",
    "        reviews.append(text)\n",
    "        labels.append(idx)\n",
    "\n",
    "print()\n",
    "print(len(reviews))\n",
    "print(len(labels))"
   ]
  },
  {
   "cell_type": "markdown",
   "metadata": {},
   "source": [
    "## BERT Tokenizer\n",
    "https://huggingface.co/transformers/model_doc/bert.html#berttokenizer\n",
    "\n",
    "https://huggingface.co/transformers/preprocessing.html"
   ]
  },
  {
   "cell_type": "code",
   "execution_count": 3,
   "metadata": {},
   "outputs": [
    {
     "data": {
      "application/vnd.jupyter.widget-view+json": {
       "model_id": "343de40100e64721a3a04fbf5614e7b4",
       "version_major": 2,
       "version_minor": 0
      },
      "text/plain": [
       "Downloading:   0%|          | 0.00/570 [00:00<?, ?B/s]"
      ]
     },
     "metadata": {},
     "output_type": "display_data"
    },
    {
     "data": {
      "application/vnd.jupyter.widget-view+json": {
       "model_id": "c63fec17323a4272b6e5b3d9f7c60d13",
       "version_major": 2,
       "version_minor": 0
      },
      "text/plain": [
       "Downloading:   0%|          | 0.00/232k [00:00<?, ?B/s]"
      ]
     },
     "metadata": {},
     "output_type": "display_data"
    },
    {
     "data": {
      "application/vnd.jupyter.widget-view+json": {
       "model_id": "82e53ef2452049608076ded80211510c",
       "version_major": 2,
       "version_minor": 0
      },
      "text/plain": [
       "Downloading:   0%|          | 0.00/466k [00:00<?, ?B/s]"
      ]
     },
     "metadata": {},
     "output_type": "display_data"
    },
    {
     "data": {
      "application/vnd.jupyter.widget-view+json": {
       "model_id": "47217a0beb664633a56e2f0a70fb7e8e",
       "version_major": 2,
       "version_minor": 0
      },
      "text/plain": [
       "Downloading:   0%|          | 0.00/28.0 [00:00<?, ?B/s]"
      ]
     },
     "metadata": {},
     "output_type": "display_data"
    }
   ],
   "source": [
    "from transformers import AutoTokenizer\n",
    "import torch\n",
    "\n",
    "model_name = \"bert-base-uncased\"\n",
    "tokenizer = AutoTokenizer.from_pretrained(model_name) "
   ]
  },
  {
   "cell_type": "markdown",
   "metadata": {},
   "source": [
    "## Sequence Properties"
   ]
  },
  {
   "cell_type": "code",
   "execution_count": 4,
   "metadata": {},
   "outputs": [],
   "source": [
    "MAX_LEN=512"
   ]
  },
  {
   "cell_type": "markdown",
   "metadata": {},
   "source": [
    "## Split corpus\n"
   ]
  },
  {
   "cell_type": "code",
   "execution_count": 5,
   "metadata": {},
   "outputs": [],
   "source": [
    "from sklearn.model_selection import train_test_split\n",
    "\n",
    "x_train, x_test, y_train, y_test = train_test_split(\n",
    "    reviews, labels, random_state=42, train_size=0.8\n",
    ")\n",
    "\n",
    "x_train, x_val, y_train, y_val = train_test_split(x_train, y_train, train_size=0.8, random_state=42)"
   ]
  },
  {
   "cell_type": "code",
   "execution_count": null,
   "metadata": {},
   "outputs": [],
   "source": []
  },
  {
   "cell_type": "markdown",
   "metadata": {},
   "source": [
    "## Dataloaders"
   ]
  },
  {
   "cell_type": "code",
   "execution_count": 6,
   "metadata": {},
   "outputs": [],
   "source": [
    "import torch\n",
    "from torch.utils.data import Dataset\n",
    "\n",
    "# custom dataset\n",
    "class PolarityReviewDataset(Dataset):\n",
    "\n",
    "    def __init__(self, reviews, labels, tokenizer):\n",
    "        self.reviews = reviews\n",
    "        self.labels = labels\n",
    "        self.tokenizer = tokenizer\n",
    "\n",
    "    def __len__(self):\n",
    "        return len(self.labels)\n",
    "\n",
    "    def __getitem__(self, idx):\n",
    "        review = self.reviews[idx]\n",
    "        label = self.labels[idx]\n",
    "\n",
    "        # encode review text\n",
    "        encoding = self.tokenizer.encode_plus(\n",
    "            review,\n",
    "            add_special_tokens=True,\n",
    "            max_length=MAX_LEN,\n",
    "            truncation=True,\n",
    "            return_token_type_ids=False,\n",
    "            pad_to_max_length=True,\n",
    "            return_attention_mask=True,\n",
    "            return_tensors=\"pt\"\n",
    "        )\n",
    "\n",
    "        return {\n",
    "            \"text\": review,\n",
    "            \"input_ids\": encoding[\"input_ids\"].flatten(),\n",
    "            \"attention_mask\": encoding['attention_mask'].flatten(),\n",
    "            \"label\": torch.tensor(label)\n",
    "        }\n",
    "\n",
    "training_dataset = PolarityReviewDataset(x_train, y_train, tokenizer)\n",
    "val_dataset = PolarityReviewDataset(x_val, y_val, tokenizer)"
   ]
  },
  {
   "cell_type": "code",
   "execution_count": 7,
   "metadata": {},
   "outputs": [],
   "source": [
    "from torch.utils.data import DataLoader\n",
    "import multiprocessing\n",
    "\n",
    "usable_cpu_cores = multiprocessing.cpu_count() - 1 # keep 1 free to keep system responsive\n",
    "\n",
    "batch_size = 16\n",
    "\n",
    "# loader from custom dataset\n",
    "train_loader = DataLoader(training_dataset, shuffle=True, batch_size=batch_size)\n",
    "val_loader = DataLoader(val_dataset, shuffle=True, batch_size=batch_size)\n"
   ]
  },
  {
   "cell_type": "markdown",
   "metadata": {},
   "source": [
    "## Classifier"
   ]
  },
  {
   "cell_type": "code",
   "execution_count": 8,
   "metadata": {},
   "outputs": [],
   "source": [
    "from transformers import AutoModel\n",
    "import torch.nn as nn\n",
    "import torch.nn.functional as F\n",
    "\n",
    "class SentiBERT(nn.Module):\n",
    "    def __init__(self, model_name=model_name):\n",
    "        super(SentiBERT, self).__init__()\n",
    "\n",
    "        self.bert = AutoModel.from_pretrained(model_name)\n",
    "        # freeze bert params\n",
    "        for param in self.bert.parameters():\n",
    "            param.requires_grad = False\n",
    "        \n",
    "        \n",
    "        self.linear = nn.Linear(768, 1) # 768 for BERT, 1 for binary classification\n",
    "        self.sigmoid = nn.Sigmoid()\n",
    "\n",
    "    def forward(self, input_ids, attention_mask):\n",
    "        out = self.bert(input_ids=input_ids, attention_mask=attention_mask)\n",
    "        out = out.pooler_output\n",
    "        \n",
    "        out = self.linear(out)\n",
    "        out = self.sigmoid(out)\n",
    "\n",
    "        return out"
   ]
  },
  {
   "cell_type": "code",
   "execution_count": 9,
   "metadata": {},
   "outputs": [
    {
     "data": {
      "application/vnd.jupyter.widget-view+json": {
       "model_id": "92d8c72167f44b6c93fc776bdb053308",
       "version_major": 2,
       "version_minor": 0
      },
      "text/plain": [
       "Downloading:   0%|          | 0.00/440M [00:00<?, ?B/s]"
      ]
     },
     "metadata": {},
     "output_type": "display_data"
    }
   ],
   "source": [
    "senti_bert = SentiBERT()"
   ]
  },
  {
   "cell_type": "markdown",
   "metadata": {},
   "source": [
    "## Accelerate"
   ]
  },
  {
   "cell_type": "code",
   "execution_count": 10,
   "metadata": {},
   "outputs": [
    {
     "name": "stdout",
     "output_type": "stream",
     "text": [
      "cuda\n"
     ]
    }
   ],
   "source": [
    "from accelerate import Accelerator\n",
    "\n",
    "accelerator = Accelerator()\n",
    "device = accelerator.device\n",
    "\n",
    "print(device)"
   ]
  },
  {
   "cell_type": "markdown",
   "metadata": {},
   "source": [
    "## Hyperparams"
   ]
  },
  {
   "cell_type": "code",
   "execution_count": 11,
   "metadata": {},
   "outputs": [],
   "source": [
    "learning_rate = 2e-5\n",
    "\n",
    "loss_fn = nn.BCELoss()\n",
    "optimizer = torch.optim.Adam(senti_bert.parameters(), lr=learning_rate)"
   ]
  },
  {
   "cell_type": "markdown",
   "metadata": {},
   "source": [
    "## Send to device"
   ]
  },
  {
   "cell_type": "code",
   "execution_count": 12,
   "metadata": {},
   "outputs": [],
   "source": [
    "senti_bert, optimizer, train_loader, val_loader = accelerator.prepare(\n",
    "    senti_bert, optimizer, train_loader, val_loader\n",
    ")"
   ]
  },
  {
   "cell_type": "markdown",
   "metadata": {},
   "source": [
    "## Train"
   ]
  },
  {
   "cell_type": "code",
   "execution_count": 13,
   "metadata": {},
   "outputs": [
    {
     "name": "stderr",
     "output_type": "stream",
     "text": [
      "train_sentibert_for_2_epochs:   0%|                                                                  | 0/2 [00:00<?, ?it/s]E:\\anaconda3\\envs\\exp\\lib\\site-packages\\transformers\\tokenization_utils_base.py:2073: FutureWarning: The `pad_to_max_length` argument is deprecated and will be removed in a future version, use `padding=True` or `padding='longest'` to pad to the longest sequence in the batch, or use `padding='max_length'` to pad to a max length. In this case, you can give a specific length with `max_length` (e.g. `max_length=45`) or leave max_length to None to pad to the maximal input size of the model (e.g. 512 for Bert).\n",
      "  warnings.warn(\n"
     ]
    },
    {
     "name": "stdout",
     "output_type": "stream",
     "text": [
      "\n",
      "Epoch: 1/2\tStep: 10\tTrain Loss: 0.7451313734054565\tValidation Loss: 0.7441724002361297\n",
      "\n",
      "Epoch: 1/2\tStep: 20\tTrain Loss: 0.744568407535553\tValidation Loss: 0.7396903187036514\n",
      "\n",
      "Epoch: 1/2\tStep: 30\tTrain Loss: 0.6964238882064819\tValidation Loss: 0.7351642489433289\n",
      "\n",
      "Epoch: 1/2\tStep: 40\tTrain Loss: 0.6348956823348999\tValidation Loss: 0.7308612287044525\n",
      "\n",
      "Epoch: 1/2\tStep: 50\tTrain Loss: 0.6998308897018433\tValidation Loss: 0.7290934145450592\n",
      "\n",
      "Epoch: 1/2\tStep: 60\tTrain Loss: 0.6845030784606934\tValidation Loss: 0.7279700070619584\n",
      "\n",
      "Epoch: 1/2\tStep: 70\tTrain Loss: 0.6889868974685669\tValidation Loss: 0.7260160982608795\n"
     ]
    },
    {
     "name": "stderr",
     "output_type": "stream",
     "text": [
      "\r",
      "train_sentibert_for_2_epochs:  50%|█████████████████████████████                             | 1/2 [00:30<00:30, 30.26s/it]"
     ]
    },
    {
     "name": "stdout",
     "output_type": "stream",
     "text": [
      "\n",
      "Epoch: 1/2\tStep: 80\tTrain Loss: 0.6954776048660278\tValidation Loss: 0.7232009202241898\n",
      "\n",
      "Epoch: 2/2\tStep: 90\tTrain Loss: 0.6806627511978149\tValidation Loss: 0.7208742439746857\n",
      "\n",
      "Epoch: 2/2\tStep: 100\tTrain Loss: 0.7345603704452515\tValidation Loss: 0.7211723804473877\n",
      "\n",
      "Epoch: 2/2\tStep: 110\tTrain Loss: 0.6319237351417542\tValidation Loss: 0.719816055893898\n",
      "\n",
      "Epoch: 2/2\tStep: 120\tTrain Loss: 0.7082644701004028\tValidation Loss: 0.7183079332113266\n",
      "\n",
      "Epoch: 2/2\tStep: 130\tTrain Loss: 0.6822711229324341\tValidation Loss: 0.7156452298164367\n",
      "\n",
      "Epoch: 2/2\tStep: 140\tTrain Loss: 0.7500027418136597\tValidation Loss: 0.7130551755428314\n",
      "\n",
      "Epoch: 2/2\tStep: 150\tTrain Loss: 0.7306222915649414\tValidation Loss: 0.7102464407682418\n"
     ]
    },
    {
     "name": "stderr",
     "output_type": "stream",
     "text": [
      "train_sentibert_for_2_epochs: 100%|██████████████████████████████████████████████████████████| 2/2 [00:59<00:00, 29.91s/it]"
     ]
    },
    {
     "name": "stdout",
     "output_type": "stream",
     "text": [
      "\n",
      "Epoch: 2/2\tStep: 160\tTrain Loss: 0.7532360553741455\tValidation Loss: 0.7092181533575058\n",
      "Wall time: 59.8 s\n"
     ]
    },
    {
     "name": "stderr",
     "output_type": "stream",
     "text": [
      "\n"
     ]
    }
   ],
   "source": [
    "import numpy as np\n",
    "\n",
    "epochs = 2\n",
    "\n",
    "def train(model, train_loader, val_loader, epochs, optimizer, loss_fn, accl=accelerator):\n",
    "    print_counter = 0 # print loss for each 10th count\n",
    "\n",
    "    for e in tqdm(range(epochs), desc=f\"train_sentibert_for_{epochs}_epochs\"):\n",
    "        model.train()\n",
    "        for td in train_loader:\n",
    "            print_counter += 1\n",
    "\n",
    "            # unpack data\n",
    "            input_ids = td[\"input_ids\"]\n",
    "            attention_mask = td[\"attention_mask\"]\n",
    "            label = td[\"label\"]\n",
    "\n",
    "            # zero gradients\n",
    "            model.zero_grad()\n",
    "\n",
    "            # forward pass\n",
    "            output = model(input_ids, attention_mask)\n",
    "            # the max probability based class\n",
    "            output, _ = torch.max(output, dim=1)\n",
    "\n",
    "            # backprop\n",
    "            loss = loss_fn(output, label.float())\n",
    "            accl.backward(loss)\n",
    "            \n",
    "            #clip gradients\n",
    "            nn.utils.clip_grad_norm_(model.parameters(), max_norm=1.0)\n",
    "            \n",
    "            optimizer.step()\n",
    "\n",
    "            # log loss \n",
    "            if print_counter % 10 == 0:\n",
    "                validation_losses = []\n",
    "                \n",
    "                model.eval() # switch mode\n",
    "                with torch.no_grad():\n",
    "                    for td in val_loader:\n",
    "                        # unpack data\n",
    "                        input_ids = td[\"input_ids\"]\n",
    "                        attention_mask = td[\"attention_mask\"]\n",
    "                        label = td[\"label\"]\n",
    "                        \n",
    "                        # repeat same steps from forward pass\n",
    "                        out = model(input_ids, attention_mask)\n",
    "                        out, _ = torch.max(out, dim=1)\n",
    "                        val_loss = loss_fn(out, label.float())\n",
    "                        \n",
    "                        # add loss to validation losses\n",
    "                        validation_losses.append(val_loss.item())\n",
    "                    print(f\"\\nEpoch: {e + 1}/{epochs}\\tStep: {print_counter}\\tTrain Loss: {loss.item()}\\tValidation Loss: {np.mean(validation_losses)}\")\n",
    "\n",
    "                model.train()\n",
    "\n",
    "\n",
    "%time train(model=senti_bert, train_loader=train_loader, val_loader=val_loader, epochs=epochs, optimizer=optimizer, loss_fn=loss_fn)"
   ]
  },
  {
   "cell_type": "markdown",
   "metadata": {
    "pycharm": {
     "name": "#%%\n"
    }
   },
   "source": [
    "## Inference"
   ]
  },
  {
   "cell_type": "code",
   "execution_count": 14,
   "metadata": {},
   "outputs": [],
   "source": [
    "# test data is a list of reviews as strings\n",
    "def classify_sentiment(model, test_data, tokenizer):\n",
    "    prediction = []\n",
    "    # switch model mode\n",
    "    model.eval()\n",
    "    with torch.no_grad():\n",
    "\n",
    "        for i in tqdm(range(len(test_data)), desc=\"inference\"):\n",
    "            review = test_data[i]\n",
    "            \n",
    "            # encode data\n",
    "            encoded = tokenizer.encode_plus(\n",
    "                review,\n",
    "                add_special_tokens=True,\n",
    "                max_length=MAX_LEN,\n",
    "                truncation=True,\n",
    "                return_token_type_ids=False,\n",
    "                pad_to_max_length=True,\n",
    "                return_attention_mask=True,\n",
    "                return_tensors=\"pt\"\n",
    "            )\n",
    "            \n",
    "            # unpack\n",
    "            input_ids = encoded[\"input_ids\"].to(device)\n",
    "            attention_mask = encoded[\"attention_mask\"].to(device)\n",
    "            \n",
    "            \n",
    "            # forward pass\n",
    "            pred = model(input_ids, attention_mask)\n",
    "            pred, _ = torch.max(pred, dim=1)\n",
    "            # round to the nearest integer\n",
    "            pred =  torch.round(pred.squeeze())\n",
    "            \n",
    "            \n",
    "            # add to list\n",
    "            prediction.append(pred.cpu().detach().numpy()) # dear pytorch team, find a easier wrapper please!\n",
    "            \n",
    "    return np.array(prediction)"
   ]
  },
  {
   "cell_type": "code",
   "execution_count": 15,
   "metadata": {},
   "outputs": [
    {
     "name": "stderr",
     "output_type": "stream",
     "text": [
      "inference: 100%|█████████████████████████████████████████████████████████████████████████| 400/400 [00:04<00:00, 88.83it/s]\n"
     ]
    }
   ],
   "source": [
    "y_pred = classify_sentiment(senti_bert, x_test, tokenizer)"
   ]
  },
  {
   "cell_type": "code",
   "execution_count": 16,
   "metadata": {},
   "outputs": [],
   "source": [
    "y_pred = y_pred.reshape(-1, 1)"
   ]
  },
  {
   "cell_type": "code",
   "execution_count": 17,
   "metadata": {},
   "outputs": [],
   "source": [
    "y_test = np.array(y_test).reshape(-1, 1)"
   ]
  },
  {
   "cell_type": "markdown",
   "metadata": {},
   "source": [
    "## Evaluation"
   ]
  },
  {
   "cell_type": "code",
   "execution_count": 18,
   "metadata": {},
   "outputs": [
    {
     "name": "stdout",
     "output_type": "stream",
     "text": [
      "              precision    recall  f1-score   support\n",
      "\n",
      "           0       0.56      0.22      0.32       199\n",
      "           1       0.52      0.83      0.64       201\n",
      "\n",
      "    accuracy                           0.53       400\n",
      "   macro avg       0.54      0.53      0.48       400\n",
      "weighted avg       0.54      0.53      0.48       400\n",
      "\n"
     ]
    }
   ],
   "source": [
    "from sklearn.metrics import classification_report\n",
    "\n",
    "print(classification_report(y_pred=y_pred, y_true=y_test))"
   ]
  },
  {
   "cell_type": "code",
   "execution_count": null,
   "metadata": {},
   "outputs": [],
   "source": []
  }
 ],
 "metadata": {
  "kernelspec": {
   "display_name": "Python 3",
   "language": "python",
   "name": "python3"
  },
  "language_info": {
   "codemirror_mode": {
    "name": "ipython",
    "version": 3
   },
   "file_extension": ".py",
   "mimetype": "text/x-python",
   "name": "python",
   "nbconvert_exporter": "python",
   "pygments_lexer": "ipython3",
   "version": "3.8.8"
  }
 },
 "nbformat": 4,
 "nbformat_minor": 2
}
