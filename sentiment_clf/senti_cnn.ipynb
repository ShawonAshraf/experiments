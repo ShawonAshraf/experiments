{
 "cells": [
  {
   "cell_type": "markdown",
   "metadata": {},
   "source": [
    "## Dataset\n",
    "\n",
    "Polarity Dataset. Pang/Lee ACL 2004\n",
    "\n",
    "http://www.cs.cornell.edu/people/pabo/movie-review-data/\n",
    "\n",
    "http://www.cs.cornell.edu/people/pabo/movie-review-data/review_polarity.tar.gz"
   ]
  },
  {
   "cell_type": "markdown",
   "metadata": {},
   "source": [
    "## Data Directories"
   ]
  },
  {
   "cell_type": "code",
   "execution_count": 1,
   "metadata": {},
   "outputs": [],
   "source": [
    "pos_path = \"./review_polarity/txt_sentoken/pos\"\n",
    "neg_path = \"./review_polarity/txt_sentoken/neg\""
   ]
  },
  {
   "cell_type": "markdown",
   "metadata": {},
   "source": [
    "## Load data"
   ]
  },
  {
   "cell_type": "code",
   "execution_count": 2,
   "metadata": {},
   "outputs": [],
   "source": [
    "import os\n",
    "\n",
    "def read_text_files(category_path):\n",
    "    file_list = os.listdir(category_path)\n",
    "    texts = []\n",
    "\n",
    "    for fname in file_list:\n",
    "        with open(os.path.join(category_path, fname), \"r\") as f:\n",
    "            lines = f.readlines()\n",
    "            texts.extend(lines)\n",
    "    \n",
    "    return texts"
   ]
  },
  {
   "cell_type": "code",
   "execution_count": 3,
   "metadata": {},
   "outputs": [],
   "source": [
    "pos_texts = read_text_files(pos_path)\n",
    "neg_texts = read_text_files(neg_path)"
   ]
  },
  {
   "cell_type": "markdown",
   "metadata": {},
   "source": [
    "## Clean extra characters\n",
    "new lines, tabs yada yada"
   ]
  },
  {
   "cell_type": "code",
   "execution_count": 4,
   "metadata": {},
   "outputs": [],
   "source": [
    "def clean(texts):\n",
    "    cleaned = []\n",
    "    for text in texts:\n",
    "        cleaned_text = text.strip().lower()\n",
    "        cleaned.append(cleaned_text)\n",
    "\n",
    "    return cleaned"
   ]
  },
  {
   "cell_type": "code",
   "execution_count": 5,
   "metadata": {},
   "outputs": [],
   "source": [
    "pos_cleaned = clean(pos_texts)\n",
    "neg_cleaned = clean(neg_texts)"
   ]
  },
  {
   "cell_type": "markdown",
   "metadata": {},
   "source": [
    "## Embedding - Word2Vec"
   ]
  },
  {
   "cell_type": "code",
   "execution_count": 6,
   "metadata": {},
   "outputs": [],
   "source": [
    "from nltk.tokenize import word_tokenize as tokenize\n",
    "from nltk.corpus import stopwords\n",
    "from tqdm import tqdm\n",
    "\n",
    "\n",
    "# remove stopwords, use the already cleaned lists\n",
    "# then label\n",
    "\n",
    "ignore = stopwords.words(\"english\")\n",
    "\n",
    "# label: 1 for pos, 0 for neg\n",
    "def process_one_class(label, data):\n",
    "    processed = list()\n",
    "    for i in tqdm(range(len(data)), desc=f\"preprocess_{label}\"):\n",
    "        text = data[i]\n",
    "        raw = tokenize(text)\n",
    "        cleaned = []\n",
    "        \n",
    "        for tok in raw:\n",
    "            if tok not in ignore:\n",
    "                cleaned.append(tok)\n",
    "        \n",
    "\n",
    "        processed.append((label, cleaned))\n",
    "        \n",
    "    return processed\n",
    "\n",
    "\n",
    "def preprocess():\n",
    "    data = [] # label, tokens\n",
    "    \n",
    "    pos_processed = process_one_class(1, pos_cleaned)\n",
    "    neg_processed = process_one_class(0, neg_cleaned)\n",
    "        \n",
    "    data.extend(pos_processed)\n",
    "    data.extend(neg_processed)\n",
    "    \n",
    "    return data"
   ]
  },
  {
   "cell_type": "code",
   "execution_count": 7,
   "metadata": {},
   "outputs": [
    {
     "name": "stderr",
     "output_type": "stream",
     "text": [
      "preprocess_1: 100%|██████████| 32937/32937 [00:04<00:00, 7031.39it/s]\n",
      "preprocess_0: 100%|██████████| 31783/31783 [00:04<00:00, 7400.40it/s]\n"
     ]
    }
   ],
   "source": [
    "data = preprocess()"
   ]
  },
  {
   "cell_type": "code",
   "execution_count": 8,
   "metadata": {},
   "outputs": [],
   "source": [
    "sentences = [s[1] for s in data]\n",
    "labels = [s[0] for s in data]"
   ]
  },
  {
   "cell_type": "markdown",
   "metadata": {},
   "source": [
    "### Word2Vec from Gensim\n",
    "Train a word2vec model using the gensim implementation"
   ]
  },
  {
   "cell_type": "code",
   "execution_count": 9,
   "metadata": {},
   "outputs": [],
   "source": [
    "import multiprocessing\n",
    "from gensim.models import Word2Vec"
   ]
  },
  {
   "cell_type": "code",
   "execution_count": 10,
   "metadata": {},
   "outputs": [],
   "source": [
    "# 300 dims for the embedding\n",
    "EMBEDDING_DIMS = 300\n",
    "# TODO: can try different dimensions later on"
   ]
  },
  {
   "cell_type": "code",
   "execution_count": 11,
   "metadata": {},
   "outputs": [
    {
     "name": "stdout",
     "output_type": "stream",
     "text": [
      "CPU times: user 9min 30s, sys: 514 ms, total: 9min 31s\n",
      "Wall time: 27.4 s\n"
     ]
    },
    {
     "data": {
      "text/plain": "(34694418, 46480100)"
     },
     "execution_count": 11,
     "metadata": {},
     "output_type": "execute_result"
    }
   ],
   "source": [
    "cores = multiprocessing.cpu_count()\n",
    "\n",
    "# keep one cpu core free or some operating systems may kill the process :P\n",
    "model = Word2Vec(size=EMBEDDING_DIMS, workers=cores-1, max_vocab_size=100000)\n",
    "\n",
    "# build vocab\n",
    "model.build_vocab(sentences)\n",
    "\n",
    "# train\n",
    "%time model.train(sentences, total_examples=len(sentences), epochs=50)"
   ]
  },
  {
   "cell_type": "markdown",
   "metadata": {},
   "source": [
    "### Vocabulary"
   ]
  },
  {
   "cell_type": "code",
   "execution_count": 32,
   "metadata": {},
   "outputs": [],
   "source": [
    "# list of all the words word2vec has processed\n",
    "vocabulary = model.wv.index2word\n",
    "vocab_len = len(vocabulary)"
   ]
  },
  {
   "cell_type": "markdown",
   "metadata": {},
   "source": [
    "## Word2Vec Embedding to Matrix\n",
    "Word2Vec has vectors for each word in the dictionary it built"
   ]
  },
  {
   "cell_type": "code",
   "execution_count": 38,
   "metadata": {},
   "outputs": [],
   "source": [
    "import numpy as np\n",
    "\n",
    "# n_rows : number of words\n",
    "# n_cols : embedding dims\n",
    "def create_embedding_matrix(vocabulary, model, n_rows, n_cols):\n",
    "    matrix = np.zeros((n_rows, n_cols))\n",
    "    \n",
    "    for idx, word in enumerate(vocabulary):\n",
    "        embedding_vector = model.wv[word]\n",
    "        matrix[idx] = embedding_vector\n",
    "        \n",
    "    return matrix\n",
    "        \n",
    "\n",
    "embed_matrix = create_embedding_matrix(vocabulary, model, vocab_len, EMBEDDING_DIMS)"
   ]
  },
  {
   "cell_type": "code",
   "execution_count": 39,
   "outputs": [
    {
     "data": {
      "text/plain": "array([[-0.09179415,  0.52475208,  0.24306419, ..., -0.28713584,\n        -0.39636341,  0.41431141],\n       [-0.47100335,  0.81594521,  0.49166444, ..., -0.27325055,\n         0.6266045 ,  0.88453633],\n       [-0.07136358,  0.39773157, -0.26612186, ...,  0.36736411,\n        -0.70003915,  0.15846795],\n       ...,\n       [ 0.44517314,  0.90030897,  0.64907324, ..., -0.28547865,\n         0.05625157,  0.55440789],\n       [-0.09424435, -0.13661237, -0.0543666 , ..., -0.04453824,\n         0.18002456, -0.13313498],\n       [-0.08679727,  0.46403295, -0.07928399, ...,  0.01737124,\n        -0.14444058,  0.0568588 ]])"
     },
     "execution_count": 39,
     "metadata": {},
     "output_type": "execute_result"
    }
   ],
   "source": [
    "embed_matrix\n"
   ],
   "metadata": {
    "collapsed": false,
    "pycharm": {
     "name": "#%%\n"
    }
   }
  },
  {
   "cell_type": "markdown",
   "metadata": {
    "pycharm": {
     "name": "#%% md\n"
    }
   },
   "source": [
    "## Encode sentences based on their word index from w2v model"
   ]
  },
  {
   "cell_type": "code",
   "execution_count": 50,
   "outputs": [
    {
     "data": {
      "text/plain": "135"
     },
     "execution_count": 50,
     "metadata": {},
     "output_type": "execute_result"
    }
   ],
   "source": [
    "# find the max seq len first\n",
    "max_seq_len = max([len(s) for s in sentences])\n",
    "max_seq_len"
   ],
   "metadata": {
    "collapsed": false,
    "pycharm": {
     "name": "#%%\n"
    }
   }
  },
  {
   "cell_type": "code",
   "execution_count": 53,
   "outputs": [],
   "source": [
    "word_map = dict()\n",
    "for idx, word in enumerate(vocabulary):\n",
    "    word_map[word] = idx\n",
    "\n",
    "word_map[\"oov\"] = -1"
   ],
   "metadata": {
    "collapsed": false,
    "pycharm": {
     "name": "#%%\n"
    }
   }
  },
  {
   "cell_type": "code",
   "execution_count": 54,
   "outputs": [
    {
     "name": "stderr",
     "output_type": "stream",
     "text": [
      "encode: 100%|██████████| 64720/64720 [00:26<00:00, 2400.48it/s]\n"
     ]
    }
   ],
   "source": [
    "def encode(sentences, vocab=vocabulary, max_len=max_seq_len):\n",
    "    encoded = np.zeros(shape=(len(sentences), max_len), dtype=np.int32)\n",
    "\n",
    "    for i in tqdm(range(len(sentences)), desc=\"encode\"):\n",
    "        sentence = sentences[i]\n",
    "        for j, token in enumerate(sentence):\n",
    "            if token in vocab:\n",
    "                encoded[i][j] = word_map[token]\n",
    "            else:\n",
    "                encoded[i][j] = word_map[\"oov\"]\n",
    "\n",
    "    return encoded\n",
    "\n",
    "\n",
    "encoded_texts = encode(sentences)"
   ],
   "metadata": {
    "collapsed": false,
    "pycharm": {
     "name": "#%%\n"
    }
   }
  },
  {
   "cell_type": "markdown",
   "source": [
    "## Split data"
   ],
   "metadata": {
    "collapsed": false,
    "pycharm": {
     "name": "#%% md\n"
    }
   }
  },
  {
   "cell_type": "code",
   "execution_count": 57,
   "outputs": [
    {
     "name": "stdout",
     "output_type": "stream",
     "text": [
      "(45304, 135)\n",
      "(19416, 135)\n"
     ]
    }
   ],
   "source": [
    "from sklearn.model_selection import train_test_split\n",
    "\n",
    "x_train, x_test, y_train, y_test = train_test_split(\n",
    "    encoded_texts, labels, random_state=42, train_size=0.7\n",
    ")\n",
    "\n",
    "print(x_train.shape)\n",
    "print(x_test.shape)"
   ],
   "metadata": {
    "collapsed": false,
    "pycharm": {
     "name": "#%%\n"
    }
   }
  },
  {
   "cell_type": "markdown",
   "metadata": {},
   "source": [
    "## CNN Model"
   ]
  },
  {
   "cell_type": "code",
   "execution_count": 58,
   "metadata": {},
   "outputs": [
    {
     "data": {
      "text/plain": "device(type='cuda', index=0)"
     },
     "execution_count": 58,
     "metadata": {},
     "output_type": "execute_result"
    }
   ],
   "source": [
    "import torch\n",
    "\n",
    "device = torch.device(\"cuda:0\" if torch.cuda.is_available() else \"cpu\")\n",
    "device"
   ]
  },
  {
   "cell_type": "code",
   "execution_count": 59,
   "metadata": {},
   "outputs": [],
   "source": [
    "import torch.nn as nn\n",
    "import torch.nn.functional as F\n",
    "import torch.optim as optim"
   ]
  },
  {
   "cell_type": "code",
   "execution_count": 22,
   "metadata": {},
   "outputs": [],
   "source": [
    "\"\"\"\n",
    "    Allowed embedding dims = 300\n",
    "    Since we have pre-trained embeddings for these values\n",
    "    n_filters - number of filters for convolutions\n",
    "    filter_size - size of the filters (3, 4, 7 etc.)\n",
    "    hidden_dims - number of hidden dimensions\n",
    "    \"\"\"\n",
    "\n",
    "class PolarityCLF(nn.Module):\n",
    "    def __init__(self, embedding_dims, n_filters, filter_size, hidden_dims, vocab_size, embeddings):\n",
    "        super(PolarityCLF, self).__init__()\n",
    "        \n",
    "        self.embedding_dims = embedding_dims\n",
    "        self.n_filters = n_filters\n",
    "        self.filter_size = filter_size\n",
    "        self.hidden_dims = hidden_dims \n",
    "        self.vocab_size = vocab_size\n",
    "\n",
    "        # convert numpy style embeddings to tensors\n",
    "        self.embeddings = nn.Embedding.from_pretrained(\n",
    "            torch.FloatTensor(embeddings)\n",
    "        )\n",
    "        \n",
    "        \n",
    "        self.conv1 = nn.Conv1d(in_channels=self.n_filters, \n",
    "                               kernel_size=self.filter_size,\n",
    "                               out_channels=1)\n",
    "        \n",
    "        self.conv2 = nn.Conv1d(in_channels=self.n_filters, \n",
    "                               kernel_size=self.filter_size,\n",
    "                               out_channels=1)\n",
    "        \n",
    "    def forward(self, x):\n",
    "        pass\n"
   ]
  },
  {
   "cell_type": "code",
   "execution_count": 46,
   "metadata": {
    "pycharm": {
     "name": "#%%\n"
    }
   },
   "outputs": [
    {
     "data": {
      "text/plain": "Parameter containing:\ntensor([[-0.0918,  0.5248,  0.2431,  ..., -0.2871, -0.3964,  0.4143],\n        [-0.4710,  0.8159,  0.4917,  ..., -0.2733,  0.6266,  0.8845],\n        [-0.0714,  0.3977, -0.2661,  ...,  0.3674, -0.7000,  0.1585],\n        ...,\n        [ 0.4452,  0.9003,  0.6491,  ..., -0.2855,  0.0563,  0.5544],\n        [-0.0942, -0.1366, -0.0544,  ..., -0.0445,  0.1800, -0.1331],\n        [-0.0868,  0.4640, -0.0793,  ...,  0.0174, -0.1444,  0.0569]])"
     },
     "execution_count": 46,
     "metadata": {},
     "output_type": "execute_result"
    }
   ],
   "source": []
  }
 ],
 "metadata": {
  "kernelspec": {
   "display_name": "Python 3",
   "language": "python",
   "name": "python3"
  },
  "language_info": {
   "codemirror_mode": {
    "name": "ipython",
    "version": 3
   },
   "file_extension": ".py",
   "mimetype": "text/x-python",
   "name": "python",
   "nbconvert_exporter": "python",
   "pygments_lexer": "ipython3",
   "version": "3.8.5"
  }
 },
 "nbformat": 4,
 "nbformat_minor": 4
}