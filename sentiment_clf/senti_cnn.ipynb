{
 "cells": [
  {
   "cell_type": "markdown",
   "metadata": {},
   "source": [
    "## Dataset\n",
    "\n",
    "Polarity Dataset. Pang/Lee ACL 2004\n",
    "\n",
    "http://www.cs.cornell.edu/people/pabo/movie-review-data/\n",
    "\n",
    "http://www.cs.cornell.edu/people/pabo/movie-review-data/review_polarity.tar.gz"
   ]
  },
  {
   "cell_type": "markdown",
   "metadata": {},
   "source": [
    "## Data Directories"
   ]
  },
  {
   "cell_type": "code",
   "execution_count": 1,
   "metadata": {},
   "outputs": [],
   "source": [
    "pos_path = \"./review_polarity/txt_sentoken/pos\"\n",
    "neg_path = \"./review_polarity/txt_sentoken/neg\""
   ]
  },
  {
   "cell_type": "markdown",
   "metadata": {},
   "source": [
    "## Load data"
   ]
  },
  {
   "cell_type": "code",
   "execution_count": 2,
   "metadata": {},
   "outputs": [],
   "source": [
    "import os\n",
    "\n",
    "def read_text_files(category_path):\n",
    "    file_list = os.listdir(category_path)\n",
    "    texts = []\n",
    "\n",
    "    for fname in file_list:\n",
    "        with open(os.path.join(category_path, fname), \"r\") as f:\n",
    "            lines = f.readlines()\n",
    "            texts.extend(lines)\n",
    "    \n",
    "    return texts"
   ]
  },
  {
   "cell_type": "code",
   "execution_count": 3,
   "metadata": {},
   "outputs": [],
   "source": [
    "pos_texts = read_text_files(pos_path)\n",
    "neg_texts = read_text_files(neg_path)"
   ]
  },
  {
   "cell_type": "markdown",
   "metadata": {},
   "source": [
    "## Clean extra characters\n",
    "new lines, tabs yada yada"
   ]
  },
  {
   "cell_type": "code",
   "execution_count": 4,
   "metadata": {},
   "outputs": [],
   "source": [
    "def clean(texts):\n",
    "    cleaned = []\n",
    "    for text in texts:\n",
    "        cleaned_text = text.strip().lower()\n",
    "        cleaned.append(cleaned_text)\n",
    "\n",
    "    return cleaned"
   ]
  },
  {
   "cell_type": "code",
   "execution_count": 5,
   "metadata": {},
   "outputs": [],
   "source": [
    "pos_cleaned = clean(pos_texts)\n",
    "neg_cleaned = clean(neg_texts)"
   ]
  },
  {
   "cell_type": "markdown",
   "metadata": {},
   "source": [
    "## Embedding - Word2Vec"
   ]
  },
  {
   "cell_type": "code",
   "execution_count": 33,
   "metadata": {},
   "outputs": [],
   "source": [
    "from nltk.tokenize import word_tokenize as tokenize\n",
    "from nltk.corpus import stopwords\n",
    "from tqdm import tqdm\n",
    "\n",
    "\n",
    "# remove stopwords, use the already cleaned lists\n",
    "# then label\n",
    "\n",
    "# label: 1 for pos, 0 for neg\n",
    "def process_one_class(label, data):\n",
    "    processed = list()\n",
    "    for i in tqdm(range(len(data)), desc=f\"preprocess_{label}\"):\n",
    "        text = data[i]\n",
    "        raw = tokenize(text)\n",
    "        cleaned = []\n",
    "        \n",
    "        for tok in raw:\n",
    "            if tok not in ignore:\n",
    "                cleaned.append(tok)\n",
    "        \n",
    "\n",
    "        processed.append((label, cleaned))\n",
    "        \n",
    "    return processed\n",
    "\n",
    "\n",
    "def preprocess():\n",
    "    data = [] # label, tokens\n",
    "    \n",
    "    pos_processed = process_one_class(1, pos_cleaned)\n",
    "    neg_processed = process_one_class(0, neg_cleaned)\n",
    "        \n",
    "    data.extend(pos_processed)\n",
    "    data.extend(neg_processed)\n",
    "    \n",
    "    return data"
   ]
  },
  {
   "cell_type": "code",
   "execution_count": 34,
   "metadata": {},
   "outputs": [
    {
     "name": "stderr",
     "output_type": "stream",
     "text": [
      "preprocess_1: 100%|██████████| 32937/32937 [00:04<00:00, 6799.94it/s]\n",
      "preprocess_0: 100%|██████████| 31783/31783 [00:04<00:00, 7348.64it/s]\n"
     ]
    }
   ],
   "source": [
    "data = preprocess()"
   ]
  },
  {
   "cell_type": "code",
   "execution_count": 37,
   "metadata": {},
   "outputs": [],
   "source": [
    "sentences = [s[1] for s in data]\n",
    "labels = [s[0] for s in data]"
   ]
  },
  {
   "cell_type": "markdown",
   "metadata": {},
   "source": [
    "### Word2Vec from Gensim"
   ]
  },
  {
   "cell_type": "code",
   "execution_count": 59,
   "metadata": {},
   "outputs": [],
   "source": [
    "import gensim\n",
    "import multiprocessing\n",
    "import random\n",
    "from gensim.models import Word2Vec"
   ]
  },
  {
   "cell_type": "code",
   "execution_count": 51,
   "metadata": {},
   "outputs": [],
   "source": [
    "# 300 dims for the embedding\n",
    "EMBEDDING_DIMS = 300"
   ]
  },
  {
   "cell_type": "code",
   "execution_count": 52,
   "metadata": {},
   "outputs": [
    {
     "name": "stdout",
     "output_type": "stream",
     "text": [
      "CPU times: user 9min 29s, sys: 438 ms, total: 9min 29s\n",
      "Wall time: 27 s\n"
     ]
    },
    {
     "data": {
      "text/plain": [
       "(34695961, 46480100)"
      ]
     },
     "execution_count": 52,
     "metadata": {},
     "output_type": "execute_result"
    }
   ],
   "source": [
    "cores = multiprocessing.cpu_count()\n",
    "\n",
    "# keep one cpu core free or some operating systems may kill the process :P\n",
    "model = Word2Vec(size=EMBEDDING_DIMS, workers=cores-1, max_vocab_size=100000)\n",
    "\n",
    "# build vocab\n",
    "model.build_vocab(sentences)\n",
    "\n",
    "# train\n",
    "%time model.train(sentences, total_examples=len(sentences), epochs=50)"
   ]
  },
  {
   "cell_type": "markdown",
   "metadata": {},
   "source": [
    "### Vocabulary"
   ]
  },
  {
   "cell_type": "code",
   "execution_count": 70,
   "metadata": {},
   "outputs": [],
   "source": [
    "vocabulary = model.wv.vocab\n",
    "vocab_len = len(vocabulary.keys())"
   ]
  },
  {
   "cell_type": "markdown",
   "metadata": {},
   "source": [
    "## Word2Vec Embedding to Matrix\n",
    "Because we need one for CNN as embedding weights"
   ]
  },
  {
   "cell_type": "code",
   "execution_count": 79,
   "metadata": {},
   "outputs": [],
   "source": [
    "import numpy as np\n",
    "\n",
    "# n_rows : number of words\n",
    "# n_cols : embedding dims\n",
    "def create_embedding_matrix(vocabulary, model, n_rows, n_cols):\n",
    "    matrix = np.zeros((n_rows, n_cols))\n",
    "    \n",
    "    for idx, word in enumerate(vocabulary.keys()):\n",
    "        embedding_vector = model.wv[word]\n",
    "        matrix[idx] = embedding_vector\n",
    "        \n",
    "    return matrix\n",
    "        \n",
    "\n",
    "embed_matrix = create_embedding_matrix(vocabulary, model, vocab_len, EMBEDDING_DIMS)"
   ]
  },
  {
   "cell_type": "markdown",
   "metadata": {},
   "source": [
    "## Create input matrix for CNN\n"
   ]
  },
  {
   "cell_type": "code",
   "execution_count": null,
   "metadata": {},
   "outputs": [],
   "source": []
  }
 ],
 "metadata": {
  "kernelspec": {
   "display_name": "Python 3",
   "language": "python",
   "name": "python3"
  },
  "language_info": {
   "codemirror_mode": {
    "name": "ipython",
    "version": 3
   },
   "file_extension": ".py",
   "mimetype": "text/x-python",
   "name": "python",
   "nbconvert_exporter": "python",
   "pygments_lexer": "ipython3",
   "version": "3.8.5"
  }
 },
 "nbformat": 4,
 "nbformat_minor": 2
}
