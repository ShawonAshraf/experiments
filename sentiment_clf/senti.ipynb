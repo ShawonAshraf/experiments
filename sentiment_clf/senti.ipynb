{
 "cells": [
  {
   "cell_type": "markdown",
   "metadata": {},
   "source": [
    "## Dataset\n",
    "\n",
    "Polarity Dataset. Pang/Lee ACL 2004\n",
    "\n",
    "http://www.cs.cornell.edu/people/pabo/movie-review-data/review_polarity.tar.gz"
   ]
  },
  {
   "cell_type": "markdown",
   "metadata": {},
   "source": [
    "## Data Directories"
   ]
  },
  {
   "cell_type": "code",
   "execution_count": 1,
   "metadata": {},
   "outputs": [],
   "source": [
    "pos_path = \"./review_polarity/txt_sentoken/pos\"\n",
    "neg_path = \"./review_polarity/txt_sentoken/neg\""
   ]
  },
  {
   "cell_type": "code",
   "execution_count": 2,
   "metadata": {},
   "outputs": [],
   "source": [
    "import os\n",
    "\n",
    "def read_text_files(category_path):\n",
    "    file_list = os.listdir(category_path)\n",
    "    texts = []\n",
    "\n",
    "    for fname in file_list:\n",
    "        with open(os.path.join(category_path, fname), \"r\") as f:\n",
    "            lines = f.readlines()\n",
    "            texts.extend(lines)\n",
    "    \n",
    "    return texts"
   ]
  },
  {
   "cell_type": "code",
   "execution_count": 3,
   "metadata": {},
   "outputs": [],
   "source": [
    "pos_texts = read_text_files(pos_path)\n",
    "neg_texts = read_text_files(neg_path)"
   ]
  },
  {
   "cell_type": "markdown",
   "metadata": {},
   "source": [
    "## Clean"
   ]
  },
  {
   "cell_type": "code",
   "execution_count": 4,
   "metadata": {},
   "outputs": [],
   "source": [
    "def clean(texts):\n",
    "    cleaned = []\n",
    "    for text in texts:\n",
    "        cleaned_text = text.strip().lower()\n",
    "        cleaned.append(cleaned_text)\n",
    "\n",
    "    return cleaned"
   ]
  },
  {
   "cell_type": "code",
   "execution_count": 5,
   "metadata": {},
   "outputs": [],
   "source": [
    "pos_cleaned = clean(pos_texts)\n",
    "neg_cleaned = clean(neg_texts)"
   ]
  },
  {
   "cell_type": "code",
   "execution_count": 6,
   "metadata": {},
   "outputs": [],
   "source": [
    "# merge cleaned\n",
    "merged = list()\n",
    "merged.extend(pos_cleaned)\n",
    "merged.extend(neg_cleaned)"
   ]
  },
  {
   "cell_type": "markdown",
   "metadata": {},
   "source": [
    "## Build Vocab"
   ]
  },
  {
   "cell_type": "code",
   "execution_count": 28,
   "metadata": {},
   "outputs": [],
   "source": [
    "from nltk.tokenize import word_tokenize as tokenize\n",
    "from nltk.corpus import stopwords\n",
    "from tqdm import tqdm\n",
    "\n",
    "# ignore stop words\n",
    "ignore = stopwords.words(\"english\")\n",
    "\n",
    "# returns a list of unique tokens\n",
    "def get_words(merged):\n",
    "    tokens = list()\n",
    "\n",
    "    for i in tqdm(range(len(merged)), desc=\"get_words\"):\n",
    "        toks = tokenize(merged[i])\n",
    "        for t in toks:\n",
    "            if not t in tokens and t not in ignore:\n",
    "                tokens.append(t)\n",
    "\n",
    "    return tokens"
   ]
  },
  {
   "cell_type": "code",
   "execution_count": null,
   "metadata": {},
   "outputs": [
    {
     "name": "stderr",
     "output_type": "stream",
     "text": [
      "get_words:   2%|▏         | 1374/64720 [00:00<00:42, 1481.99it/s]"
     ]
    }
   ],
   "source": [
    "%time words = get_words(merged)"
   ]
  },
  {
   "cell_type": "code",
   "execution_count": 13,
   "metadata": {},
   "outputs": [
    {
     "data": {
      "text/plain": [
       "46319"
      ]
     },
     "execution_count": 13,
     "metadata": {},
     "output_type": "execute_result"
    }
   ],
   "source": [
    "len(words)"
   ]
  },
  {
   "cell_type": "markdown",
   "metadata": {},
   "source": [
    "A lot of words, which means a lot of dims. Need word embeddings to compress this. "
   ]
  },
  {
   "cell_type": "code",
   "execution_count": 24,
   "metadata": {},
   "outputs": [],
   "source": [
    "import torchtext\n",
    "import torch\n",
    "\n",
    "device = torch.device(\"cuda:0\" if torch.cuda.is_available() else \"cpu\")"
   ]
  },
  {
   "cell_type": "code",
   "execution_count": null,
   "metadata": {},
   "outputs": [],
   "source": []
  },
  {
   "cell_type": "markdown",
   "metadata": {},
   "source": [
    "## Create dataset with torch\n",
    "\n"
   ]
  }
 ],
 "metadata": {
  "kernelspec": {
   "display_name": "Python 3",
   "language": "python",
   "name": "python3"
  },
  "language_info": {
   "codemirror_mode": {
    "name": "ipython",
    "version": 3
   },
   "file_extension": ".py",
   "mimetype": "text/x-python",
   "name": "python",
   "nbconvert_exporter": "python",
   "pygments_lexer": "ipython3",
   "version": "3.8.5"
  }
 },
 "nbformat": 4,
 "nbformat_minor": 2
}
