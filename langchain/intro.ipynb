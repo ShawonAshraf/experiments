{
 "cells": [
  {
   "cell_type": "markdown",
   "metadata": {},
   "source": [
    "## Basic workflow in langchain\n",
    "\n",
    "1. Define the LLM wrapper \n",
    "2. Define a chat template (or prompt)\n",
    "3. Create a chain using the prompt and the llm wrapper\n",
    "4. Invoke the chain. The chain is what does all the work"
   ]
  },
  {
   "cell_type": "code",
   "execution_count": 1,
   "metadata": {},
   "outputs": [
    {
     "data": {
      "text/plain": [
       "'\\nPigs do not fly. Pigs are mammals and do not have the ability to fly. They are ground-dwelling animals and spend most of their time on the ground or in water. While some birds, such as penguins and seagulls, are able to fly, pigs are not capable of flight.'"
      ]
     },
     "execution_count": 1,
     "metadata": {},
     "output_type": "execute_result"
    }
   ],
   "source": [
    "from langchain_community.llms import Ollama\n",
    "\n",
    "llm = Ollama(model=\"llama2\")\n",
    "llm.invoke(\"Do pigs fly?\")"
   ]
  },
  {
   "cell_type": "code",
   "execution_count": 2,
   "metadata": {},
   "outputs": [],
   "source": [
    "from langchain_core.prompts import ChatPromptTemplate\n",
    "\n",
    "prompt = ChatPromptTemplate.from_messages([\n",
    "    (\"system\", \"You are a world class story teller.\"),\n",
    "    (\"user\", \"{input}\")\n",
    "])"
   ]
  },
  {
   "cell_type": "code",
   "execution_count": 3,
   "metadata": {},
   "outputs": [],
   "source": [
    "from langchain_core.output_parsers import StrOutputParser\n",
    "\n",
    "output_parser = StrOutputParser()\n",
    "\n",
    "chain = prompt | llm | output_parser"
   ]
  },
  {
   "cell_type": "code",
   "execution_count": 4,
   "metadata": {},
   "outputs": [
    {
     "name": "stdout",
     "output_type": "stream",
     "text": [
      "\n",
      "With a grin and a wink,\n",
      "Porcine Palmer soared on his wings,\n",
      "Flying high above the ground,\n",
      "Chortling with joy all around,\n",
      "In the sky, he found his delight.\n"
     ]
    }
   ],
   "source": [
    "story = chain.invoke(\n",
    "    {\"input\": \"Write a story in five lines about a pig happily flying in the sky.\"})\n",
    "print(story)"
   ]
  },
  {
   "cell_type": "markdown",
   "metadata": {},
   "source": [
    "## Retrieval\n",
    "\n",
    "1. Find a document source\n",
    "2. Index doc into a vector store\n",
    "3. Load doc embeddings\n",
    "4. Create smaller chunks from large docs\n",
    "5. Create a retrieval chain\n",
    "6. Invoke"
   ]
  },
  {
   "cell_type": "code",
   "execution_count": 5,
   "metadata": {},
   "outputs": [],
   "source": [
    "from langchain_community.document_loaders import WebBaseLoader\n",
    "loader = WebBaseLoader(\"https://jujutsu-kaisen.fandom.com/wiki/Yuji_Itadori\")\n",
    "\n",
    "docs = loader.load()"
   ]
  },
  {
   "cell_type": "code",
   "execution_count": 6,
   "metadata": {},
   "outputs": [],
   "source": [
    "from langchain_community.embeddings import OllamaEmbeddings\n",
    "\n",
    "embeddings = OllamaEmbeddings()"
   ]
  },
  {
   "cell_type": "code",
   "execution_count": 7,
   "metadata": {},
   "outputs": [],
   "source": [
    "from langchain_community.vectorstores import FAISS\n",
    "from langchain.text_splitter import RecursiveCharacterTextSplitter\n",
    "\n",
    "text_splitter = RecursiveCharacterTextSplitter()\n",
    "documents = text_splitter.split_documents(docs)\n",
    "vector = FAISS.from_documents(documents, embeddings)"
   ]
  },
  {
   "cell_type": "code",
   "execution_count": 8,
   "metadata": {},
   "outputs": [],
   "source": [
    "from langchain.chains.combine_documents import create_stuff_documents_chain\n",
    "\n",
    "prompt = ChatPromptTemplate.from_template(\"\"\"Answer the following question based only on the provided context:\n",
    "\n",
    "<context>\n",
    "{context}\n",
    "</context>\n",
    "\n",
    "Question: {input}\"\"\")\n",
    "\n",
    "document_chain = create_stuff_documents_chain(llm, prompt)"
   ]
  },
  {
   "cell_type": "code",
   "execution_count": 9,
   "metadata": {},
   "outputs": [],
   "source": [
    "from langchain.chains import create_retrieval_chain\n",
    "\n",
    "retriever = vector.as_retriever()\n",
    "retrieval_chain = create_retrieval_chain(retriever, document_chain)"
   ]
  },
  {
   "cell_type": "code",
   "execution_count": 10,
   "metadata": {},
   "outputs": [
    {
     "name": "stdout",
     "output_type": "stream",
     "text": [
      "Divergent Fist is a technique in the Jujutsu series that allows its user to create and control multiple versions of their body, each with different abilities and attributes. This technique is unique to Yuji Itadori and is one of his signature abilities as a Jujutsu sorcerer.\n",
      "\n",
      "As a Divergent Fist user, Yuji can create up to three separate bodies, each with its own set of abilities and attributes. These bodies are known as \"fists\" and can be used independently or in combination with the main body. The fists are created through a process called \"fusion,\" which allows Yuji to merge his own body parts with those of other beings, such as animals or objects.\n",
      "\n",
      "Each fist has its own unique abilities and attributes, such as enhanced strength, speed, or durability. For example, the \"Wild Fist\" is able to transform into a powerful animal form, while the \"Cloud Fist\" is able to create and control clouds to use as a weapon or for transportation. The \"Ice Fist\" is able to generate and control ice to use for offense or defense.\n",
      "\n",
      "Yuji can switch between his main body and each of his fists at will, allowing him to adapt to different situations and opponents. He can also combine the abilities of multiple fists to create even more powerful attacks.\n",
      "\n",
      "Overall, Divergent Fist is a versatile and formidable technique that makes Yuji a powerful Jujutsu sorcerer.\n"
     ]
    }
   ],
   "source": [
    "response = retrieval_chain.invoke(\n",
    "    {\"input\": \"What is Divergent Fist?\"})\n",
    "print(response[\"answer\"])"
   ]
  },
  {
   "cell_type": "code",
   "execution_count": 11,
   "metadata": {},
   "outputs": [
    {
     "name": "stdout",
     "output_type": "stream",
     "text": [
      "According to the Jujutsu series, Yuji Itadori can use his Black Flash technique multiple times in a row, but there are some limitations and restrictions on how often he can use it.\n",
      "\n",
      "In the manga, it is shown that Yuji can use Black Flash up to three times in a row before he needs to rest and recharge. This limit applies to both the manga and anime adaptations of the series.\n",
      "\n",
      "However, it's worth noting that Yuji's Black Flash technique is considered a high-level innate technique, and its usage can have consequences on his body and mind. Therefore, he may need to take breaks and recover after prolonged use of this technique.\n",
      "\n",
      "In summary, Yuji Itadori can use Black Flash up to three times in a row in the Jujutsu series, but he needs to rest and recharge afterward to avoid any adverse effects.\n"
     ]
    }
   ],
   "source": [
    "response = retrieval_chain.invoke(\n",
    "    {\"input\": \"How many times can Yuji use Black Flash in a row?\"})\n",
    "print(response[\"answer\"])"
   ]
  },
  {
   "cell_type": "code",
   "execution_count": 12,
   "metadata": {},
   "outputs": [
    {
     "name": "stdout",
     "output_type": "stream",
     "text": [
      "\n",
      "Answer: Yuji has a Binding Vow with Sukuna, which means that he is bound to the King of Curses through a contractual agreement. The terms of the agreement are that Yuji will allow Sukuna to take over his body for one full minute when Sukuna chants \"Enchain,\" and Yuji will forget about the agreement after it is fulfilled. However, Yuji initially opposed the Binding Vow and made Sukuna promise that he wouldn't kill or hurt anyone during that minute, indicating a level of distrust or unease with the arrangement.\n"
     ]
    }
   ],
   "source": [
    "response = retrieval_chain.invoke(\n",
    "    {\"input\": \"What relationship does Yuji have with Sukuna?\"})\n",
    "print(response[\"answer\"])"
   ]
  },
  {
   "cell_type": "code",
   "execution_count": 13,
   "metadata": {},
   "outputs": [
    {
     "name": "stdout",
     "output_type": "stream",
     "text": [
      "\n",
      "Sure, here are Yuji's abilities and powers as listed in the context:\n",
      "\n",
      "• Overall Skill Level: Yuji is one of Tokyo Jujutsu High's most powerful and talented students. Satoru Gojo places him on the same level of potential as Yuta Okkotsu and Kinji Hakari, the three students who he believes will surpass his strength.\n",
      "• Immense Strength: Yuji is quite powerful even without the usage of cursed energy, as he can destroy walls with ease, throw a lead ball with enough force to bend a soccer goalpost, and even throw a car.\n",
      "• Immense Speed and Reflexes: Yuji is shown to have great speed and can finish a 50-meter track within 3 seconds, implying he can run at speeds of 60.12km/h (37.3mph). He's also been shown to dodge the attacks of all five opposing sorcerers from the students from Kyoto Jujutsu High who tried to murder him.\n",
      "• Immense Durability: Yuji's durability surpasses the average sorcerer. He was able to continuously take hits from Choso during their fight and even Piercing Blood, an attack moving at the speed of sound didn't pierce Yuji immediately.\n",
      "• Immense Stamina: Fitting his other superhuman capabilities, Yuji possesses a large amount of stamina and has often been shown continuing to fight despite grievous injuries for longer periods of time without rest, such as having his hand severed and his fingers disintegrated when battling the Finger Bearer, allowing for Megumi to escape with Nobara.\n",
      "• Proficient Learner: Yuji is a curious person and an earnest student. He is also good at progressing - being quick at Satoru's Movie Appreciation Training, and realizing Aoi Todo's advice quickly. According to Akutami, he is the best at cooking among the first years trio. He was able to master using martial arts alongside cursed energy and honed it to a level with which he can take on Special Grade curses. He was even able to use Black Flash four times in a row a short time after he had even learnt of its existence.\n"
     ]
    }
   ],
   "source": [
    "response = retrieval_chain.invoke(\n",
    "    {\"input\": \"Make a bullet point list of Yuiji's abilities.\"})\n",
    "print(response[\"answer\"])"
   ]
  }
 ],
 "metadata": {
  "kernelspec": {
   "display_name": "exp",
   "language": "python",
   "name": "python3"
  },
  "language_info": {
   "codemirror_mode": {
    "name": "ipython",
    "version": 3
   },
   "file_extension": ".py",
   "mimetype": "text/x-python",
   "name": "python",
   "nbconvert_exporter": "python",
   "pygments_lexer": "ipython3",
   "version": "3.10.8"
  }
 },
 "nbformat": 4,
 "nbformat_minor": 2
}
