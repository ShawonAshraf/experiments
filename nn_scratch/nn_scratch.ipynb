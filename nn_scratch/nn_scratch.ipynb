{
 "metadata": {
  "language_info": {
   "codemirror_mode": {
    "name": "ipython",
    "version": 3
   },
   "file_extension": ".py",
   "mimetype": "text/x-python",
   "name": "python",
   "nbconvert_exporter": "python",
   "pygments_lexer": "ipython3",
   "version": "3.6.12-final"
  },
  "orig_nbformat": 2,
  "kernelspec": {
   "name": "python3",
   "display_name": "Python 3"
  }
 },
 "nbformat": 4,
 "nbformat_minor": 2,
 "cells": [
  {
   "cell_type": "code",
   "execution_count": 1,
   "metadata": {},
   "outputs": [],
   "source": [
    "import pandas as pd\n",
    "import numpy as np\n",
    "\n",
    "\n",
    "# load data\n",
    "\"\"\"\n",
    "dataset url : https://archive.ics.uci.edu/ml/datasets/Airfoil+Self-Noise\n",
    "\"\"\"\n",
    "\n",
    "\n",
    "def load_data():\n",
    "    data_file = \"data.csv\"\n",
    "    df = pd.read_csv(data_file, delimiter=\"\\t\", header=None)\n",
    "\n",
    "    X = df.iloc[:, :5].to_numpy()\n",
    "    y = df[5].to_numpy()\n",
    "    y = y.reshape(-1,1)\n",
    "\n",
    "    return X, y"
   ]
  },
  {
   "cell_type": "code",
   "execution_count": 2,
   "metadata": {},
   "outputs": [],
   "source": [
    "X, y = load_data()"
   ]
  },
  {
   "cell_type": "code",
   "execution_count": 3,
   "metadata": {},
   "outputs": [],
   "source": [
    "from sklearn.model_selection import train_test_split\n",
    "\n",
    "# split into train test set\n",
    "X_train, X_test, y_train, y_test = train_test_split(\n",
    "    X, y, test_size=0.3, random_state=0)"
   ]
  },
  {
   "cell_type": "code",
   "execution_count": 4,
   "metadata": {},
   "outputs": [],
   "source": [
    "# using ReLU as activation function\n",
    "def activation(a):\n",
    "    return np.maximum(a, 0)"
   ]
  },
  {
   "cell_type": "code",
   "execution_count": 5,
   "metadata": {},
   "outputs": [],
   "source": [
    "# using mse as cost function\n",
    "from sklearn.metrics import mean_squared_error as mse\n",
    "def cost(y_pred, y_true):\n",
    "   return mse(y_pred, y_true)"
   ]
  },
  {
   "cell_type": "code",
   "execution_count": 6,
   "metadata": {},
   "outputs": [],
   "source": [
    "def relu_derivative(z):\n",
    "    return 1 * (z > 0)"
   ]
  },
  {
   "cell_type": "code",
   "execution_count": 7,
   "metadata": {},
   "outputs": [
    {
     "output_type": "execute_result",
     "data": {
      "text/plain": "array([[5.00000e+02, 8.40000e+00, 5.08000e-02, 3.96000e+01, 5.66229e-03],\n       [2.00000e+03, 1.54000e+01, 5.08000e-02, 7.13000e+01, 2.64269e-02],\n       [3.15000e+03, 1.97000e+01, 5.08000e-02, 7.13000e+01, 3.41183e-02],\n       [1.00000e+03, 1.12000e+01, 5.08000e-02, 3.96000e+01, 1.50478e-02],\n       [2.50000e+03, 1.26000e+01, 1.52400e-01, 7.13000e+01, 4.83159e-02]])"
     },
     "metadata": {},
     "execution_count": 7
    }
   ],
   "source": [
    "sample = X_train[:5, :]\n",
    "sample"
   ]
  },
  {
   "cell_type": "code",
   "execution_count": 8,
   "metadata": {},
   "outputs": [
    {
     "output_type": "execute_result",
     "data": {
      "text/plain": "(1052, 5)"
     },
     "metadata": {},
     "execution_count": 8
    }
   ],
   "source": [
    "X_train.shape"
   ]
  },
  {
   "cell_type": "code",
   "execution_count": 9,
   "metadata": {},
   "outputs": [],
   "source": [
    "# nn properties\n",
    "\n",
    "hidden_layer_width = 5\n",
    "number_of_hidden_layers = 3\n",
    "n_features = X_train.shape[1]\n",
    "\n",
    "weights_for_hidden_layers = []\n",
    "biases_for_hidden_layers = []\n",
    "\n",
    "# init weights and biases\n",
    "for _ in range(number_of_hidden_layers):\n",
    "    w = np.random.normal(size=(n_features, hidden_layer_width))\n",
    "    weights_for_hidden_layers.append(w)\n",
    "\n",
    "    b = np.random.normal(size=(hidden_layer_width, 1))\n",
    "    biases_for_hidden_layers.append(b)"
   ]
  },
  {
   "cell_type": "code",
   "execution_count": 10,
   "metadata": {},
   "outputs": [
    {
     "output_type": "execute_result",
     "data": {
      "text/plain": "array([[-0.32904012,  0.31616278, -0.49510917, -0.7275853 , -0.28130714],\n       [-0.38993569, -1.5758254 ,  0.55200194, -0.64742831,  0.1343612 ],\n       [-1.00668363,  0.92943769,  0.14488567, -1.19965484, -0.76715973],\n       [ 2.23475548,  0.38893487,  0.40808954,  1.6339929 , -0.85851622],\n       [ 0.53521947,  2.42120454,  1.82853556,  0.48403706,  1.07140922]])"
     },
     "metadata": {},
     "execution_count": 10
    }
   ],
   "source": [
    "weights_for_hidden_layers[0]"
   ]
  },
  {
   "cell_type": "code",
   "execution_count": 11,
   "metadata": {},
   "outputs": [
    {
     "output_type": "execute_result",
     "data": {
      "text/plain": "array([[ 0.20290826],\n       [ 1.09670449],\n       [-1.45907768],\n       [-0.09395609],\n       [ 0.73512238]])"
     },
     "metadata": {},
     "execution_count": 11
    }
   ],
   "source": [
    "biases_for_hidden_layers[0]"
   ]
  },
  {
   "cell_type": "code",
   "execution_count": 48,
   "metadata": {},
   "outputs": [],
   "source": [
    "# properties for the output layer\n",
    "n_output = 1 # since regression\n",
    "output_weight = np.random.normal(size=(hidden_layer_width, n_output))\n",
    "output_bias = np.random.normal()"
   ]
  },
  {
   "cell_type": "code",
   "execution_count": 49,
   "metadata": {},
   "outputs": [
    {
     "output_type": "execute_result",
     "data": {
      "text/plain": "array([[ 0.07571491],\n       [ 0.52706376],\n       [-0.03233443],\n       [ 0.61530293],\n       [ 0.47310406]])"
     },
     "metadata": {},
     "execution_count": 49
    }
   ],
   "source": [
    "output_weight"
   ]
  },
  {
   "cell_type": "code",
   "execution_count": 50,
   "metadata": {},
   "outputs": [
    {
     "output_type": "execute_result",
     "data": {
      "text/plain": "-1.55445440827507"
     },
     "metadata": {},
     "execution_count": 50
    }
   ],
   "source": [
    "output_bias"
   ]
  },
  {
   "cell_type": "code",
   "execution_count": 69,
   "metadata": {
    "tags": []
   },
   "outputs": [
    {
     "output_type": "stream",
     "name": "stdout",
     "text": "epoch = 1\nloss = 1044046732642009.2\n"
    }
   ],
   "source": [
    "# train the NN\n",
    "\n",
    "epochs = 1\n",
    "learning_rate = 0.1\n",
    "\n",
    "losses = []\n",
    "for e in range(epochs):\n",
    "    print(f\"epoch = {e + 1}\")\n",
    "\n",
    "    # forward pass\n",
    "    outputs = []\n",
    "    for x in X_train:\n",
    "        x = x.reshape((-1,1))\n",
    "\n",
    "        a = np.add(np.dot(weights_for_hidden_layers[0].T, x), biases_for_hidden_layers[0])\n",
    "        a = activation(a)\n",
    "        for i in range(1, number_of_hidden_layers):\n",
    "            a = np.add(np.dot(weights_for_hidden_layers[i].T, a), biases_for_hidden_layers[i])\n",
    "            a = activation(a)\n",
    "\n",
    "        output = np.add(np.dot(output_weight.T, a), output_bias)\n",
    "        outputs.append(output[0])\n",
    "\n",
    "    # backprop\n",
    "    outputs = np.array(outputs)\n",
    "    loss = cost(outputs, y_train)\n",
    "    losses.append(loss)\n",
    "    print(f\"loss = {loss}\")\n",
    "\n",
    "    for i in range(outputs.shape[0]):\n",
    "        o = outputs[i]\n",
    "        # last hidden layer output\n",
    "        a = np.divide(np.subtract(o, output_bias), output_weight)\n",
    "\n",
    "        # update weight\n",
    "        f = 2 * np.dot(np.mean(outputs - y_train), a)\n",
    "        output_weight -= learning_rate * f\n",
    "\n",
    "        # update bias\n",
    "        output_bias -= learning_rate * 2 * np.mean(outputs - y_train)\n",
    "\n",
    "        # now for other layers\n",
    "        h = number_of_hidden_layers - 2\n",
    "        while(h >= 0):\n",
    "            w = weights_for_hidden_layers[h]\n",
    "            b = biases_for_hidden_layers[h]\n",
    "            h -= 1\n",
    "\n",
    "\n"
   ]
  },
  {
   "cell_type": "code",
   "execution_count": 33,
   "metadata": {},
   "outputs": [
    {
     "output_type": "execute_result",
     "data": {
      "text/plain": "(1052, 1)"
     },
     "metadata": {},
     "execution_count": 33
    }
   ],
   "source": []
  }
 ]
}