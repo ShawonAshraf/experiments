{
 "cells": [
  {
   "cell_type": "code",
   "execution_count": 2,
   "id": "28280e96-47b2-4063-ac22-5c941342c488",
   "metadata": {},
   "outputs": [],
   "source": [
    "import torch\n",
    "import torch.nn as nn\n",
    "from transformers import AutoModel, AutoTokenizer\n",
    "import torch.nn.functional as F"
   ]
  },
  {
   "cell_type": "code",
   "execution_count": 3,
   "id": "abc78914-f0e5-48a6-8b75-6ee65574735c",
   "metadata": {},
   "outputs": [],
   "source": [
    "class Net(nn.Module):\n",
    "    def __init__(self, model_name=\"microsoft/xtremedistil-l6-h384-uncased\"):\n",
    "        super(SentiBERT, self).__init__()\n",
    "\n",
    "        self.bert = AutoModel.from_pretrained(model_name)\n",
    "        self.linear = nn.Linear(384, 1) \n",
    "        self.sigmoid = nn.Sigmoid()\n",
    "\n",
    "    def forward(self, input_ids, attention_mask):\n",
    "        out = self.bert(input_ids=input_ids, attention_mask=attention_mask)\n",
    "        out = out.pooler_output\n",
    "        \n",
    "        out = self.linear(out)\n",
    "        out = self.sigmoid(out)\n",
    "\n",
    "        return out"
   ]
  },
  {
   "cell_type": "code",
   "execution_count": 4,
   "id": "f908a495-068c-48dc-90b2-d4ab9a346823",
   "metadata": {},
   "outputs": [],
   "source": [
    "# https://espnet.github.io/espnet/_modules/espnet2/schedulers/noam_lr.html\n",
    "\n",
    "# https://nlp.seas.harvard.edu/2018/04/03/attention.html#optimizer\n",
    "\n",
    "\n",
    "class WarmUpOptim(object):\n",
    "    pass\n"
   ]
  },
  {
   "cell_type": "code",
   "execution_count": null,
   "id": "b315cb1b-790c-474f-bae5-500aa6561382",
   "metadata": {},
   "outputs": [],
   "source": []
  }
 ],
 "metadata": {
  "kernelspec": {
   "display_name": "Python 3 (ipykernel)",
   "language": "python",
   "name": "python3"
  },
  "language_info": {
   "codemirror_mode": {
    "name": "ipython",
    "version": 3
   },
   "file_extension": ".py",
   "mimetype": "text/x-python",
   "name": "python",
   "nbconvert_exporter": "python",
   "pygments_lexer": "ipython3",
   "version": "3.9.7"
  },
  "widgets": {
   "application/vnd.jupyter.widget-state+json": {
    "state": {},
    "version_major": 2,
    "version_minor": 0
   }
  }
 },
 "nbformat": 4,
 "nbformat_minor": 5
}
