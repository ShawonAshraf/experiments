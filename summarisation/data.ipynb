{
 "cells": [
  {
   "cell_type": "code",
   "execution_count": 1,
   "metadata": {},
   "outputs": [],
   "source": [
    "import os\n",
    "\n",
    "file_path = \"/mnt/Others/experiments/datasets/bdnews24_kaggle/bdnews24.csv\""
   ]
  },
  {
   "cell_type": "code",
   "execution_count": 2,
   "metadata": {},
   "outputs": [],
   "source": [
    "import pandas as pd\n",
    "\n",
    "df = pd.read_csv(file_path)"
   ]
  },
  {
   "cell_type": "code",
   "execution_count": 4,
   "metadata": {},
   "outputs": [],
   "source": [
    "from dataclasses import dataclass\n",
    "\n",
    "@dataclass\n",
    "class Article:\n",
    "    title: str\n",
    "    contents: str\n",
    "    \n"
   ]
  },
  {
   "cell_type": "code",
   "execution_count": 5,
   "metadata": {},
   "outputs": [],
   "source": [
    "article = Article(title=df.iloc[1][\"title\"], contents=df.iloc[1][\"contents\"])"
   ]
  },
  {
   "cell_type": "code",
   "execution_count": 6,
   "metadata": {},
   "outputs": [
    {
     "data": {
      "text/plain": [
       "'শ্রীলঙ্কা সফরে প্রধান কোচ শন উইলিয়ামস, সহকারী সারোয়ার ইমরান'"
      ]
     },
     "execution_count": 6,
     "metadata": {},
     "output_type": "execute_result"
    }
   ],
   "source": [
    "article.title"
   ]
  },
  {
   "cell_type": "code",
   "execution_count": 7,
   "metadata": {},
   "outputs": [
    {
     "data": {
      "text/plain": [
       "\"ঢাকা, ২ জুন (বিডিনিউজ টুয়েন্টি ফোর ডট কম) --- ডেভ হোয়াটমোরের উত্তরসুরী বেছে নেওয়ার কাজ থমকে আছে আপাতত। তাই বলে শ্রীলঙ্কা সফরে তো আর কোচবিহীন দল পাঠানো যায় না। ঠিক ছিল বিসিবির বেতনভোগী কোচদের মধ্য থেকেই কাউকে দায়িত্ব দেওয়া হবে। শনিবার বিসিবির কার্যনির্বাহী কমিটির সভায় ন্যাশনাল গেম ডেভলপমেন্ট ম্যানেজার শন উইলিয়ামসকে সেই দায়িত্ব দেওয়ার সিদ্ধান্ত হয়েছে। এর আগে কয়েক দফায় বাংলাদেশ 'এ' দলের কোচের দায়িত্ব পালন করা এই অস্ট্রেলিয়ান শ্রীলঙ্কা সফরে প্রধান কোচের ভূমিকা রাখবেন। আর তার সহকারী হিসেবে দায়িত্ব পালন করবেন বিসিবির পেস বোলিং একাডেমীর প্রধান কোচ সারোয়ার ইমরান। আর স্থায়ী ম্যানেজার নিয়োগের প্রক্রিয়া এখনো প্রাথমিক পর্যায়ে বলে এই সফরেও আলী আসিফ খানকেই ম্যানেজারের দায়িত্ব দেওয়া হয়েছে। এই সিদ্ধান্তটা নিয়ে অবশ্য বিতর্ক আছে। যতোদূর জানা গেছে স্থায়ী ম্যানেজার হিসেবে নিয়োগ পাওয়ার জন্য আবেদন করা প্রার্থীদের মধ্যে আলী আসিফ খানও আছেন।বিডিনিউজ টুয়েন্টি ফোর ডট কম/এমপি/২৩৫৮ঘ.\""
      ]
     },
     "execution_count": 7,
     "metadata": {},
     "output_type": "execute_result"
    }
   ],
   "source": [
    "article.contents"
   ]
  },
  {
   "cell_type": "code",
   "execution_count": null,
   "metadata": {},
   "outputs": [],
   "source": []
  }
 ],
 "metadata": {
  "kernelspec": {
   "display_name": "exp",
   "language": "python",
   "name": "python3"
  },
  "language_info": {
   "codemirror_mode": {
    "name": "ipython",
    "version": 3
   },
   "file_extension": ".py",
   "mimetype": "text/x-python",
   "name": "python",
   "nbconvert_exporter": "python",
   "pygments_lexer": "ipython3",
   "version": "3.10.8"
  }
 },
 "nbformat": 4,
 "nbformat_minor": 2
}
